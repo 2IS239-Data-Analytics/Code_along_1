{
 "cells": [
  {
   "cell_type": "markdown",
   "metadata": {
    "colab_type": "text",
    "id": "view-in-github"
   },
   "source": [
    "<a href=\"https://colab.research.google.com/github/2IS239-Data-Analytics/Code_along_1/blob/main/Analysing_Twitter_data.ipynb\" target=\"_parent\"><img src=\"https://colab.research.google.com/assets/colab-badge.svg\" alt=\"Open In Colab\"/></a>"
   ]
  },
  {
   "cell_type": "code",
   "execution_count": null,
   "metadata": {
    "id": "99gP8Ygiv4fF"
   },
   "outputs": [],
   "source": [
    "import os\n",
    "import tweepy as tw\n",
    "import pandas as pd\n",
    "from google.colab import drive  # to mount Drive to Colab notebook\n"
   ]
  },
  {
   "cell_type": "code",
   "execution_count": null,
   "metadata": {
    "colab": {
     "base_uri": "https://localhost:8080/"
    },
    "id": "1hSqzOgnappW",
    "outputId": "9e98d557-8096-4049-fd71-c190ae47c3f2"
   },
   "outputs": [],
   "source": [
    "# Connect Google Drive to Colab\n",
    "\n"
   ]
  },
  {
   "cell_type": "code",
   "execution_count": null,
   "metadata": {
    "id": "ObjHiIBVbCu8"
   },
   "outputs": [],
   "source": [
    "# Create a variable to store the data path on your drive\n"
   ]
  },
  {
   "cell_type": "code",
   "execution_count": null,
   "metadata": {
    "id": "VgpjtKt19eVv"
   },
   "outputs": [],
   "source": [
    "import json\n",
    "\n",
    "# Enter your keys/secrets as strings in the following fields\n",
    "\n",
    "\n",
    "# Save the credentials object to file\n"
   ]
  },
  {
   "cell_type": "code",
   "execution_count": null,
   "metadata": {
    "id": "cTaDlU28a5Z1"
   },
   "outputs": [],
   "source": [
    "# Load Twitter API secrets from an external JSON file\n",
    "\n"
   ]
  },
  {
   "cell_type": "code",
   "execution_count": null,
   "metadata": {
    "id": "OcFf2zePyHOQ"
   },
   "outputs": [],
   "source": [
    "from tweepy import OAuthHandler\n",
    "from tweepy import API\n",
    "\n",
    "# Consumer key authentication(consumer_key,consumer_secret can be collected from our twitter developer profile)\n",
    "\n",
    "\n",
    "# Access key authentication(access_token,access_token_secret can be collected from our twitter developer profile)\n",
    "\n",
    "\n",
    "# Set up the API with the authentication handler\n"
   ]
  },
  {
   "cell_type": "code",
   "execution_count": null,
   "metadata": {
    "id": "FxQGwMXayP-Y"
   },
   "outputs": [],
   "source": [
    "# Define the search term and the date_since date as variables\n",
    "\n",
    "#search_words = \"#flooding\"\n"
   ]
  },
  {
   "cell_type": "code",
   "execution_count": null,
   "metadata": {
    "colab": {
     "base_uri": "https://localhost:8080/"
    },
    "id": "k-aM7s27yZcs",
    "outputId": "11729610-69fa-40d2-c5bd-0ad5c39ed89e"
   },
   "outputs": [],
   "source": [
    "# Collect tweets\n"
   ]
  },
  {
   "cell_type": "code",
   "execution_count": null,
   "metadata": {
    "colab": {
     "base_uri": "https://localhost:8080/"
    },
    "id": "JX-B1jmsIxkK",
    "outputId": "60fb70f0-f113-467b-f0d7-0ca4d1243b24"
   },
   "outputs": [],
   "source": [
    "#Print out all tweets\n"
   ]
  },
  {
   "cell_type": "code",
   "execution_count": null,
   "metadata": {
    "colab": {
     "base_uri": "https://localhost:8080/",
     "height": 35
    },
    "id": "EeK2CA9Ryh1g",
    "outputId": "0c32665b-1aa1-4073-847f-6d8aea1150e1"
   },
   "outputs": [],
   "source": [
    "#Ta bort re-tweets\n"
   ]
  },
  {
   "cell_type": "code",
   "execution_count": null,
   "metadata": {
    "colab": {
     "base_uri": "https://localhost:8080/"
    },
    "id": "WxZ3xmss0O2d",
    "outputId": "720e10a4-3dbd-4634-ba7b-f6a5e7ef3b5e"
   },
   "outputs": [],
   "source": [
    "# Collect tweets\n",
    "\n"
   ]
  },
  {
   "cell_type": "code",
   "execution_count": null,
   "metadata": {
    "colab": {
     "base_uri": "https://localhost:8080/"
    },
    "id": "0sSafSKOykWG",
    "outputId": "49ab0322-5851-4509-eb49-82695bd4d4c6"
   },
   "outputs": [],
   "source": [
    "# Iterate and print tweets\n",
    "\n",
    "    "
   ]
  },
  {
   "cell_type": "markdown",
   "metadata": {
    "id": "a2K8OgTszR5m"
   },
   "source": [
    "Ladda tweets i en lista istället"
   ]
  },
  {
   "cell_type": "code",
   "execution_count": null,
   "metadata": {
    "colab": {
     "base_uri": "https://localhost:8080/"
    },
    "id": "Dz-SS-NFzT_v",
    "outputId": "825b5d98-2c0a-4a46-bed7-8125f71b634d"
   },
   "outputs": [],
   "source": [
    "# Collect tweets\n",
    "\n",
    "\n",
    "# Save a list of tweets, only the text field.\n",
    "\n",
    "#Skriv ut lista\n"
   ]
  },
  {
   "cell_type": "code",
   "execution_count": null,
   "metadata": {
    "colab": {
     "base_uri": "https://localhost:8080/"
    },
    "id": "evKKh_w10FEK",
    "outputId": "573e1b6e-0973-4b74-a700-189707a2dfc7"
   },
   "outputs": [],
   "source": [
    "#Vem har twittrat?\n"
   ]
  },
  {
   "cell_type": "markdown",
   "metadata": {
    "id": "jl4PSReV7V-W"
   },
   "source": [
    "En tweet levereras från twitters API som ett JSON objekt. För att hämta ett antal tweets och spara texten och det datum de skapats från dem i en csv-fil kan följande kod användas. Det går också att spara direkt som en JSON-fil."
   ]
  },
  {
   "cell_type": "code",
   "execution_count": null,
   "metadata": {
    "colab": {
     "base_uri": "https://localhost:8080/"
    },
    "id": "ar34yImXxCX3",
    "outputId": "678ac479-de5e-4b82-9a28-a2f522b9edb1"
   },
   "outputs": [],
   "source": [
    "import csv\n",
    "\n",
    "# Open/Create a file to append data\n",
    "\n",
    "#Use csv Writer to write tweets to cvs-file\n"
   ]
  },
  {
   "cell_type": "markdown",
   "metadata": {
    "id": "cGEtwhY_Z31L"
   },
   "source": [
    "# Det finns mängder med interna metoder för ett enda Twitterobjekt i Tweepy. VI hämtar alla tweets från en specifik användare och tittar på vilken information vi kan extrahera från en tweet."
   ]
  },
  {
   "cell_type": "code",
   "execution_count": null,
   "metadata": {
    "colab": {
     "base_uri": "https://localhost:8080/"
    },
    "id": "c1kNjSEp-SFj",
    "outputId": "d38f8175-1f8c-40e7-cfbb-f32d55df2f20"
   },
   "outputs": [],
   "source": [
    "# We create a tweet list:\n",
    "\n",
    "# We print the most recent 5 tweets:\n",
    "\n"
   ]
  },
  {
   "cell_type": "code",
   "execution_count": null,
   "metadata": {
    "colab": {
     "base_uri": "https://localhost:8080/"
    },
    "id": "6OE54Rxzd2vP",
    "outputId": "06b99ba4-2767-4726-edbb-bdc22c90bf85"
   },
   "outputs": [],
   "source": [
    "# Internal methods of a single tweet object:\n"
   ]
  },
  {
   "cell_type": "markdown",
   "metadata": {
    "id": "4_dfbHGI1Z9P"
   },
   "source": [
    "# Dags för nästa steg, data wrangling och deskriptiv statistik för att lära känna vår datamängd."
   ]
  },
  {
   "cell_type": "code",
   "execution_count": null,
   "metadata": {
    "id": "pRnf_kjl1rWQ"
   },
   "outputs": [],
   "source": [
    "import nltk as tm\n",
    "from nltk.corpus import stopwords\n",
    "import wordcloud\n",
    "import matplotlib\n",
    "from sklearn.feature_extraction.text import CountVectorizer\n",
    "# Sätt upp visualiseringen\n",
    "%matplotlib inline\n",
    "matplotlib.pyplot.rcParams['figure.figsize'] = [10, 6]"
   ]
  },
  {
   "cell_type": "code",
   "execution_count": null,
   "metadata": {
    "colab": {
     "base_uri": "https://localhost:8080/",
     "height": 419
    },
    "id": "euEAdgQS3GXW",
    "outputId": "5c1aed1f-4bfb-421f-990e-fa5a986abbd5"
   },
   "outputs": [],
   "source": [
    "#lägg data i en dataframe\n",
    "\n",
    "\n",
    "\n"
   ]
  },
  {
   "cell_type": "code",
   "execution_count": null,
   "metadata": {
    "colab": {
     "base_uri": "https://localhost:8080/",
     "height": 419
    },
    "id": "D_-XOzp97A5P",
    "outputId": "a0c5c369-ec69-439f-f7af-bc6f651978b4"
   },
   "outputs": [],
   "source": [
    "#lite mer information om varje tweet som kan vara intressant\n"
   ]
  },
  {
   "cell_type": "markdown",
   "metadata": {
    "id": "Au4VLDLw1W4-"
   },
   "source": [
    "Lite mer funktioner för att bekanta oss med den textdata vi ska analysera.."
   ]
  },
  {
   "cell_type": "code",
   "execution_count": null,
   "metadata": {
    "colab": {
     "base_uri": "https://localhost:8080/"
    },
    "id": "91c44L2z1VY5",
    "outputId": "35e5d361-6af1-42a0-b29d-5e98cf3e3c09"
   },
   "outputs": [],
   "source": []
  },
  {
   "cell_type": "code",
   "execution_count": null,
   "metadata": {
    "colab": {
     "base_uri": "https://localhost:8080/"
    },
    "id": "XA51_AXh1e_Z",
    "outputId": "f8072cba-a152-40f5-ad68-b899e7b8898d"
   },
   "outputs": [],
   "source": []
  },
  {
   "cell_type": "markdown",
   "metadata": {
    "id": "H95vFGyw05cz"
   },
   "source": [
    "# Städning av textdata"
   ]
  },
  {
   "cell_type": "code",
   "execution_count": null,
   "metadata": {
    "colab": {
     "base_uri": "https://localhost:8080/"
    },
    "id": "ji-TmanE1ziD",
    "outputId": "7c7e63f1-5a22-457f-90d5-b804eaf09899"
   },
   "outputs": [],
   "source": [
    "#Vi är ju faktiskt bara intresserade av fritexten i varje tweet, plocka ut denna kolumn\n"
   ]
  },
  {
   "cell_type": "code",
   "execution_count": null,
   "metadata": {
    "colab": {
     "base_uri": "https://localhost:8080/"
    },
    "id": "6zKKh_Kg1wt5",
    "outputId": "8b3df60c-6aa9-4b5a-95d4-70e37375f105"
   },
   "outputs": [],
   "source": [
    "#Ta bort emojiis\n"
   ]
  },
  {
   "cell_type": "code",
   "execution_count": null,
   "metadata": {
    "colab": {
     "base_uri": "https://localhost:8080/"
    },
    "id": "UA3fMR9o2H5j",
    "outputId": "c208e291-a00c-4d05-d00e-30473e63208f"
   },
   "outputs": [],
   "source": [
    "#Ta bort URL:er\n"
   ]
  },
  {
   "cell_type": "markdown",
   "metadata": {
    "id": "YeojLhth2USg"
   },
   "source": [
    "När vi städat klart behöver vi skapa en datamängd som vi kan analysera, hur det bör göras beror på vad vi vill analysera. I detta fall vill vi undersöka trender, eller ofta förekommande ämnen. För detta är en möjlighet att räkna ord (det gör man generellt \"alltid\" när man jobbar med NLP). \n",
    "\n",
    "Vad vi behöver då är en Term Document Matrix (TDM), också kallad Document Term Matrix (DTM). En TDM är en tabell som fångar antal ord i ett dokument. Exempelvis kan vi räkna ord i varje tweet och slagra detta i en rad i vår TDM. \n",
    "\n",
    "Vi kan dessutom förvänta oss att behöva utföra detta flera gånger, och därmed vill vi ha en funktion för detta. "
   ]
  },
  {
   "cell_type": "code",
   "execution_count": null,
   "metadata": {
    "colab": {
     "base_uri": "https://localhost:8080/"
    },
    "id": "snLa-HL00Xz6",
    "outputId": "cebd06c2-e402-4b0d-b206-f83b5e743a32"
   },
   "outputs": [],
   "source": [
    "tm.download('stopwords')"
   ]
  },
  {
   "cell_type": "code",
   "execution_count": null,
   "metadata": {
    "id": "ZWO3oYtL0a5l"
   },
   "outputs": [],
   "source": [
    "stopWords = set(stopwords.words('swedish'))\n",
    "#stopWords"
   ]
  },
  {
   "cell_type": "code",
   "execution_count": null,
   "metadata": {
    "id": "nSDKtIuU2Tsx"
   },
   "outputs": [],
   "source": [
    "#definiera en funktion som tar ett corpus med text och det antal som ett ord måste förkomma för att vara med i matrisen (en gång här)\n",
    "\n",
    "    #Instansiera objektet med givna inparametrar\n",
    "\n",
    "    #Skapa en matris för hela corpuset \n",
    "   \n",
    "    #Returnera den skapade matrisen som en DataFrame\n",
    "    "
   ]
  },
  {
   "cell_type": "code",
   "execution_count": null,
   "metadata": {
    "colab": {
     "base_uri": "https://localhost:8080/",
     "height": 224
    },
    "id": "6VKHNdrZH9wy",
    "outputId": "253da5b2-4bef-44bf-eadb-8375fec05cbc"
   },
   "outputs": [],
   "source": [
    "create_term_document_matrix(clean_tweets.head(5))"
   ]
  },
  {
   "cell_type": "code",
   "execution_count": null,
   "metadata": {
    "colab": {
     "base_uri": "https://localhost:8080/"
    },
    "id": "5AzUyKqgH94D",
    "outputId": "96f0490b-28ab-4b11-bd05-6d25693fbd80"
   },
   "outputs": [],
   "source": [
    "#antal rader och kolumner i vår TDM, vad betyder det?\n"
   ]
  },
  {
   "cell_type": "markdown",
   "metadata": {
    "id": "gQ02DXayK-6V"
   },
   "source": []
  },
  {
   "cell_type": "markdown",
   "metadata": {
    "id": "mWwL7Zk0K_B_"
   },
   "source": [
    "För att räkna ut de ord som är mest frekventa så definierar vi en ny funktion, som visulaiserar de mest frekvent förkommande orden."
   ]
  },
  {
   "cell_type": "code",
   "execution_count": null,
   "metadata": {
    "id": "AEOfnHgvK8KD"
   },
   "outputs": [],
   "source": [
    "def plot_top_words(tweets, num_word_instances, top_words):\n",
    "   "
   ]
  },
  {
   "cell_type": "code",
   "execution_count": null,
   "metadata": {
    "colab": {
     "base_uri": "https://localhost:8080/",
     "height": 762
    },
    "id": "o2H6VjvJLcV4",
    "outputId": "8d7c1e61-af56-41ae-81b5-905effe2a914"
   },
   "outputs": [],
   "source": [
    "#vilka ord är mest frekventa i vår sökning?\n"
   ]
  },
  {
   "cell_type": "code",
   "execution_count": null,
   "metadata": {
    "id": "_r3htBfXLyVF"
   },
   "outputs": [],
   "source": [
    "#gör om stora bokstäver till små\n"
   ]
  },
  {
   "cell_type": "code",
   "execution_count": null,
   "metadata": {
    "colab": {
     "base_uri": "https://localhost:8080/",
     "height": 781
    },
    "id": "xMkw2_SCL22k",
    "outputId": "984bae21-fae9-4ccc-9dc6-fd95fd1e7361"
   },
   "outputs": [],
   "source": [
    "top_words_lowered ..."
   ]
  },
  {
   "cell_type": "code",
   "execution_count": null,
   "metadata": {
    "colab": {
     "base_uri": "https://localhost:8080/",
     "height": 669
    },
    "id": "KZilrp5JNNv8",
    "outputId": "d2a403d3-1b3e-4e1b-f120-8f37ef44fe35"
   },
   "outputs": [],
   "source": [
    "#Jämför corpus med stora och små och bara små bokstäver\n"
   ]
  },
  {
   "cell_type": "code",
   "execution_count": null,
   "metadata": {
    "colab": {
     "base_uri": "https://localhost:8080/"
    },
    "id": "WHzg1kJgNVik",
    "outputId": "b3c1bb6d-8079-42da-f3c2-0c9a3403f7b7"
   },
   "outputs": [],
   "source": [
    "#ta bort ord som är 3 bokstäver eller kortare\n"
   ]
  },
  {
   "cell_type": "code",
   "execution_count": null,
   "metadata": {
    "colab": {
     "base_uri": "https://localhost:8080/",
     "height": 1000
    },
    "id": "uWXAIJ64NZ9J",
    "outputId": "93000606-e367-40bb-e2a5-7738e57ca951"
   },
   "outputs": [],
   "source": [
    "# Skapar ny topplista utan korta ord\n"
   ]
  }
 ],
 "metadata": {
  "colab": {
   "authorship_tag": "ABX9TyNrVPYS2Cgmg0mpQIshLroL",
   "include_colab_link": true,
   "name": "Analysing_Twitter_data.ipynb",
   "provenance": []
  },
  "kernelspec": {
   "display_name": "Python 3",
   "language": "python",
   "name": "python3"
  },
  "language_info": {
   "codemirror_mode": {
    "name": "ipython",
    "version": 3
   },
   "file_extension": ".py",
   "mimetype": "text/x-python",
   "name": "python",
   "nbconvert_exporter": "python",
   "pygments_lexer": "ipython3",
   "version": "3.7.4"
  }
 },
 "nbformat": 4,
 "nbformat_minor": 4
}
