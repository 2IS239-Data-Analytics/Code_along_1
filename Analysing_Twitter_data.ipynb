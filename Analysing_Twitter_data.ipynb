{
  "nbformat": 4,
  "nbformat_minor": 0,
  "metadata": {
    "colab": {
      "name": "Kopia av Analysing_Twitter_data.ipynb",
      "provenance": [],
      "authorship_tag": "ABX9TyOS55yysK5JGbOgqD6pZ6F0",
      "include_colab_link": true
    },
    "kernelspec": {
      "name": "python3",
      "display_name": "Python 3"
    },
    "language_info": {
      "name": "python"
    }
  },
  "cells": [
    {
      "cell_type": "markdown",
      "metadata": {
        "id": "view-in-github",
        "colab_type": "text"
      },
      "source": [
        "<a href=\"https://colab.research.google.com/github/2IS239-Data-Analytics/Code_along_1/blob/main/Analysing_Twitter_data.ipynb\" target=\"_parent\"><img src=\"https://colab.research.google.com/assets/colab-badge.svg\" alt=\"Open In Colab\"/></a>"
      ]
    },
    {
      "cell_type": "code",
      "metadata": {
        "id": "99gP8Ygiv4fF"
      },
      "source": [
        "import os\n",
        "import tweepy as tw\n",
        "import pandas as pd\n"
      ],
      "execution_count": null,
      "outputs": []
    },
    {
      "cell_type": "code",
      "metadata": {
        "id": "qDSygXDHxA9s"
      },
      "source": [
        "consumer_key= s\n",
        "consumer_secret= \n",
        "access_token= \n",
        "access_token_secret= "
      ],
      "execution_count": null,
      "outputs": []
    },
    {
      "cell_type": "code",
      "metadata": {
        "id": "OcFf2zePyHOQ"
      },
      "source": [
        "from tweepy import OAuthHandler\n",
        "from tweepy import API\n",
        "\n",
        "# Consumer key authentication(consumer_key,consumer_secret can be collected from our twitter developer profile)\n",
        "auth = OAuthHandler(consumer_key, consumer_secret)\n",
        "\n",
        "# Access key authentication(access_token,access_token_secret can be collected from our twitter developer profile)\n",
        "auth.set_access_token(access_token, access_token_secret)\n",
        "\n",
        "# Set up the API with the authentication handler\n",
        "api = API(auth)"
      ],
      "execution_count": null,
      "outputs": []
    },
    {
      "cell_type": "code",
      "metadata": {
        "id": "FxQGwMXayP-Y"
      },
      "source": [
        "# Define the search term and the date_since date as variables\n",
        "search_words = \"#översvämning\"\n",
        "#search_words = \"#flooding\"\n",
        "date_since = \"2021-08-01\""
      ],
      "execution_count": null,
      "outputs": []
    },
    {
      "cell_type": "code",
      "metadata": {
        "colab": {
          "base_uri": "https://localhost:8080/"
        },
        "id": "k-aM7s27yZcs",
        "outputId": "2e263623-27b4-466e-f448-2b06b311d745"
      },
      "source": [
        "# Collect tweets\n",
        "tweets = tw.Cursor(api.search,\n",
        "              q=search_words,\n",
        "              lang=\"sv\",\n",
        "              #lang=\"en\",\n",
        "              since=date_since).items()\n",
        "tweets\n"
      ],
      "execution_count": null,
      "outputs": [
        {
          "output_type": "execute_result",
          "data": {
            "text/plain": [
              "<tweepy.cursor.ItemIterator at 0x7f6f0c92e8d0>"
            ]
          },
          "metadata": {},
          "execution_count": 13
        }
      ]
    },
    {
      "cell_type": "code",
      "metadata": {
        "colab": {
          "base_uri": "https://localhost:8080/"
        },
        "id": "JX-B1jmsIxkK",
        "outputId": "de467d7b-9378-4ffc-9111-00111645a7b4"
      },
      "source": [
        "for tweet in tweets:\n",
        "    print(tweet.text)"
      ],
      "execution_count": null,
      "outputs": [
        {
          "output_type": "stream",
          "name": "stdout",
          "text": [
            "RT @Sjobergbild: Översvämning i Bollnäs 1916. Ljusnan har stigit till en rekordhög nivå i maj med hela 6,4 meter över det normala och samhä…\n",
            "RT @Sjobergbild: Översvämning i Bollnäs 1916. Ljusnan har stigit till en rekordhög nivå i maj med hela 6,4 meter över det normala och samhä…\n",
            "RT @Sjobergbild: Översvämning i Bollnäs 1916. Ljusnan har stigit till en rekordhög nivå i maj med hela 6,4 meter över det normala och samhä…\n",
            "RT @Sjobergbild: Översvämning i Bollnäs 1916. Ljusnan har stigit till en rekordhög nivå i maj med hela 6,4 meter över det normala och samhä…\n",
            "RT @Sjobergbild: Översvämning i Bollnäs 1916. Ljusnan har stigit till en rekordhög nivå i maj med hela 6,4 meter över det normala och samhä…\n",
            "RT @Sjobergbild: Översvämning i Bollnäs 1916. Ljusnan har stigit till en rekordhög nivå i maj med hela 6,4 meter över det normala och samhä…\n",
            "RT @Sjobergbild: Översvämning i Bollnäs 1916. Ljusnan har stigit till en rekordhög nivå i maj med hela 6,4 meter över det normala och samhä…\n",
            "Översvämning i Bollnäs 1916. Ljusnan har stigit till en rekordhög nivå i maj med hela 6,4 meter över det normala oc… https://t.co/ylSF2jQUwi\n"
          ]
        }
      ]
    },
    {
      "cell_type": "code",
      "metadata": {
        "colab": {
          "base_uri": "https://localhost:8080/",
          "height": 35
        },
        "id": "EeK2CA9Ryh1g",
        "outputId": "cdfe1d21-37a4-4402-a9d1-55bdc7684d5a"
      },
      "source": [
        "#Ta bort re-tweets\n",
        "new_search = search_words + \" -filter:retweets\"\n",
        "new_search"
      ],
      "execution_count": null,
      "outputs": [
        {
          "output_type": "execute_result",
          "data": {
            "application/vnd.google.colaboratory.intrinsic+json": {
              "type": "string"
            },
            "text/plain": [
              "'#översvämning -filter:retweets'"
            ]
          },
          "metadata": {},
          "execution_count": 15
        }
      ]
    },
    {
      "cell_type": "code",
      "metadata": {
        "colab": {
          "base_uri": "https://localhost:8080/"
        },
        "id": "WxZ3xmss0O2d",
        "outputId": "c65264f9-41ce-42a9-c782-c1eab398b949"
      },
      "source": [
        "# Collect tweets\n",
        "tweets_no_retweet = tw.Cursor(api.search,\n",
        "              q=new_search,\n",
        "              lang=\"sv\",\n",
        "              #lang=\"en\",\n",
        "              since=date_since).items()\n",
        "tweets_no_retweet\n"
      ],
      "execution_count": null,
      "outputs": [
        {
          "output_type": "execute_result",
          "data": {
            "text/plain": [
              "<tweepy.cursor.ItemIterator at 0x7f6f0c8fac10>"
            ]
          },
          "metadata": {},
          "execution_count": 20
        }
      ]
    },
    {
      "cell_type": "code",
      "metadata": {
        "colab": {
          "base_uri": "https://localhost:8080/"
        },
        "id": "0sSafSKOykWG",
        "outputId": "2941d756-4045-46be-a402-3917d9d3ab9c"
      },
      "source": [
        "# Iterate and print tweets\n",
        "for tweet in tweets_no_retweet:\n",
        "    print(tweet.text)\n",
        "    "
      ],
      "execution_count": null,
      "outputs": [
        {
          "output_type": "stream",
          "name": "stdout",
          "text": [
            "Översvämning i Bollnäs 1916. Ljusnan har stigit till en rekordhög nivå i maj med hela 6,4 meter över det normala oc… https://t.co/ylSF2jQUwi\n"
          ]
        }
      ]
    },
    {
      "cell_type": "markdown",
      "metadata": {
        "id": "a2K8OgTszR5m"
      },
      "source": [
        "Ladda tweets i en lista istället"
      ]
    },
    {
      "cell_type": "code",
      "metadata": {
        "colab": {
          "base_uri": "https://localhost:8080/"
        },
        "id": "Dz-SS-NFzT_v",
        "outputId": "55e2ef34-420f-4d17-abf9-b3ed172357de"
      },
      "source": [
        "# Collect tweets\n",
        "tweets = tw.Cursor(api.search,\n",
        "              q=search_words,\n",
        "              lang=\"sv\",\n",
        "              #lang=\"en\",\n",
        "              since=date_since).items(50)\n",
        "\n",
        "# Save a list of tweets, only the text field.\n",
        "tweet_list= [tweet.text for tweet in tweets]\n",
        "#Skriv ut lista\n",
        "tweet_list"
      ],
      "execution_count": null,
      "outputs": [
        {
          "output_type": "execute_result",
          "data": {
            "text/plain": [
              "['RT @Sjobergbild: Översvämning i Bollnäs 1916. Ljusnan har stigit till en rekordhög nivå i maj med hela 6,4 meter över det normala och samhä…',\n",
              " 'RT @Sjobergbild: Översvämning i Bollnäs 1916. Ljusnan har stigit till en rekordhög nivå i maj med hela 6,4 meter över det normala och samhä…',\n",
              " 'RT @Sjobergbild: Översvämning i Bollnäs 1916. Ljusnan har stigit till en rekordhög nivå i maj med hela 6,4 meter över det normala och samhä…',\n",
              " 'RT @Sjobergbild: Översvämning i Bollnäs 1916. Ljusnan har stigit till en rekordhög nivå i maj med hela 6,4 meter över det normala och samhä…',\n",
              " 'RT @Sjobergbild: Översvämning i Bollnäs 1916. Ljusnan har stigit till en rekordhög nivå i maj med hela 6,4 meter över det normala och samhä…',\n",
              " 'RT @Sjobergbild: Översvämning i Bollnäs 1916. Ljusnan har stigit till en rekordhög nivå i maj med hela 6,4 meter över det normala och samhä…',\n",
              " 'RT @Sjobergbild: Översvämning i Bollnäs 1916. Ljusnan har stigit till en rekordhög nivå i maj med hela 6,4 meter över det normala och samhä…',\n",
              " 'Översvämning i Bollnäs 1916. Ljusnan har stigit till en rekordhög nivå i maj med hela 6,4 meter över det normala oc… https://t.co/ylSF2jQUwi']"
            ]
          },
          "metadata": {},
          "execution_count": 22
        }
      ]
    },
    {
      "cell_type": "code",
      "metadata": {
        "colab": {
          "base_uri": "https://localhost:8080/"
        },
        "id": "evKKh_w10FEK",
        "outputId": "2463310f-616a-4159-fdb1-1c6df896d8fd"
      },
      "source": [
        "#Vem har twittrat?\n",
        "tweets = tw.Cursor(api.search,\n",
        "                       q=new_search,\n",
        "                       lang=\"sv\",\n",
        "                       since=date_since).items(5)\n",
        "                       \n",
        "users_locs = [[tweet.user.screen_name, tweet.user.location] for tweet in tweets]\n",
        "users_locs"
      ],
      "execution_count": null,
      "outputs": [
        {
          "output_type": "execute_result",
          "data": {
            "text/plain": [
              "[['Sjobergbild', 'Vilhelmina, Sverige']]"
            ]
          },
          "metadata": {},
          "execution_count": 23
        }
      ]
    },
    {
      "cell_type": "markdown",
      "metadata": {
        "id": "jl4PSReV7V-W"
      },
      "source": [
        "En tweet levereras från twitters API som ett JSON objekt. För att hämta ett antal tweets och spara texten och det datum de skapats från dem i en csv-fil kan följande kod användas. Det går också att spara direkt som en JSON-fil."
      ]
    },
    {
      "cell_type": "code",
      "metadata": {
        "colab": {
          "base_uri": "https://localhost:8080/"
        },
        "id": "ar34yImXxCX3",
        "outputId": "150576e6-4ffe-43a5-9cad-e8b74bd1fad2"
      },
      "source": [
        "import csv\n",
        "\n",
        "# Open/Create a file to append data\n",
        "csvFile = open('tweets_oversvamning.csv', 'a')\n",
        "#Use csv Writer\n",
        "csvWriter = csv.writer(csvFile)\n",
        "\n",
        "for tweet in tw.Cursor(api.search,q=search_words,count=100,\n",
        "                           lang=\"sv\",\n",
        "                           since=date_since).items(10):\n",
        "    print (tweet.created_at, tweet.text)\n",
        "    csvWriter.writerow([tweet.created_at, tweet.text.encode('utf-8')])"
      ],
      "execution_count": null,
      "outputs": [
        {
          "output_type": "stream",
          "name": "stdout",
          "text": [
            "2021-08-31 20:21:42 RT @Sjobergbild: Översvämning i Bollnäs 1916. Ljusnan har stigit till en rekordhög nivå i maj med hela 6,4 meter över det normala och samhä…\n",
            "2021-08-31 17:34:22 RT @Sjobergbild: Översvämning i Bollnäs 1916. Ljusnan har stigit till en rekordhög nivå i maj med hela 6,4 meter över det normala och samhä…\n",
            "2021-08-31 13:26:24 RT @Sjobergbild: Översvämning i Bollnäs 1916. Ljusnan har stigit till en rekordhög nivå i maj med hela 6,4 meter över det normala och samhä…\n",
            "2021-08-31 10:23:54 RT @Sjobergbild: Översvämning i Bollnäs 1916. Ljusnan har stigit till en rekordhög nivå i maj med hela 6,4 meter över det normala och samhä…\n",
            "2021-08-31 08:01:33 RT @Sjobergbild: Översvämning i Bollnäs 1916. Ljusnan har stigit till en rekordhög nivå i maj med hela 6,4 meter över det normala och samhä…\n",
            "2021-08-31 08:00:11 RT @Sjobergbild: Översvämning i Bollnäs 1916. Ljusnan har stigit till en rekordhög nivå i maj med hela 6,4 meter över det normala och samhä…\n",
            "2021-08-31 07:41:58 RT @Sjobergbild: Översvämning i Bollnäs 1916. Ljusnan har stigit till en rekordhög nivå i maj med hela 6,4 meter över det normala och samhä…\n",
            "2021-08-31 07:41:38 Översvämning i Bollnäs 1916. Ljusnan har stigit till en rekordhög nivå i maj med hela 6,4 meter över det normala oc… https://t.co/ylSF2jQUwi\n"
          ]
        }
      ]
    },
    {
      "cell_type": "markdown",
      "metadata": {
        "id": "cGEtwhY_Z31L"
      },
      "source": [
        "# Det finns mängder med interna metoder för ett enda Twitterobjekt i Tweepy. VI hämtar alla tweets från en specifik användare och tittar på vilken information vi kan extrahera från en tweet."
      ]
    },
    {
      "cell_type": "code",
      "metadata": {
        "colab": {
          "base_uri": "https://localhost:8080/"
        },
        "id": "c1kNjSEp-SFj",
        "outputId": "b3aba87b-f99d-4ea8-dcf8-f41ad8e6c0a6"
      },
      "source": [
        "# We create a tweet list as follows:\n",
        "tweets_svt = api.user_timeline(screen_name=\"svtnyheter\", count=200)\n",
        "print(\"Number of tweets extracted: {}.\\n\".format(len(tweets_svt)))\n",
        "\n",
        "# We print the most recent 5 tweets:\n",
        "print(\"5 recent tweets:\\n\")\n",
        "for tweet in tweets_svt[:5]:\n",
        "    print(tweet.text)\n",
        "    print()\n"
      ],
      "execution_count": null,
      "outputs": [
        {
          "output_type": "stream",
          "name": "stdout",
          "text": [
            "Number of tweets extracted: 200.\n",
            "\n",
            "5 recent tweets:\n",
            "\n",
            "Polisen har inlett en förundersökning om vårdslöshet i trafik, och anhöriga har underrättats.\n",
            "\n",
            "https://t.co/WudpaeW9mh\n",
            "\n",
            "Polisen tillkallade nationella bombgruppen som på plats kunde säkerställa att det handlade om en skarp handgranat.\n",
            "\n",
            "https://t.co/PyJ6uyCoUu\n",
            "\n",
            "De tre utvisade kvinnornas män uppges antingen vara döda eller försvunna.\n",
            "\n",
            "https://t.co/dIfBvYV1Yf\n",
            "\n",
            "De flesta av dem har levt hos IS över lång tid och flera av deras barn har fötts hos terrorsekten.\n",
            "\n",
            "https://t.co/6kSRnNNu7V\n",
            "\n",
            "ANALYS: \"En klimatmyndighet, kanske med en egen ”statsklimatolog”, skulle kunna få samma befogenheter som Folkhälso… https://t.co/8PlqP0BjrQ\n",
            "\n"
          ]
        }
      ]
    },
    {
      "cell_type": "code",
      "metadata": {
        "colab": {
          "base_uri": "https://localhost:8080/"
        },
        "id": "6OE54Rxzd2vP",
        "outputId": "7c900b8c-9716-468d-93c2-ba8bb22c8ee0"
      },
      "source": [
        "# Internal methods of a single tweet object:\n",
        "dir(tweets_svt[0])"
      ],
      "execution_count": null,
      "outputs": [
        {
          "output_type": "execute_result",
          "data": {
            "text/plain": [
              "['__class__',\n",
              " '__delattr__',\n",
              " '__dict__',\n",
              " '__dir__',\n",
              " '__doc__',\n",
              " '__eq__',\n",
              " '__format__',\n",
              " '__ge__',\n",
              " '__getattribute__',\n",
              " '__getstate__',\n",
              " '__gt__',\n",
              " '__hash__',\n",
              " '__init__',\n",
              " '__init_subclass__',\n",
              " '__le__',\n",
              " '__lt__',\n",
              " '__module__',\n",
              " '__ne__',\n",
              " '__new__',\n",
              " '__reduce__',\n",
              " '__reduce_ex__',\n",
              " '__repr__',\n",
              " '__setattr__',\n",
              " '__sizeof__',\n",
              " '__str__',\n",
              " '__subclasshook__',\n",
              " '__weakref__',\n",
              " '_api',\n",
              " '_json',\n",
              " 'author',\n",
              " 'contributors',\n",
              " 'coordinates',\n",
              " 'created_at',\n",
              " 'destroy',\n",
              " 'entities',\n",
              " 'favorite',\n",
              " 'favorite_count',\n",
              " 'favorited',\n",
              " 'geo',\n",
              " 'id',\n",
              " 'id_str',\n",
              " 'in_reply_to_screen_name',\n",
              " 'in_reply_to_status_id',\n",
              " 'in_reply_to_status_id_str',\n",
              " 'in_reply_to_user_id',\n",
              " 'in_reply_to_user_id_str',\n",
              " 'is_quote_status',\n",
              " 'lang',\n",
              " 'parse',\n",
              " 'parse_list',\n",
              " 'place',\n",
              " 'possibly_sensitive',\n",
              " 'retweet',\n",
              " 'retweet_count',\n",
              " 'retweeted',\n",
              " 'retweets',\n",
              " 'source',\n",
              " 'source_url',\n",
              " 'text',\n",
              " 'truncated',\n",
              " 'user']"
            ]
          },
          "metadata": {},
          "execution_count": 26
        }
      ]
    },
    {
      "cell_type": "markdown",
      "metadata": {
        "id": "4_dfbHGI1Z9P"
      },
      "source": [
        "# Dags för nästa steg, data wrangling och deskriptiv statistik för att lära känna vår datamängd."
      ]
    },
    {
      "cell_type": "code",
      "metadata": {
        "id": "pRnf_kjl1rWQ"
      },
      "source": [
        "import nltk as tm\n",
        "from nltk.corpus import stopwords\n",
        "import wordcloud\n",
        "import matplotlib\n",
        "from sklearn.feature_extraction.text import CountVectorizer\n",
        "# Sätt upp visualiseringen\n",
        "%matplotlib inline\n",
        "matplotlib.pyplot.rcParams['figure.figsize'] = [10, 6]"
      ],
      "execution_count": null,
      "outputs": []
    },
    {
      "cell_type": "code",
      "metadata": {
        "colab": {
          "base_uri": "https://localhost:8080/",
          "height": 419
        },
        "id": "euEAdgQS3GXW",
        "outputId": "2f1ac8d9-8570-4a31-cb1e-54e30ead332f"
      },
      "source": [
        "#lägg data i en dataframe\n",
        "\n",
        "svt_tweets = pd.DataFrame(data=[tweet.text for tweet in tweets_svt], columns=['Tweets'])\n",
        "svt_tweets\n",
        "\n"
      ],
      "execution_count": null,
      "outputs": [
        {
          "output_type": "execute_result",
          "data": {
            "text/html": [
              "<div>\n",
              "<style scoped>\n",
              "    .dataframe tbody tr th:only-of-type {\n",
              "        vertical-align: middle;\n",
              "    }\n",
              "\n",
              "    .dataframe tbody tr th {\n",
              "        vertical-align: top;\n",
              "    }\n",
              "\n",
              "    .dataframe thead th {\n",
              "        text-align: right;\n",
              "    }\n",
              "</style>\n",
              "<table border=\"1\" class=\"dataframe\">\n",
              "  <thead>\n",
              "    <tr style=\"text-align: right;\">\n",
              "      <th></th>\n",
              "      <th>Tweets</th>\n",
              "    </tr>\n",
              "  </thead>\n",
              "  <tbody>\n",
              "    <tr>\n",
              "      <th>0</th>\n",
              "      <td>Polisen har inlett en förundersökning om vårds...</td>\n",
              "    </tr>\n",
              "    <tr>\n",
              "      <th>1</th>\n",
              "      <td>Polisen tillkallade nationella bombgruppen som...</td>\n",
              "    </tr>\n",
              "    <tr>\n",
              "      <th>2</th>\n",
              "      <td>De tre utvisade kvinnornas män uppges antingen...</td>\n",
              "    </tr>\n",
              "    <tr>\n",
              "      <th>3</th>\n",
              "      <td>De flesta av dem har levt hos IS över lång tid...</td>\n",
              "    </tr>\n",
              "    <tr>\n",
              "      <th>4</th>\n",
              "      <td>ANALYS: \"En klimatmyndighet, kanske med en ege...</td>\n",
              "    </tr>\n",
              "    <tr>\n",
              "      <th>...</th>\n",
              "      <td>...</td>\n",
              "    </tr>\n",
              "    <tr>\n",
              "      <th>195</th>\n",
              "      <td>Kina och Ryssland öppnar för vänskapliga relat...</td>\n",
              "    </tr>\n",
              "    <tr>\n",
              "      <th>196</th>\n",
              "      <td>Sharialagar ska gälla i Afghanistan och kvinno...</td>\n",
              "    </tr>\n",
              "    <tr>\n",
              "      <th>197</th>\n",
              "      <td>Utrikesminister Ann Linde (S) kommer att hålla...</td>\n",
              "    </tr>\n",
              "    <tr>\n",
              "      <th>198</th>\n",
              "      <td>\"Vi har sett vad som kan hända på andra platse...</td>\n",
              "    </tr>\n",
              "    <tr>\n",
              "      <th>199</th>\n",
              "      <td>Talibanerna utropar ”allmän amnesti” och uppma...</td>\n",
              "    </tr>\n",
              "  </tbody>\n",
              "</table>\n",
              "<p>200 rows × 1 columns</p>\n",
              "</div>"
            ],
            "text/plain": [
              "                                                Tweets\n",
              "0    Polisen har inlett en förundersökning om vårds...\n",
              "1    Polisen tillkallade nationella bombgruppen som...\n",
              "2    De tre utvisade kvinnornas män uppges antingen...\n",
              "3    De flesta av dem har levt hos IS över lång tid...\n",
              "4    ANALYS: \"En klimatmyndighet, kanske med en ege...\n",
              "..                                                 ...\n",
              "195  Kina och Ryssland öppnar för vänskapliga relat...\n",
              "196  Sharialagar ska gälla i Afghanistan och kvinno...\n",
              "197  Utrikesminister Ann Linde (S) kommer att hålla...\n",
              "198  \"Vi har sett vad som kan hända på andra platse...\n",
              "199  Talibanerna utropar ”allmän amnesti” och uppma...\n",
              "\n",
              "[200 rows x 1 columns]"
            ]
          },
          "metadata": {},
          "execution_count": 28
        }
      ]
    },
    {
      "cell_type": "code",
      "metadata": {
        "colab": {
          "base_uri": "https://localhost:8080/",
          "height": 589
        },
        "id": "D_-XOzp97A5P",
        "outputId": "f3e12fdc-a135-4044-f76a-b5a6ad41214f"
      },
      "source": [
        "#lite mer information om varje tweet som kan vara intressant\n",
        "svt_tweets['len']  = [len(x.text) for x in tweets_svt]  # number of characters in a tweet (think length)\n",
        "svt_tweets['ID']   = [x.id for x in tweets_svt]\n",
        "svt_tweets['Source'] = [x.source for x in tweets_svt]\n",
        "svt_tweets['Likes']  = [x.favorite_count for x in tweets_svt] # favorite_count\n",
        "svt_tweets['RTs']    =  [x.retweet_count for x in tweets_svt]  # retweet count\n",
        "\n",
        "svt_tweets"
      ],
      "execution_count": null,
      "outputs": [
        {
          "output_type": "execute_result",
          "data": {
            "text/html": [
              "<div>\n",
              "<style scoped>\n",
              "    .dataframe tbody tr th:only-of-type {\n",
              "        vertical-align: middle;\n",
              "    }\n",
              "\n",
              "    .dataframe tbody tr th {\n",
              "        vertical-align: top;\n",
              "    }\n",
              "\n",
              "    .dataframe thead th {\n",
              "        text-align: right;\n",
              "    }\n",
              "</style>\n",
              "<table border=\"1\" class=\"dataframe\">\n",
              "  <thead>\n",
              "    <tr style=\"text-align: right;\">\n",
              "      <th></th>\n",
              "      <th>Tweets</th>\n",
              "      <th>len</th>\n",
              "      <th>ID</th>\n",
              "      <th>Source</th>\n",
              "      <th>Likes</th>\n",
              "      <th>RTs</th>\n",
              "    </tr>\n",
              "  </thead>\n",
              "  <tbody>\n",
              "    <tr>\n",
              "      <th>0</th>\n",
              "      <td>Polisen har inlett en förundersökning om vårds...</td>\n",
              "      <td>118</td>\n",
              "      <td>1434502071793844224</td>\n",
              "      <td>Twitter Web App</td>\n",
              "      <td>1</td>\n",
              "      <td>0</td>\n",
              "    </tr>\n",
              "    <tr>\n",
              "      <th>1</th>\n",
              "      <td>Polisen tillkallade nationella bombgruppen som...</td>\n",
              "      <td>139</td>\n",
              "      <td>1434485713538539521</td>\n",
              "      <td>Twitter Web App</td>\n",
              "      <td>5</td>\n",
              "      <td>4</td>\n",
              "    </tr>\n",
              "    <tr>\n",
              "      <th>2</th>\n",
              "      <td>De tre utvisade kvinnornas män uppges antingen...</td>\n",
              "      <td>98</td>\n",
              "      <td>1434470362276933634</td>\n",
              "      <td>Twitter Web App</td>\n",
              "      <td>14</td>\n",
              "      <td>9</td>\n",
              "    </tr>\n",
              "    <tr>\n",
              "      <th>3</th>\n",
              "      <td>De flesta av dem har levt hos IS över lång tid...</td>\n",
              "      <td>123</td>\n",
              "      <td>1434434266805440515</td>\n",
              "      <td>Twitter Web App</td>\n",
              "      <td>12</td>\n",
              "      <td>5</td>\n",
              "    </tr>\n",
              "    <tr>\n",
              "      <th>4</th>\n",
              "      <td>ANALYS: \"En klimatmyndighet, kanske med en ege...</td>\n",
              "      <td>140</td>\n",
              "      <td>1434415978557972480</td>\n",
              "      <td>Twitter Web App</td>\n",
              "      <td>50</td>\n",
              "      <td>17</td>\n",
              "    </tr>\n",
              "    <tr>\n",
              "      <th>...</th>\n",
              "      <td>...</td>\n",
              "      <td>...</td>\n",
              "      <td>...</td>\n",
              "      <td>...</td>\n",
              "      <td>...</td>\n",
              "      <td>...</td>\n",
              "    </tr>\n",
              "    <tr>\n",
              "      <th>195</th>\n",
              "      <td>Kina och Ryssland öppnar för vänskapliga relat...</td>\n",
              "      <td>129</td>\n",
              "      <td>1427856426702102531</td>\n",
              "      <td>Twitter Web App</td>\n",
              "      <td>20</td>\n",
              "      <td>8</td>\n",
              "    </tr>\n",
              "    <tr>\n",
              "      <th>196</th>\n",
              "      <td>Sharialagar ska gälla i Afghanistan och kvinno...</td>\n",
              "      <td>140</td>\n",
              "      <td>1427714064743010314</td>\n",
              "      <td>Twitter Web App</td>\n",
              "      <td>30</td>\n",
              "      <td>8</td>\n",
              "    </tr>\n",
              "    <tr>\n",
              "      <th>197</th>\n",
              "      <td>Utrikesminister Ann Linde (S) kommer att hålla...</td>\n",
              "      <td>140</td>\n",
              "      <td>1427666913237389316</td>\n",
              "      <td>Twitter Web App</td>\n",
              "      <td>7</td>\n",
              "      <td>1</td>\n",
              "    </tr>\n",
              "    <tr>\n",
              "      <th>198</th>\n",
              "      <td>\"Vi har sett vad som kan hända på andra platse...</td>\n",
              "      <td>140</td>\n",
              "      <td>1427653232139063296</td>\n",
              "      <td>Twitter Web App</td>\n",
              "      <td>29</td>\n",
              "      <td>3</td>\n",
              "    </tr>\n",
              "    <tr>\n",
              "      <th>199</th>\n",
              "      <td>Talibanerna utropar ”allmän amnesti” och uppma...</td>\n",
              "      <td>140</td>\n",
              "      <td>1427612052760240128</td>\n",
              "      <td>Twitter Web App</td>\n",
              "      <td>28</td>\n",
              "      <td>4</td>\n",
              "    </tr>\n",
              "  </tbody>\n",
              "</table>\n",
              "<p>200 rows × 6 columns</p>\n",
              "</div>"
            ],
            "text/plain": [
              "                                                Tweets  len  ...  Likes RTs\n",
              "0    Polisen har inlett en förundersökning om vårds...  118  ...      1   0\n",
              "1    Polisen tillkallade nationella bombgruppen som...  139  ...      5   4\n",
              "2    De tre utvisade kvinnornas män uppges antingen...   98  ...     14   9\n",
              "3    De flesta av dem har levt hos IS över lång tid...  123  ...     12   5\n",
              "4    ANALYS: \"En klimatmyndighet, kanske med en ege...  140  ...     50  17\n",
              "..                                                 ...  ...  ...    ...  ..\n",
              "195  Kina och Ryssland öppnar för vänskapliga relat...  129  ...     20   8\n",
              "196  Sharialagar ska gälla i Afghanistan och kvinno...  140  ...     30   8\n",
              "197  Utrikesminister Ann Linde (S) kommer att hålla...  140  ...      7   1\n",
              "198  \"Vi har sett vad som kan hända på andra platse...  140  ...     29   3\n",
              "199  Talibanerna utropar ”allmän amnesti” och uppma...  140  ...     28   4\n",
              "\n",
              "[200 rows x 6 columns]"
            ]
          },
          "metadata": {},
          "execution_count": 29
        }
      ]
    },
    {
      "cell_type": "markdown",
      "metadata": {
        "id": "Au4VLDLw1W4-"
      },
      "source": [
        "Lite mer funktioner för att bekanta oss med den textdata vi ska analysera.."
      ]
    },
    {
      "cell_type": "code",
      "metadata": {
        "colab": {
          "base_uri": "https://localhost:8080/"
        },
        "id": "91c44L2z1VY5",
        "outputId": "60550a6c-8fd7-4356-e945-5ddb3b38f3b1"
      },
      "source": [
        "svt_tweets.info()"
      ],
      "execution_count": null,
      "outputs": [
        {
          "output_type": "stream",
          "name": "stdout",
          "text": [
            "<class 'pandas.core.frame.DataFrame'>\n",
            "RangeIndex: 200 entries, 0 to 199\n",
            "Data columns (total 6 columns):\n",
            " #   Column  Non-Null Count  Dtype \n",
            "---  ------  --------------  ----- \n",
            " 0   Tweets  200 non-null    object\n",
            " 1   len     200 non-null    int64 \n",
            " 2   ID      200 non-null    int64 \n",
            " 3   Source  200 non-null    object\n",
            " 4   Likes   200 non-null    int64 \n",
            " 5   RTs     200 non-null    int64 \n",
            "dtypes: int64(4), object(2)\n",
            "memory usage: 9.5+ KB\n"
          ]
        }
      ]
    },
    {
      "cell_type": "code",
      "metadata": {
        "colab": {
          "base_uri": "https://localhost:8080/"
        },
        "id": "XA51_AXh1e_Z",
        "outputId": "1b745d88-0db8-4614-e5fb-01b8f19d782d"
      },
      "source": [
        "svt_tweets.shape"
      ],
      "execution_count": null,
      "outputs": [
        {
          "output_type": "execute_result",
          "data": {
            "text/plain": [
              "(200, 6)"
            ]
          },
          "metadata": {},
          "execution_count": 33
        }
      ]
    },
    {
      "cell_type": "markdown",
      "metadata": {
        "id": "H95vFGyw05cz"
      },
      "source": [
        "# Städning av textdata"
      ]
    },
    {
      "cell_type": "code",
      "metadata": {
        "colab": {
          "base_uri": "https://localhost:8080/"
        },
        "id": "ji-TmanE1ziD",
        "outputId": "977cb9af-bee6-4d61-d146-edf5e5aca838"
      },
      "source": [
        "#Vi är ju faktiskt bara intresserade av fritexten i varje tweet, plocka ut denna kolumn\n",
        "tweets_corpus = svt_tweets.Tweets\n",
        "tweets_corpus"
      ],
      "execution_count": null,
      "outputs": [
        {
          "output_type": "execute_result",
          "data": {
            "text/plain": [
              "0      Polisen har inlett en förundersökning om vårds...\n",
              "1      Polisen tillkallade nationella bombgruppen som...\n",
              "2      De tre utvisade kvinnornas män uppges antingen...\n",
              "3      De flesta av dem har levt hos IS över lång tid...\n",
              "4      ANALYS: \"En klimatmyndighet, kanske med en ege...\n",
              "                             ...                        \n",
              "195    Kina och Ryssland öppnar för vänskapliga relat...\n",
              "196    Sharialagar ska gälla i Afghanistan och kvinno...\n",
              "197    Utrikesminister Ann Linde (S) kommer att hålla...\n",
              "198    \"Vi har sett vad som kan hända på andra platse...\n",
              "199    Talibanerna utropar ”allmän amnesti” och uppma...\n",
              "Name: Tweets, Length: 200, dtype: object"
            ]
          },
          "metadata": {},
          "execution_count": 36
        }
      ]
    },
    {
      "cell_type": "code",
      "metadata": {
        "colab": {
          "base_uri": "https://localhost:8080/"
        },
        "id": "6zKKh_Kg1wt5",
        "outputId": "9a6ba6c7-335e-4ef5-bfa4-002d6627cb10"
      },
      "source": [
        "#Ta bort emojiis\n",
        "encode2ascii = lambda x: x.encode('ascii', errors='ignore').decode('utf-8')\n",
        "clean_tweets = tweets_corpus.apply(encode2ascii)\n",
        "clean_tweets"
      ],
      "execution_count": null,
      "outputs": [
        {
          "output_type": "execute_result",
          "data": {
            "text/plain": [
              "0      Polisen har inlett en frunderskning om vrdslsh...\n",
              "1      Polisen tillkallade nationella bombgruppen som...\n",
              "2      De tre utvisade kvinnornas mn uppges antingen ...\n",
              "3      De flesta av dem har levt hos IS ver lng tid o...\n",
              "4      ANALYS: \"En klimatmyndighet, kanske med en ege...\n",
              "                             ...                        \n",
              "195    Kina och Ryssland ppnar fr vnskapliga relation...\n",
              "196    Sharialagar ska glla i Afghanistan och kvinnor...\n",
              "197    Utrikesminister Ann Linde (S) kommer att hlla ...\n",
              "198    \"Vi har sett vad som kan hnda p andra platser ...\n",
              "199    Talibanerna utropar allmn amnesti och uppmanar...\n",
              "Name: Tweets, Length: 200, dtype: object"
            ]
          },
          "metadata": {},
          "execution_count": 38
        }
      ]
    },
    {
      "cell_type": "code",
      "metadata": {
        "colab": {
          "base_uri": "https://localhost:8080/"
        },
        "id": "UA3fMR9o2H5j",
        "outputId": "b7db8a9a-1ac1-413a-eeac-5a7f61ce2c11"
      },
      "source": [
        "clean_tweets = clean_tweets.str.replace(r'http\\S+', '')\n",
        "clean_tweets"
      ],
      "execution_count": null,
      "outputs": [
        {
          "output_type": "execute_result",
          "data": {
            "text/plain": [
              "0      Polisen har inlett en frunderskning om vrdslsh...\n",
              "1      Polisen tillkallade nationella bombgruppen som...\n",
              "2      De tre utvisade kvinnornas mn uppges antingen ...\n",
              "3      De flesta av dem har levt hos IS ver lng tid o...\n",
              "4      ANALYS: \"En klimatmyndighet, kanske med en ege...\n",
              "                             ...                        \n",
              "195    Kina och Ryssland ppnar fr vnskapliga relation...\n",
              "196    Sharialagar ska glla i Afghanistan och kvinnor...\n",
              "197    Utrikesminister Ann Linde (S) kommer att hlla ...\n",
              "198    \"Vi har sett vad som kan hnda p andra platser ...\n",
              "199    Talibanerna utropar allmn amnesti och uppmanar...\n",
              "Name: Tweets, Length: 200, dtype: object"
            ]
          },
          "metadata": {},
          "execution_count": 39
        }
      ]
    },
    {
      "cell_type": "markdown",
      "metadata": {
        "id": "YeojLhth2USg"
      },
      "source": [
        "När vi städat klart behöver vi skapa en datamängd som vi kan analysera, hur det bör göras beror på vad vi vill analysera. I detta fall vill vi undersöka trender, eller ofta förekommande ämnen. För detta är en möjlighet att räkna ord (det gör man generellt \"alltid\" när man jobbar med NLP). \n",
        "\n",
        "Vad vi behöver då är en Term Document Matrix (TDM), också kallad Document Term Matrix (DTM). En TDM är en tabell som fångar antal ord i ett dokument. Exempelvis kan vi räkna ord i varje tweet och slagra detta i en rad i vår TDM. \n",
        "\n",
        "Vi kan dessutom förvänta oss att behöva utföra detta flera gånger, och därmed vill vi ha en funktion för detta. "
      ]
    },
    {
      "cell_type": "code",
      "metadata": {
        "colab": {
          "base_uri": "https://localhost:8080/"
        },
        "id": "snLa-HL00Xz6",
        "outputId": "e20f17a3-0cb7-428f-9610-d45d0f5d79fa"
      },
      "source": [
        "tm.download('stopwords')"
      ],
      "execution_count": null,
      "outputs": [
        {
          "output_type": "stream",
          "name": "stdout",
          "text": [
            "[nltk_data] Downloading package stopwords to /root/nltk_data...\n",
            "[nltk_data]   Unzipping corpora/stopwords.zip.\n"
          ]
        },
        {
          "output_type": "execute_result",
          "data": {
            "text/plain": [
              "True"
            ]
          },
          "metadata": {},
          "execution_count": 40
        }
      ]
    },
    {
      "cell_type": "code",
      "metadata": {
        "id": "ZWO3oYtL0a5l"
      },
      "source": [
        "stopWords = set(stopwords.words('swedish'))\n",
        "#stopWords"
      ],
      "execution_count": null,
      "outputs": []
    },
    {
      "cell_type": "code",
      "metadata": {
        "id": "nSDKtIuU2Tsx"
      },
      "source": [
        "#definiera en funktion som tar ett corpus med text och det antal som ett ord måste förkomma för att vara med i matrisen (en gång här)\n",
        "def create_term_document_matrix(corpus, min_df=1):\n",
        "    #Instansiera objektet med givna inparametrar\n",
        "    cvec = CountVectorizer(min_df=min_df, stop_words=stopWords)\n",
        "    #Skapa en matris för hela corpuset \n",
        "    tfmatrix = cvec.fit_transform(corpus)\n",
        "    #Returnera den skapade matrisen som en DataFrame\n",
        "    return pd.DataFrame(data=tfmatrix.toarray(), columns=cvec.get_feature_names())"
      ],
      "execution_count": null,
      "outputs": []
    },
    {
      "cell_type": "code",
      "metadata": {
        "colab": {
          "base_uri": "https://localhost:8080/",
          "height": 224
        },
        "id": "6VKHNdrZH9wy",
        "outputId": "f71c5273-b107-45fd-8dc1-baa4d5d9e4b8"
      },
      "source": [
        "create_term_document_matrix(clean_tweets.head(5))"
      ],
      "execution_count": null,
      "outputs": [
        {
          "output_type": "execute_result",
          "data": {
            "text/html": [
              "<div>\n",
              "<style scoped>\n",
              "    .dataframe tbody tr th:only-of-type {\n",
              "        vertical-align: middle;\n",
              "    }\n",
              "\n",
              "    .dataframe tbody tr th {\n",
              "        vertical-align: top;\n",
              "    }\n",
              "\n",
              "    .dataframe thead th {\n",
              "        text-align: right;\n",
              "    }\n",
              "</style>\n",
              "<table border=\"1\" class=\"dataframe\">\n",
              "  <thead>\n",
              "    <tr style=\"text-align: right;\">\n",
              "      <th></th>\n",
              "      <th>analys</th>\n",
              "      <th>anhriga</th>\n",
              "      <th>antingen</th>\n",
              "      <th>barn</th>\n",
              "      <th>befogenheter</th>\n",
              "      <th>bombgruppen</th>\n",
              "      <th>dda</th>\n",
              "      <th>egen</th>\n",
              "      <th>flera</th>\n",
              "      <th>flesta</th>\n",
              "      <th>folkhlso</th>\n",
              "      <th>frsvunna</th>\n",
              "      <th>frunderskning</th>\n",
              "      <th>ftts</th>\n",
              "      <th>handgranat</th>\n",
              "      <th>handlade</th>\n",
              "      <th>hos</th>\n",
              "      <th>inlett</th>\n",
              "      <th>is</th>\n",
              "      <th>kanske</th>\n",
              "      <th>klimatmyndighet</th>\n",
              "      <th>kunna</th>\n",
              "      <th>kvinnornas</th>\n",
              "      <th>levt</th>\n",
              "      <th>lng</th>\n",
              "      <th>mn</th>\n",
              "      <th>nationella</th>\n",
              "      <th>plats</th>\n",
              "      <th>polisen</th>\n",
              "      <th>skarp</th>\n",
              "      <th>skerstlla</th>\n",
              "      <th>statsklimatolog</th>\n",
              "      <th>terrorsekten</th>\n",
              "      <th>tid</th>\n",
              "      <th>tillkallade</th>\n",
              "      <th>trafik</th>\n",
              "      <th>tre</th>\n",
              "      <th>underrttats</th>\n",
              "      <th>uppges</th>\n",
              "      <th>utvisade</th>\n",
              "      <th>ver</th>\n",
              "      <th>vrdslshet</th>\n",
              "    </tr>\n",
              "  </thead>\n",
              "  <tbody>\n",
              "    <tr>\n",
              "      <th>0</th>\n",
              "      <td>0</td>\n",
              "      <td>1</td>\n",
              "      <td>0</td>\n",
              "      <td>0</td>\n",
              "      <td>0</td>\n",
              "      <td>0</td>\n",
              "      <td>0</td>\n",
              "      <td>0</td>\n",
              "      <td>0</td>\n",
              "      <td>0</td>\n",
              "      <td>0</td>\n",
              "      <td>0</td>\n",
              "      <td>1</td>\n",
              "      <td>0</td>\n",
              "      <td>0</td>\n",
              "      <td>0</td>\n",
              "      <td>0</td>\n",
              "      <td>1</td>\n",
              "      <td>0</td>\n",
              "      <td>0</td>\n",
              "      <td>0</td>\n",
              "      <td>0</td>\n",
              "      <td>0</td>\n",
              "      <td>0</td>\n",
              "      <td>0</td>\n",
              "      <td>0</td>\n",
              "      <td>0</td>\n",
              "      <td>0</td>\n",
              "      <td>1</td>\n",
              "      <td>0</td>\n",
              "      <td>0</td>\n",
              "      <td>0</td>\n",
              "      <td>0</td>\n",
              "      <td>0</td>\n",
              "      <td>0</td>\n",
              "      <td>1</td>\n",
              "      <td>0</td>\n",
              "      <td>1</td>\n",
              "      <td>0</td>\n",
              "      <td>0</td>\n",
              "      <td>0</td>\n",
              "      <td>1</td>\n",
              "    </tr>\n",
              "    <tr>\n",
              "      <th>1</th>\n",
              "      <td>0</td>\n",
              "      <td>0</td>\n",
              "      <td>0</td>\n",
              "      <td>0</td>\n",
              "      <td>0</td>\n",
              "      <td>1</td>\n",
              "      <td>0</td>\n",
              "      <td>0</td>\n",
              "      <td>0</td>\n",
              "      <td>0</td>\n",
              "      <td>0</td>\n",
              "      <td>0</td>\n",
              "      <td>0</td>\n",
              "      <td>0</td>\n",
              "      <td>1</td>\n",
              "      <td>1</td>\n",
              "      <td>0</td>\n",
              "      <td>0</td>\n",
              "      <td>0</td>\n",
              "      <td>0</td>\n",
              "      <td>0</td>\n",
              "      <td>0</td>\n",
              "      <td>0</td>\n",
              "      <td>0</td>\n",
              "      <td>0</td>\n",
              "      <td>0</td>\n",
              "      <td>1</td>\n",
              "      <td>1</td>\n",
              "      <td>1</td>\n",
              "      <td>1</td>\n",
              "      <td>1</td>\n",
              "      <td>0</td>\n",
              "      <td>0</td>\n",
              "      <td>0</td>\n",
              "      <td>1</td>\n",
              "      <td>0</td>\n",
              "      <td>0</td>\n",
              "      <td>0</td>\n",
              "      <td>0</td>\n",
              "      <td>0</td>\n",
              "      <td>0</td>\n",
              "      <td>0</td>\n",
              "    </tr>\n",
              "    <tr>\n",
              "      <th>2</th>\n",
              "      <td>0</td>\n",
              "      <td>0</td>\n",
              "      <td>1</td>\n",
              "      <td>0</td>\n",
              "      <td>0</td>\n",
              "      <td>0</td>\n",
              "      <td>1</td>\n",
              "      <td>0</td>\n",
              "      <td>0</td>\n",
              "      <td>0</td>\n",
              "      <td>0</td>\n",
              "      <td>1</td>\n",
              "      <td>0</td>\n",
              "      <td>0</td>\n",
              "      <td>0</td>\n",
              "      <td>0</td>\n",
              "      <td>0</td>\n",
              "      <td>0</td>\n",
              "      <td>0</td>\n",
              "      <td>0</td>\n",
              "      <td>0</td>\n",
              "      <td>0</td>\n",
              "      <td>1</td>\n",
              "      <td>0</td>\n",
              "      <td>0</td>\n",
              "      <td>1</td>\n",
              "      <td>0</td>\n",
              "      <td>0</td>\n",
              "      <td>0</td>\n",
              "      <td>0</td>\n",
              "      <td>0</td>\n",
              "      <td>0</td>\n",
              "      <td>0</td>\n",
              "      <td>0</td>\n",
              "      <td>0</td>\n",
              "      <td>0</td>\n",
              "      <td>1</td>\n",
              "      <td>0</td>\n",
              "      <td>1</td>\n",
              "      <td>1</td>\n",
              "      <td>0</td>\n",
              "      <td>0</td>\n",
              "    </tr>\n",
              "    <tr>\n",
              "      <th>3</th>\n",
              "      <td>0</td>\n",
              "      <td>0</td>\n",
              "      <td>0</td>\n",
              "      <td>1</td>\n",
              "      <td>0</td>\n",
              "      <td>0</td>\n",
              "      <td>0</td>\n",
              "      <td>0</td>\n",
              "      <td>1</td>\n",
              "      <td>1</td>\n",
              "      <td>0</td>\n",
              "      <td>0</td>\n",
              "      <td>0</td>\n",
              "      <td>1</td>\n",
              "      <td>0</td>\n",
              "      <td>0</td>\n",
              "      <td>2</td>\n",
              "      <td>0</td>\n",
              "      <td>1</td>\n",
              "      <td>0</td>\n",
              "      <td>0</td>\n",
              "      <td>0</td>\n",
              "      <td>0</td>\n",
              "      <td>1</td>\n",
              "      <td>1</td>\n",
              "      <td>0</td>\n",
              "      <td>0</td>\n",
              "      <td>0</td>\n",
              "      <td>0</td>\n",
              "      <td>0</td>\n",
              "      <td>0</td>\n",
              "      <td>0</td>\n",
              "      <td>1</td>\n",
              "      <td>1</td>\n",
              "      <td>0</td>\n",
              "      <td>0</td>\n",
              "      <td>0</td>\n",
              "      <td>0</td>\n",
              "      <td>0</td>\n",
              "      <td>0</td>\n",
              "      <td>1</td>\n",
              "      <td>0</td>\n",
              "    </tr>\n",
              "    <tr>\n",
              "      <th>4</th>\n",
              "      <td>1</td>\n",
              "      <td>0</td>\n",
              "      <td>0</td>\n",
              "      <td>0</td>\n",
              "      <td>1</td>\n",
              "      <td>0</td>\n",
              "      <td>0</td>\n",
              "      <td>1</td>\n",
              "      <td>0</td>\n",
              "      <td>0</td>\n",
              "      <td>1</td>\n",
              "      <td>0</td>\n",
              "      <td>0</td>\n",
              "      <td>0</td>\n",
              "      <td>0</td>\n",
              "      <td>0</td>\n",
              "      <td>0</td>\n",
              "      <td>0</td>\n",
              "      <td>0</td>\n",
              "      <td>1</td>\n",
              "      <td>1</td>\n",
              "      <td>1</td>\n",
              "      <td>0</td>\n",
              "      <td>0</td>\n",
              "      <td>0</td>\n",
              "      <td>0</td>\n",
              "      <td>0</td>\n",
              "      <td>0</td>\n",
              "      <td>0</td>\n",
              "      <td>0</td>\n",
              "      <td>0</td>\n",
              "      <td>1</td>\n",
              "      <td>0</td>\n",
              "      <td>0</td>\n",
              "      <td>0</td>\n",
              "      <td>0</td>\n",
              "      <td>0</td>\n",
              "      <td>0</td>\n",
              "      <td>0</td>\n",
              "      <td>0</td>\n",
              "      <td>0</td>\n",
              "      <td>0</td>\n",
              "    </tr>\n",
              "  </tbody>\n",
              "</table>\n",
              "</div>"
            ],
            "text/plain": [
              "   analys  anhriga  antingen  barn  ...  uppges  utvisade  ver  vrdslshet\n",
              "0       0        1         0     0  ...       0         0    0          1\n",
              "1       0        0         0     0  ...       0         0    0          0\n",
              "2       0        0         1     0  ...       1         1    0          0\n",
              "3       0        0         0     1  ...       0         0    1          0\n",
              "4       1        0         0     0  ...       0         0    0          0\n",
              "\n",
              "[5 rows x 42 columns]"
            ]
          },
          "metadata": {},
          "execution_count": 50
        }
      ]
    },
    {
      "cell_type": "code",
      "metadata": {
        "colab": {
          "base_uri": "https://localhost:8080/"
        },
        "id": "5AzUyKqgH94D",
        "outputId": "788d6056-1526-44a1-e6dc-0b4ae95dacde"
      },
      "source": [
        "#antal rader och kolumner i vår TDM, vad betyder det?\n",
        "_.shape"
      ],
      "execution_count": null,
      "outputs": [
        {
          "output_type": "execute_result",
          "data": {
            "text/plain": [
              "(5, 42)"
            ]
          },
          "metadata": {},
          "execution_count": 52
        }
      ]
    },
    {
      "cell_type": "markdown",
      "metadata": {
        "id": "gQ02DXayK-6V"
      },
      "source": [
        ""
      ]
    },
    {
      "cell_type": "markdown",
      "metadata": {
        "id": "mWwL7Zk0K_B_"
      },
      "source": [
        "För att räkna ut de ord som är mest frekventa så definierar vi en ny funktion, som visulaiserar de mest frekvent förkommande orden."
      ]
    },
    {
      "cell_type": "code",
      "metadata": {
        "id": "AEOfnHgvK8KD"
      },
      "source": [
        "def plot_top_words(tweets, num_word_instances, top_words):\n",
        "    tdm_df = create_term_document_matrix(tweets, min_df=2)\n",
        "    word_frequencies = tdm_df[[x for x in tdm_df.columns if len(x) > 1]].sum()\n",
        "    sorted_words = word_frequencies.sort_values(ascending=False)\n",
        "    top_sorted_words = sorted_words[:num_word_instances]\n",
        "    top_sorted_words[:top_words].plot.bar()\n",
        "    return top_sorted_words"
      ],
      "execution_count": null,
      "outputs": []
    },
    {
      "cell_type": "code",
      "metadata": {
        "colab": {
          "base_uri": "https://localhost:8080/",
          "height": 781
        },
        "id": "o2H6VjvJLcV4",
        "outputId": "2a031607-fe31-498f-f8bf-e3b0315721dc"
      },
      "source": [
        "#vilka ord är mest frekventa i vår sökning?\n",
        "top_words = plot_top_words(clean_tweets, 20, 5)\n",
        "top_words"
      ],
      "execution_count": null,
      "outputs": [
        {
          "output_type": "execute_result",
          "data": {
            "text/plain": [
              "fr             43\n",
              "frn            20\n",
              "ska            20\n",
              "usa            17\n",
              "afghanistan    16\n",
              "kommer         16\n",
              "sger           15\n",
              "ver            14\n",
              "nr             12\n",
              "personer       10\n",
              "vill           10\n",
              "svt             9\n",
              "polisen         9\n",
              "talibanerna     8\n",
              "regeringen      8\n",
              "sverige         7\n",
              "mnga            7\n",
              "flera           7\n",
              "sitt            6\n",
              "000             6\n",
              "dtype: int64"
            ]
          },
          "metadata": {},
          "execution_count": 60
        },
        {
          "output_type": "display_data",
          "data": {
            "image/png": "[encoded data removed]",
            "text/plain": [
              "<Figure size 720x432 with 1 Axes>"
            ]
          },
          "metadata": {
            "needs_background": "light"
          }
        }
      ]
    },
    {
      "cell_type": "code",
      "metadata": {
        "id": "_r3htBfXLyVF"
      },
      "source": [
        "#gör om stora bokstäver till små\n",
        "tweets_lowered = clean_tweets.str.lower()"
      ],
      "execution_count": null,
      "outputs": []
    },
    {
      "cell_type": "code",
      "metadata": {
        "colab": {
          "base_uri": "https://localhost:8080/",
          "height": 781
        },
        "id": "xMkw2_SCL22k",
        "outputId": "87bdc9f2-210c-41a0-bc37-2067f7be19c6"
      },
      "source": [
        "top_words_lowered = plot_top_words(tweets_lowered, 20, 10)\n",
        "top_words_lowered"
      ],
      "execution_count": null,
      "outputs": [
        {
          "output_type": "execute_result",
          "data": {
            "text/plain": [
              "fr             43\n",
              "frn            20\n",
              "ska            20\n",
              "usa            17\n",
              "afghanistan    16\n",
              "kommer         16\n",
              "sger           15\n",
              "ver            14\n",
              "nr             12\n",
              "personer       10\n",
              "vill           10\n",
              "svt             9\n",
              "polisen         9\n",
              "talibanerna     8\n",
              "regeringen      8\n",
              "sverige         7\n",
              "mnga            7\n",
              "flera           7\n",
              "sitt            6\n",
              "000             6\n",
              "dtype: int64"
            ]
          },
          "metadata": {},
          "execution_count": 63
        },
        {
          "output_type": "display_data",
          "data": {
            "image/png": "[encoded data removed]",
            "text/plain": [
              "<Figure size 720x432 with 1 Axes>"
            ]
          },
          "metadata": {
            "needs_background": "light"
          }
        }
      ]
    },
    {
      "cell_type": "code",
      "metadata": {
        "colab": {
          "base_uri": "https://localhost:8080/",
          "height": 669
        },
        "id": "KZilrp5JNNv8",
        "outputId": "36536859-ff8b-4c33-b175-6840f28c294c"
      },
      "source": [
        "pd.DataFrame(\n",
        "    {\n",
        "        \"Top tweeted clean\": top_words[0:20].index,\n",
        "        \"Top tweeted lowered\": top_words_lowered[0:20].index,\n",
        "    }\n",
        ")"
      ],
      "execution_count": null,
      "outputs": [
        {
          "output_type": "execute_result",
          "data": {
            "text/html": [
              "<div>\n",
              "<style scoped>\n",
              "    .dataframe tbody tr th:only-of-type {\n",
              "        vertical-align: middle;\n",
              "    }\n",
              "\n",
              "    .dataframe tbody tr th {\n",
              "        vertical-align: top;\n",
              "    }\n",
              "\n",
              "    .dataframe thead th {\n",
              "        text-align: right;\n",
              "    }\n",
              "</style>\n",
              "<table border=\"1\" class=\"dataframe\">\n",
              "  <thead>\n",
              "    <tr style=\"text-align: right;\">\n",
              "      <th></th>\n",
              "      <th>Top tweeted clean</th>\n",
              "      <th>Top tweeted lowered</th>\n",
              "    </tr>\n",
              "  </thead>\n",
              "  <tbody>\n",
              "    <tr>\n",
              "      <th>0</th>\n",
              "      <td>fr</td>\n",
              "      <td>fr</td>\n",
              "    </tr>\n",
              "    <tr>\n",
              "      <th>1</th>\n",
              "      <td>frn</td>\n",
              "      <td>frn</td>\n",
              "    </tr>\n",
              "    <tr>\n",
              "      <th>2</th>\n",
              "      <td>ska</td>\n",
              "      <td>ska</td>\n",
              "    </tr>\n",
              "    <tr>\n",
              "      <th>3</th>\n",
              "      <td>usa</td>\n",
              "      <td>usa</td>\n",
              "    </tr>\n",
              "    <tr>\n",
              "      <th>4</th>\n",
              "      <td>afghanistan</td>\n",
              "      <td>afghanistan</td>\n",
              "    </tr>\n",
              "    <tr>\n",
              "      <th>5</th>\n",
              "      <td>kommer</td>\n",
              "      <td>kommer</td>\n",
              "    </tr>\n",
              "    <tr>\n",
              "      <th>6</th>\n",
              "      <td>sger</td>\n",
              "      <td>sger</td>\n",
              "    </tr>\n",
              "    <tr>\n",
              "      <th>7</th>\n",
              "      <td>ver</td>\n",
              "      <td>ver</td>\n",
              "    </tr>\n",
              "    <tr>\n",
              "      <th>8</th>\n",
              "      <td>nr</td>\n",
              "      <td>nr</td>\n",
              "    </tr>\n",
              "    <tr>\n",
              "      <th>9</th>\n",
              "      <td>personer</td>\n",
              "      <td>personer</td>\n",
              "    </tr>\n",
              "    <tr>\n",
              "      <th>10</th>\n",
              "      <td>vill</td>\n",
              "      <td>vill</td>\n",
              "    </tr>\n",
              "    <tr>\n",
              "      <th>11</th>\n",
              "      <td>svt</td>\n",
              "      <td>svt</td>\n",
              "    </tr>\n",
              "    <tr>\n",
              "      <th>12</th>\n",
              "      <td>polisen</td>\n",
              "      <td>polisen</td>\n",
              "    </tr>\n",
              "    <tr>\n",
              "      <th>13</th>\n",
              "      <td>talibanerna</td>\n",
              "      <td>talibanerna</td>\n",
              "    </tr>\n",
              "    <tr>\n",
              "      <th>14</th>\n",
              "      <td>regeringen</td>\n",
              "      <td>regeringen</td>\n",
              "    </tr>\n",
              "    <tr>\n",
              "      <th>15</th>\n",
              "      <td>sverige</td>\n",
              "      <td>sverige</td>\n",
              "    </tr>\n",
              "    <tr>\n",
              "      <th>16</th>\n",
              "      <td>mnga</td>\n",
              "      <td>mnga</td>\n",
              "    </tr>\n",
              "    <tr>\n",
              "      <th>17</th>\n",
              "      <td>flera</td>\n",
              "      <td>flera</td>\n",
              "    </tr>\n",
              "    <tr>\n",
              "      <th>18</th>\n",
              "      <td>sitt</td>\n",
              "      <td>sitt</td>\n",
              "    </tr>\n",
              "    <tr>\n",
              "      <th>19</th>\n",
              "      <td>000</td>\n",
              "      <td>000</td>\n",
              "    </tr>\n",
              "  </tbody>\n",
              "</table>\n",
              "</div>"
            ],
            "text/plain": [
              "   Top tweeted clean Top tweeted lowered\n",
              "0                 fr                  fr\n",
              "1                frn                 frn\n",
              "2                ska                 ska\n",
              "3                usa                 usa\n",
              "4        afghanistan         afghanistan\n",
              "5             kommer              kommer\n",
              "6               sger                sger\n",
              "7                ver                 ver\n",
              "8                 nr                  nr\n",
              "9           personer            personer\n",
              "10              vill                vill\n",
              "11               svt                 svt\n",
              "12           polisen             polisen\n",
              "13       talibanerna         talibanerna\n",
              "14        regeringen          regeringen\n",
              "15           sverige             sverige\n",
              "16              mnga                mnga\n",
              "17             flera               flera\n",
              "18              sitt                sitt\n",
              "19               000                 000"
            ]
          },
          "metadata": {},
          "execution_count": 64
        }
      ]
    },
    {
      "cell_type": "code",
      "metadata": {
        "colab": {
          "base_uri": "https://localhost:8080/"
        },
        "id": "WHzg1kJgNVik",
        "outputId": "0cfa3aa8-bd5e-49b1-d64b-ac5cc0141b2e"
      },
      "source": [
        "#ta bort ord som är 3 bokstäver eller kortare\n",
        "tweets_low_no_small = tweets_lowered.str.replace(r\"\\b\\w{1,3}\\b\", \"\")\n",
        "tweets_low_no_small"
      ],
      "execution_count": null,
      "outputs": [
        {
          "output_type": "execute_result",
          "data": {
            "text/plain": [
              "0      polisen  inlett  frunderskning  vrdslshet  tra...\n",
              "1      polisen tillkallade nationella bombgruppen   p...\n",
              "2        utvisade kvinnornas  uppges antingen vara  e...\n",
              "3       flesta    levt       flera  deras barn  ftts ...\n",
              "4      analys: \" klimatmyndighet, kanske   egen stats...\n",
              "                             ...                        \n",
              "195    kina  ryssland ppnar  vnskapliga relationer,  ...\n",
              "196    sharialagar  glla  afghanistan  kvinnor   arbe...\n",
              "197    utrikesminister  linde () kommer  hlla  presst...\n",
              "198    \"  sett    hnda  andra platser   inte lyckas  ...\n",
              "199    talibanerna utropar allmn amnesti  uppmanar kv...\n",
              "Name: Tweets, Length: 200, dtype: object"
            ]
          },
          "metadata": {},
          "execution_count": 67
        }
      ]
    },
    {
      "cell_type": "code",
      "metadata": {
        "colab": {
          "base_uri": "https://localhost:8080/",
          "height": 1000
        },
        "id": "uWXAIJ64NZ9J",
        "outputId": "cceb7188-653e-4991-a604-6337e7f4ae0e"
      },
      "source": [
        "# Skapar ny topplista utan korta ord\n",
        "top_words_low_no_small = plot_top_words(tweets_low_no_small, 50, 30)\n",
        "top_words_low_no_small"
      ],
      "execution_count": null,
      "outputs": [
        {
          "output_type": "execute_result",
          "data": {
            "text/plain": [
              "afghanistan       16\n",
              "kommer            16\n",
              "sger              15\n",
              "personer          10\n",
              "vill              10\n",
              "polisen            9\n",
              "talibanerna        8\n",
              "regeringen         8\n",
              "sverige            7\n",
              "mnga               7\n",
              "flera              7\n",
              "enligt             6\n",
              "andersson          6\n",
              "tidigare           6\n",
              "bara               6\n",
              "sitt               6\n",
              "kabul              6\n",
              "mannen             5\n",
              "finns              5\n",
              "svensk             5\n",
              "person             5\n",
              "kvinnor            5\n",
              "kunna              5\n",
              "partiledare        4\n",
              "ocks               4\n",
              "miljarder          4\n",
              "finansminister     4\n",
              "fler               4\n",
              "mnniskor           4\n",
              "hela               4\n",
              "avgr               4\n",
              "just               4\n",
              "kina               4\n",
              "klart              4\n",
              "kritik             4\n",
              "lfven              4\n",
              "landet             4\n",
              "magdalena          3\n",
              "mste               3\n",
              "innan              3\n",
              "elever             3\n",
              "orkanen            3\n",
              "kring              3\n",
              "eslv               3\n",
              "explosion          3\n",
              "kronor             3\n",
              "mord               3\n",
              "flesta             3\n",
              "misstnkta          3\n",
              "linde              3\n",
              "dtype: int64"
            ]
          },
          "metadata": {},
          "execution_count": 68
        },
        {
          "output_type": "display_data",
          "data": {
            "image/png": "[encoded data removed]",
            "text/plain": [
              "<Figure size 720x432 with 1 Axes>"
            ]
          },
          "metadata": {
            "needs_background": "light"
          }
        }
      ]
    }
  ]
}