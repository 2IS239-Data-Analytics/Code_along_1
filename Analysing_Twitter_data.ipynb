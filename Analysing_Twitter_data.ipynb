{
  "cells": [
    {
      "cell_type": "markdown",
      "metadata": {
        "id": "view-in-github",
        "colab_type": "text"
      },
      "source": [
        "<a href=\"https://colab.research.google.com/github/2IS239-Data-Analytics/Code_along_1/blob/main/Analysing_Twitter_data.ipynb\" target=\"_parent\"><img src=\"https://colab.research.google.com/assets/colab-badge.svg\" alt=\"Open In Colab\"/></a>"
      ]
    },
    {
      "cell_type": "code",
      "execution_count": 1,
      "metadata": {
        "id": "99gP8Ygiv4fF"
      },
      "outputs": [],
      "source": [
        "import os\n",
        "import tweepy as tw\n",
        "import pandas as pd\n",
        "from google.colab import drive  # to mount Drive to Colab notebook\n"
      ]
    },
    {
      "cell_type": "code",
      "execution_count": 2,
      "metadata": {
        "colab": {
          "base_uri": "https://localhost:8080/"
        },
        "id": "1hSqzOgnappW",
        "outputId": "73cbf1c5-2768-4c33-f196-afafc30f6634"
      },
      "outputs": [
        {
          "output_type": "stream",
          "name": "stdout",
          "text": [
            "Mounted at /content/gdrive\n"
          ]
        }
      ],
      "source": [
        "# Connect Google Drive to Colab\n",
        "drive.mount('/content/gdrive')\n"
      ]
    },
    {
      "cell_type": "code",
      "execution_count": 3,
      "metadata": {
        "id": "ObjHiIBVbCu8"
      },
      "outputs": [],
      "source": [
        "# Create a variable to store the data path on your drive\n",
        "path = './gdrive/My Drive/Data_DA_HT22'"
      ]
    },
    {
      "cell_type": "code",
      "execution_count": 7,
      "metadata": {
        "id": "VgpjtKt19eVv"
      },
      "outputs": [],
      "source": [
        "import json\n",
        "\n",
        "# Enter your keys/secrets as strings in the following fields\n",
        "credentials = {}\n",
        "credentials['CONSUMER_KEY'] = #your credentials\n",
        "credentials['CONSUMER_SECRET'] = #your credentials\n",
        "credentials['ACCESS_TOKEN'] = #your credentials \n",
        "credentials['ACCESS_SECRET'] = #your credentials \n",
        "\n",
        "# Save the credentials object to file\n",
        "with open(path + \"/secrets.json\", \"w\") as file:\n",
        "    json.dump(credentials, file)"
      ]
    },
    {
      "cell_type": "code",
      "execution_count": 9,
      "metadata": {
        "id": "cTaDlU28a5Z1"
      },
      "outputs": [],
      "source": [
        "# Load Twitter API secrets from an external JSON file\n",
        "secrets = json.loads(open(path + '/secrets.json').read())\n",
        "consumer_key = secrets['CONSUMER_KEY']\n",
        "consumer_secret = secrets['CONSUMER_SECRET']\n",
        "access_token = secrets['ACCESS_TOKEN']\n",
        "access_token_secret = secrets['ACCESS_SECRET']\n"
      ]
    },
    {
      "cell_type": "code",
      "execution_count": 10,
      "metadata": {
        "id": "OcFf2zePyHOQ"
      },
      "outputs": [],
      "source": [
        "from tweepy import OAuthHandler\n",
        "from tweepy import API\n",
        "\n",
        "# Consumer key authentication(consumer_key,consumer_secret can be collected from our twitter developer profile)\n",
        "auth = OAuthHandler(consumer_key, consumer_secret)\n",
        "\n",
        "# Access key authentication(access_token,access_token_secret can be collected from our twitter developer profile)\n",
        "auth.set_access_token(access_token, access_token_secret)\n",
        "\n",
        "# Set up the API with the authentication handler\n",
        "api = API(auth)"
      ]
    },
    {
      "cell_type": "code",
      "execution_count": 15,
      "metadata": {
        "id": "FxQGwMXayP-Y"
      },
      "outputs": [],
      "source": [
        "# Define the search term and the date_since date as variables\n",
        "search_words = \"#översvämning\"\n",
        "#search_words = \"#flooding\"\n",
        "date_since = \"2022-08-01\""
      ]
    },
    {
      "cell_type": "code",
      "execution_count": 16,
      "metadata": {
        "colab": {
          "base_uri": "https://localhost:8080/"
        },
        "id": "k-aM7s27yZcs",
        "outputId": "4e2ced31-a31f-4128-fc9f-8bbc68d5e215"
      },
      "outputs": [
        {
          "output_type": "execute_result",
          "data": {
            "text/plain": [
              "<tweepy.cursor.ItemIterator at 0x7faa8d9a8990>"
            ]
          },
          "metadata": {},
          "execution_count": 16
        }
      ],
      "source": [
        "# Collect tweets\n",
        "tweets = tw.Cursor(api.search,\n",
        "              q=search_words,\n",
        "              lang=\"sv\",\n",
        "              #lang=\"en\",\n",
        "              since=date_since).items()\n",
        "tweets\n"
      ]
    },
    {
      "cell_type": "code",
      "execution_count": 17,
      "metadata": {
        "colab": {
          "base_uri": "https://localhost:8080/"
        },
        "id": "JX-B1jmsIxkK",
        "outputId": "e9a8d159-4fae-4a13-c46a-d5fb918a1648"
      },
      "outputs": [
        {
          "output_type": "stream",
          "name": "stdout",
          "text": [
            "Pakistan is facing worst of the climate crisis right now so be kind &amp; help at little to @AlkhidmatOrg \n",
            "Donate… https://t.co/lyAjmadatq\n",
            "RT @NDNews_Weather: Flooding in Siebnen due to storms in Europe, Switzerland.\n",
            "\n",
            "📅 August 19\n",
            "Översvämningar i Siebnen på grund av stormar i E…\n",
            "RT @FatalisT69: Flooding in Siebnen due to storms in Europe, Switzerland.\n",
            "\n",
            "📅 August 19\n",
            "Översvämningar i Siebnen på grund av stormar i Europ…\n"
          ]
        }
      ],
      "source": [
        "for tweet in tweets:\n",
        "    print(tweet.text)"
      ]
    },
    {
      "cell_type": "code",
      "execution_count": 18,
      "metadata": {
        "colab": {
          "base_uri": "https://localhost:8080/",
          "height": 35
        },
        "id": "EeK2CA9Ryh1g",
        "outputId": "49e55937-331b-4b43-9432-5d0b0646b87b"
      },
      "outputs": [
        {
          "output_type": "execute_result",
          "data": {
            "text/plain": [
              "'#översvämning -filter:retweets'"
            ],
            "application/vnd.google.colaboratory.intrinsic+json": {
              "type": "string"
            }
          },
          "metadata": {},
          "execution_count": 18
        }
      ],
      "source": [
        "#Ta bort re-tweets\n",
        "new_search = search_words + \" -filter:retweets\"\n",
        "new_search"
      ]
    },
    {
      "cell_type": "code",
      "execution_count": 20,
      "metadata": {
        "colab": {
          "base_uri": "https://localhost:8080/"
        },
        "id": "WxZ3xmss0O2d",
        "outputId": "e3e58cbe-2254-4621-c931-ddacbc7fcbb7"
      },
      "outputs": [
        {
          "output_type": "execute_result",
          "data": {
            "text/plain": [
              "<tweepy.cursor.ItemIterator at 0x7faa8d9ba890>"
            ]
          },
          "metadata": {},
          "execution_count": 20
        }
      ],
      "source": [
        "# Collect tweets\n",
        "tweets_no_retweet = tw.Cursor(api.search,\n",
        "              q=new_search,\n",
        "              lang=\"sv\",\n",
        "              #lang=\"en\",\n",
        "              since=date_since).items()\n",
        "tweets_no_retweet\n"
      ]
    },
    {
      "cell_type": "code",
      "execution_count": 21,
      "metadata": {
        "colab": {
          "base_uri": "https://localhost:8080/"
        },
        "id": "0sSafSKOykWG",
        "outputId": "ca427ed1-f2c9-4c90-c080-d88fb6d19532"
      },
      "outputs": [
        {
          "output_type": "stream",
          "name": "stdout",
          "text": [
            "Pakistan is facing worst of the climate crisis right now so be kind &amp; help at little to @AlkhidmatOrg \n",
            "Donate… https://t.co/lyAjmadatq\n"
          ]
        }
      ],
      "source": [
        "# Iterate and print tweets\n",
        "for tweet in tweets_no_retweet:\n",
        "    print(tweet.text)\n",
        "    "
      ]
    },
    {
      "cell_type": "markdown",
      "metadata": {
        "id": "a2K8OgTszR5m"
      },
      "source": [
        "Ladda tweets i en lista istället"
      ]
    },
    {
      "cell_type": "code",
      "execution_count": 22,
      "metadata": {
        "colab": {
          "base_uri": "https://localhost:8080/"
        },
        "id": "Dz-SS-NFzT_v",
        "outputId": "59ecc71d-26e7-4812-8248-52bab1cefdb9"
      },
      "outputs": [
        {
          "output_type": "execute_result",
          "data": {
            "text/plain": [
              "['Pakistan is facing worst of the climate crisis right now so be kind &amp; help at little to @AlkhidmatOrg \\nDonate… https://t.co/lyAjmadatq',\n",
              " 'RT @NDNews_Weather: Flooding in Siebnen due to storms in Europe, Switzerland.\\n\\n📅 August 19\\nÖversvämningar i Siebnen på grund av stormar i E…',\n",
              " 'RT @FatalisT69: Flooding in Siebnen due to storms in Europe, Switzerland.\\n\\n📅 August 19\\nÖversvämningar i Siebnen på grund av stormar i Europ…']"
            ]
          },
          "metadata": {},
          "execution_count": 22
        }
      ],
      "source": [
        "# Collect tweets\n",
        "tweets = tw.Cursor(api.search,\n",
        "              q=search_words,\n",
        "              lang=\"sv\",\n",
        "              #lang=\"en\",\n",
        "              since=date_since).items(50)\n",
        "\n",
        "# Save a list of tweets, only the text field.\n",
        "tweet_list= [tweet.text for tweet in tweets]\n",
        "#Skriv ut lista\n",
        "tweet_list"
      ]
    },
    {
      "cell_type": "code",
      "execution_count": 23,
      "metadata": {
        "colab": {
          "base_uri": "https://localhost:8080/"
        },
        "id": "evKKh_w10FEK",
        "outputId": "c06f0512-8914-47c2-c5c3-df36729785bc"
      },
      "outputs": [
        {
          "output_type": "execute_result",
          "data": {
            "text/plain": [
              "[['Bint_e_Sadiq', 'پاکستان/سویڈن']]"
            ]
          },
          "metadata": {},
          "execution_count": 23
        }
      ],
      "source": [
        "#Vem har twittrat?\n",
        "tweets = tw.Cursor(api.search,\n",
        "                       q=new_search,\n",
        "                       lang=\"sv\",\n",
        "                       since=date_since).items(5)\n",
        "                       \n",
        "users_locs = [[tweet.user.screen_name, tweet.user.location] for tweet in tweets]\n",
        "users_locs"
      ]
    },
    {
      "cell_type": "markdown",
      "metadata": {
        "id": "jl4PSReV7V-W"
      },
      "source": [
        "En tweet levereras från twitters API som ett JSON objekt. För att hämta ett antal tweets och spara texten och det datum de skapats från dem i en csv-fil kan följande kod användas. Det går också att spara direkt som en JSON-fil."
      ]
    },
    {
      "cell_type": "code",
      "execution_count": 24,
      "metadata": {
        "colab": {
          "base_uri": "https://localhost:8080/"
        },
        "id": "ar34yImXxCX3",
        "outputId": "290753f9-0b27-48ec-8430-4f5690b54990"
      },
      "outputs": [
        {
          "output_type": "stream",
          "name": "stdout",
          "text": [
            "2022-08-28 17:46:34 Pakistan is facing worst of the climate crisis right now so be kind &amp; help at little to @AlkhidmatOrg \n",
            "Donate… https://t.co/lyAjmadatq\n",
            "2022-08-22 18:46:06 RT @NDNews_Weather: Flooding in Siebnen due to storms in Europe, Switzerland.\n",
            "\n",
            "📅 August 19\n",
            "Översvämningar i Siebnen på grund av stormar i E…\n",
            "2022-08-21 00:08:54 RT @FatalisT69: Flooding in Siebnen due to storms in Europe, Switzerland.\n",
            "\n",
            "📅 August 19\n",
            "Översvämningar i Siebnen på grund av stormar i Europ…\n"
          ]
        }
      ],
      "source": [
        "import csv\n",
        "\n",
        "# Open/Create a file to append data\n",
        "csvFile = open(path + '/tweets_oversvamning.csv', 'a')\n",
        "#Use csv Writer\n",
        "csvWriter = csv.writer(csvFile)\n",
        "\n",
        "for tweet in tw.Cursor(api.search,q=search_words,count=100,\n",
        "                           lang=\"sv\",\n",
        "                           since=date_since).items(10):\n",
        "    print (tweet.created_at, tweet.text)\n",
        "    csvWriter.writerow([tweet.created_at, tweet.text.encode('utf-8')])"
      ]
    },
    {
      "cell_type": "markdown",
      "metadata": {
        "id": "cGEtwhY_Z31L"
      },
      "source": [
        "# Det finns mängder med interna metoder för ett enda Twitterobjekt i Tweepy. VI hämtar alla tweets från en specifik användare och tittar på vilken information vi kan extrahera från en tweet."
      ]
    },
    {
      "cell_type": "code",
      "execution_count": 25,
      "metadata": {
        "colab": {
          "base_uri": "https://localhost:8080/"
        },
        "id": "c1kNjSEp-SFj",
        "outputId": "7e267566-c2cc-4933-b2e8-92edc36f75c0"
      },
      "outputs": [
        {
          "output_type": "stream",
          "name": "stdout",
          "text": [
            "Number of tweets extracted: 200.\n",
            "\n",
            "5 recent tweets:\n",
            "\n",
            "Naturbeteskött växer långsamt och djuren lever länge innan de går till slakt. Det gör att de har stor påverkan på k… https://t.co/NZ65DYJFU3\n",
            "\n",
            "Klockan 12:38 slog färjan Stena Scandica larm, en brand hade brutit ut på deras bildäck och nu kämpade besättningen… https://t.co/oSj0UhnpGi\n",
            "\n",
            "Inflation och skenande elpriser gör att vi pratar om pengar som aldrig förr. Är det okej att skryta om sin ekonomi?… https://t.co/e3Dg9lBQvC\n",
            "\n",
            "Tonåringen begärdes häktad i sin frånvaro.\n",
            "\n",
            "https://t.co/rdtcsKC8NA\n",
            "\n",
            "Det brinner på ett bildäck på en passagerarfärja utanför Gotska Sandön. \"Vi har larmat ut alla tillgängliga enheter… https://t.co/phAnGbLcrI\n",
            "\n"
          ]
        }
      ],
      "source": [
        "# We create a tweet list as follows:\n",
        "tweets_svt = api.user_timeline(screen_name=\"svtnyheter\", count=200)\n",
        "print(\"Number of tweets extracted: {}.\\n\".format(len(tweets_svt)))\n",
        "\n",
        "# We print the most recent 5 tweets:\n",
        "print(\"5 recent tweets:\\n\")\n",
        "for tweet in tweets_svt[:5]:\n",
        "    print(tweet.text)\n",
        "    print()\n"
      ]
    },
    {
      "cell_type": "code",
      "execution_count": 26,
      "metadata": {
        "colab": {
          "base_uri": "https://localhost:8080/"
        },
        "id": "6OE54Rxzd2vP",
        "outputId": "a5bdc22a-49dc-4a34-c844-5635dc128d45"
      },
      "outputs": [
        {
          "output_type": "execute_result",
          "data": {
            "text/plain": [
              "['__class__',\n",
              " '__delattr__',\n",
              " '__dict__',\n",
              " '__dir__',\n",
              " '__doc__',\n",
              " '__eq__',\n",
              " '__format__',\n",
              " '__ge__',\n",
              " '__getattribute__',\n",
              " '__getstate__',\n",
              " '__gt__',\n",
              " '__hash__',\n",
              " '__init__',\n",
              " '__init_subclass__',\n",
              " '__le__',\n",
              " '__lt__',\n",
              " '__module__',\n",
              " '__ne__',\n",
              " '__new__',\n",
              " '__reduce__',\n",
              " '__reduce_ex__',\n",
              " '__repr__',\n",
              " '__setattr__',\n",
              " '__sizeof__',\n",
              " '__str__',\n",
              " '__subclasshook__',\n",
              " '__weakref__',\n",
              " '_api',\n",
              " '_json',\n",
              " 'author',\n",
              " 'contributors',\n",
              " 'coordinates',\n",
              " 'created_at',\n",
              " 'destroy',\n",
              " 'entities',\n",
              " 'favorite',\n",
              " 'favorite_count',\n",
              " 'favorited',\n",
              " 'geo',\n",
              " 'id',\n",
              " 'id_str',\n",
              " 'in_reply_to_screen_name',\n",
              " 'in_reply_to_status_id',\n",
              " 'in_reply_to_status_id_str',\n",
              " 'in_reply_to_user_id',\n",
              " 'in_reply_to_user_id_str',\n",
              " 'is_quote_status',\n",
              " 'lang',\n",
              " 'parse',\n",
              " 'parse_list',\n",
              " 'place',\n",
              " 'possibly_sensitive',\n",
              " 'retweet',\n",
              " 'retweet_count',\n",
              " 'retweeted',\n",
              " 'retweets',\n",
              " 'source',\n",
              " 'source_url',\n",
              " 'text',\n",
              " 'truncated',\n",
              " 'user']"
            ]
          },
          "metadata": {},
          "execution_count": 26
        }
      ],
      "source": [
        "# Internal methods of a single tweet object:\n",
        "dir(tweets_svt[0])"
      ]
    },
    {
      "cell_type": "markdown",
      "metadata": {
        "id": "4_dfbHGI1Z9P"
      },
      "source": [
        "# Dags för nästa steg, data wrangling och deskriptiv statistik för att lära känna vår datamängd."
      ]
    },
    {
      "cell_type": "code",
      "execution_count": 27,
      "metadata": {
        "id": "pRnf_kjl1rWQ"
      },
      "outputs": [],
      "source": [
        "import nltk as tm\n",
        "from nltk.corpus import stopwords\n",
        "import wordcloud\n",
        "import matplotlib\n",
        "from sklearn.feature_extraction.text import CountVectorizer\n",
        "# Sätt upp visualiseringen\n",
        "%matplotlib inline\n",
        "matplotlib.pyplot.rcParams['figure.figsize'] = [10, 6]"
      ]
    },
    {
      "cell_type": "code",
      "execution_count": 28,
      "metadata": {
        "colab": {
          "base_uri": "https://localhost:8080/",
          "height": 424
        },
        "id": "euEAdgQS3GXW",
        "outputId": "12c894f7-8433-4268-aaae-afeec3ce9544"
      },
      "outputs": [
        {
          "output_type": "execute_result",
          "data": {
            "text/plain": [
              "                                                Tweets\n",
              "0    Naturbeteskött växer långsamt och djuren lever...\n",
              "1    Klockan 12:38 slog färjan Stena Scandica larm,...\n",
              "2    Inflation och skenande elpriser gör att vi pra...\n",
              "3    Tonåringen begärdes häktad i sin frånvaro.\\n\\n...\n",
              "4    Det brinner på ett bildäck på en passagerarfär...\n",
              "..                                                 ...\n",
              "195  Den ryska ekonomin går betydligt sämre än vad ...\n",
              "196  Inflationsmålet behöver höjas. Det säger profe...\n",
              "197  Turerna kring FBI-razzian vid expresidenten Do...\n",
              "198  Inflationstakten i Sverige nådde 8 procent i j...\n",
              "199  Från och med nu är det fritt fram för politisk...\n",
              "\n",
              "[200 rows x 1 columns]"
            ],
            "text/html": [
              "\n",
              "  <div id=\"df-50f6d270-a656-40c0-87ae-396a1386eb4c\">\n",
              "    <div class=\"colab-df-container\">\n",
              "      <div>\n",
              "<style scoped>\n",
              "    .dataframe tbody tr th:only-of-type {\n",
              "        vertical-align: middle;\n",
              "    }\n",
              "\n",
              "    .dataframe tbody tr th {\n",
              "        vertical-align: top;\n",
              "    }\n",
              "\n",
              "    .dataframe thead th {\n",
              "        text-align: right;\n",
              "    }\n",
              "</style>\n",
              "<table border=\"1\" class=\"dataframe\">\n",
              "  <thead>\n",
              "    <tr style=\"text-align: right;\">\n",
              "      <th></th>\n",
              "      <th>Tweets</th>\n",
              "    </tr>\n",
              "  </thead>\n",
              "  <tbody>\n",
              "    <tr>\n",
              "      <th>0</th>\n",
              "      <td>Naturbeteskött växer långsamt och djuren lever...</td>\n",
              "    </tr>\n",
              "    <tr>\n",
              "      <th>1</th>\n",
              "      <td>Klockan 12:38 slog färjan Stena Scandica larm,...</td>\n",
              "    </tr>\n",
              "    <tr>\n",
              "      <th>2</th>\n",
              "      <td>Inflation och skenande elpriser gör att vi pra...</td>\n",
              "    </tr>\n",
              "    <tr>\n",
              "      <th>3</th>\n",
              "      <td>Tonåringen begärdes häktad i sin frånvaro.\\n\\n...</td>\n",
              "    </tr>\n",
              "    <tr>\n",
              "      <th>4</th>\n",
              "      <td>Det brinner på ett bildäck på en passagerarfär...</td>\n",
              "    </tr>\n",
              "    <tr>\n",
              "      <th>...</th>\n",
              "      <td>...</td>\n",
              "    </tr>\n",
              "    <tr>\n",
              "      <th>195</th>\n",
              "      <td>Den ryska ekonomin går betydligt sämre än vad ...</td>\n",
              "    </tr>\n",
              "    <tr>\n",
              "      <th>196</th>\n",
              "      <td>Inflationsmålet behöver höjas. Det säger profe...</td>\n",
              "    </tr>\n",
              "    <tr>\n",
              "      <th>197</th>\n",
              "      <td>Turerna kring FBI-razzian vid expresidenten Do...</td>\n",
              "    </tr>\n",
              "    <tr>\n",
              "      <th>198</th>\n",
              "      <td>Inflationstakten i Sverige nådde 8 procent i j...</td>\n",
              "    </tr>\n",
              "    <tr>\n",
              "      <th>199</th>\n",
              "      <td>Från och med nu är det fritt fram för politisk...</td>\n",
              "    </tr>\n",
              "  </tbody>\n",
              "</table>\n",
              "<p>200 rows × 1 columns</p>\n",
              "</div>\n",
              "      <button class=\"colab-df-convert\" onclick=\"convertToInteractive('df-50f6d270-a656-40c0-87ae-396a1386eb4c')\"\n",
              "              title=\"Convert this dataframe to an interactive table.\"\n",
              "              style=\"display:none;\">\n",
              "        \n",
              "  <svg xmlns=\"http://www.w3.org/2000/svg\" height=\"24px\"viewBox=\"0 0 24 24\"\n",
              "       width=\"24px\">\n",
              "    <path d=\"M0 0h24v24H0V0z\" fill=\"none\"/>\n",
              "    <path d=\"M18.56 5.44l.94 2.06.94-2.06 2.06-.94-2.06-.94-.94-2.06-.94 2.06-2.06.94zm-11 1L8.5 8.5l.94-2.06 2.06-.94-2.06-.94L8.5 2.5l-.94 2.06-2.06.94zm10 10l.94 2.06.94-2.06 2.06-.94-2.06-.94-.94-2.06-.94 2.06-2.06.94z\"/><path d=\"M17.41 7.96l-1.37-1.37c-.4-.4-.92-.59-1.43-.59-.52 0-1.04.2-1.43.59L10.3 9.45l-7.72 7.72c-.78.78-.78 2.05 0 2.83L4 21.41c.39.39.9.59 1.41.59.51 0 1.02-.2 1.41-.59l7.78-7.78 2.81-2.81c.8-.78.8-2.07 0-2.86zM5.41 20L4 18.59l7.72-7.72 1.47 1.35L5.41 20z\"/>\n",
              "  </svg>\n",
              "      </button>\n",
              "      \n",
              "  <style>\n",
              "    .colab-df-container {\n",
              "      display:flex;\n",
              "      flex-wrap:wrap;\n",
              "      gap: 12px;\n",
              "    }\n",
              "\n",
              "    .colab-df-convert {\n",
              "      background-color: #E8F0FE;\n",
              "      border: none;\n",
              "      border-radius: 50%;\n",
              "      cursor: pointer;\n",
              "      display: none;\n",
              "      fill: #1967D2;\n",
              "      height: 32px;\n",
              "      padding: 0 0 0 0;\n",
              "      width: 32px;\n",
              "    }\n",
              "\n",
              "    .colab-df-convert:hover {\n",
              "      background-color: #E2EBFA;\n",
              "      box-shadow: 0px 1px 2px rgba(60, 64, 67, 0.3), 0px 1px 3px 1px rgba(60, 64, 67, 0.15);\n",
              "      fill: #174EA6;\n",
              "    }\n",
              "\n",
              "    [theme=dark] .colab-df-convert {\n",
              "      background-color: #3B4455;\n",
              "      fill: #D2E3FC;\n",
              "    }\n",
              "\n",
              "    [theme=dark] .colab-df-convert:hover {\n",
              "      background-color: #434B5C;\n",
              "      box-shadow: 0px 1px 3px 1px rgba(0, 0, 0, 0.15);\n",
              "      filter: drop-shadow(0px 1px 2px rgba(0, 0, 0, 0.3));\n",
              "      fill: #FFFFFF;\n",
              "    }\n",
              "  </style>\n",
              "\n",
              "      <script>\n",
              "        const buttonEl =\n",
              "          document.querySelector('#df-50f6d270-a656-40c0-87ae-396a1386eb4c button.colab-df-convert');\n",
              "        buttonEl.style.display =\n",
              "          google.colab.kernel.accessAllowed ? 'block' : 'none';\n",
              "\n",
              "        async function convertToInteractive(key) {\n",
              "          const element = document.querySelector('#df-50f6d270-a656-40c0-87ae-396a1386eb4c');\n",
              "          const dataTable =\n",
              "            await google.colab.kernel.invokeFunction('convertToInteractive',\n",
              "                                                     [key], {});\n",
              "          if (!dataTable) return;\n",
              "\n",
              "          const docLinkHtml = 'Like what you see? Visit the ' +\n",
              "            '<a target=\"_blank\" href=https://colab.research.google.com/notebooks/data_table.ipynb>data table notebook</a>'\n",
              "            + ' to learn more about interactive tables.';\n",
              "          element.innerHTML = '';\n",
              "          dataTable['output_type'] = 'display_data';\n",
              "          await google.colab.output.renderOutput(dataTable, element);\n",
              "          const docLink = document.createElement('div');\n",
              "          docLink.innerHTML = docLinkHtml;\n",
              "          element.appendChild(docLink);\n",
              "        }\n",
              "      </script>\n",
              "    </div>\n",
              "  </div>\n",
              "  "
            ]
          },
          "metadata": {},
          "execution_count": 28
        }
      ],
      "source": [
        "#lägg data i en dataframe\n",
        "\n",
        "svt_tweets = pd.DataFrame(data=[tweet.text for tweet in tweets_svt], columns=['Tweets'])\n",
        "svt_tweets\n",
        "\n"
      ]
    },
    {
      "cell_type": "code",
      "execution_count": 29,
      "metadata": {
        "colab": {
          "base_uri": "https://localhost:8080/",
          "height": 424
        },
        "id": "D_-XOzp97A5P",
        "outputId": "5ce116cd-871a-4257-a1ae-d9deaa4703bc"
      },
      "outputs": [
        {
          "output_type": "execute_result",
          "data": {
            "text/plain": [
              "                                                Tweets  len  \\\n",
              "0    Naturbeteskött växer långsamt och djuren lever...  140   \n",
              "1    Klockan 12:38 slog färjan Stena Scandica larm,...  140   \n",
              "2    Inflation och skenande elpriser gör att vi pra...  140   \n",
              "3    Tonåringen begärdes häktad i sin frånvaro.\\n\\n...   67   \n",
              "4    Det brinner på ett bildäck på en passagerarfär...  140   \n",
              "..                                                 ...  ...   \n",
              "195  Den ryska ekonomin går betydligt sämre än vad ...  140   \n",
              "196  Inflationsmålet behöver höjas. Det säger profe...  139   \n",
              "197  Turerna kring FBI-razzian vid expresidenten Do...  140   \n",
              "198  Inflationstakten i Sverige nådde 8 procent i j...  140   \n",
              "199  Från och med nu är det fritt fram för politisk...  140   \n",
              "\n",
              "                      ID           Source  Likes  RTs  \n",
              "0    1564323159163158530  Twitter Web App      6    0  \n",
              "1    1564322993169485825  Twitter Web App      5    0  \n",
              "2    1564261408325476353  Twitter Web App     11    1  \n",
              "3    1564245756210462721  Twitter Web App     10    4  \n",
              "4    1564214080658984961  Twitter Web App      9    3  \n",
              "..                   ...              ...    ...  ...  \n",
              "195  1558053361148125185  Twitter Web App     35    3  \n",
              "196  1558028832900259840  Twitter Web App      7    3  \n",
              "197  1558001379653959680  Twitter Web App     20    2  \n",
              "198  1557971134729097218  Twitter Web App     23    2  \n",
              "199  1557948384291553282  Twitter Web App      8    0  \n",
              "\n",
              "[200 rows x 6 columns]"
            ],
            "text/html": [
              "\n",
              "  <div id=\"df-d8894068-b092-42d4-94e4-6cc22bc99ef0\">\n",
              "    <div class=\"colab-df-container\">\n",
              "      <div>\n",
              "<style scoped>\n",
              "    .dataframe tbody tr th:only-of-type {\n",
              "        vertical-align: middle;\n",
              "    }\n",
              "\n",
              "    .dataframe tbody tr th {\n",
              "        vertical-align: top;\n",
              "    }\n",
              "\n",
              "    .dataframe thead th {\n",
              "        text-align: right;\n",
              "    }\n",
              "</style>\n",
              "<table border=\"1\" class=\"dataframe\">\n",
              "  <thead>\n",
              "    <tr style=\"text-align: right;\">\n",
              "      <th></th>\n",
              "      <th>Tweets</th>\n",
              "      <th>len</th>\n",
              "      <th>ID</th>\n",
              "      <th>Source</th>\n",
              "      <th>Likes</th>\n",
              "      <th>RTs</th>\n",
              "    </tr>\n",
              "  </thead>\n",
              "  <tbody>\n",
              "    <tr>\n",
              "      <th>0</th>\n",
              "      <td>Naturbeteskött växer långsamt och djuren lever...</td>\n",
              "      <td>140</td>\n",
              "      <td>1564323159163158530</td>\n",
              "      <td>Twitter Web App</td>\n",
              "      <td>6</td>\n",
              "      <td>0</td>\n",
              "    </tr>\n",
              "    <tr>\n",
              "      <th>1</th>\n",
              "      <td>Klockan 12:38 slog färjan Stena Scandica larm,...</td>\n",
              "      <td>140</td>\n",
              "      <td>1564322993169485825</td>\n",
              "      <td>Twitter Web App</td>\n",
              "      <td>5</td>\n",
              "      <td>0</td>\n",
              "    </tr>\n",
              "    <tr>\n",
              "      <th>2</th>\n",
              "      <td>Inflation och skenande elpriser gör att vi pra...</td>\n",
              "      <td>140</td>\n",
              "      <td>1564261408325476353</td>\n",
              "      <td>Twitter Web App</td>\n",
              "      <td>11</td>\n",
              "      <td>1</td>\n",
              "    </tr>\n",
              "    <tr>\n",
              "      <th>3</th>\n",
              "      <td>Tonåringen begärdes häktad i sin frånvaro.\\n\\n...</td>\n",
              "      <td>67</td>\n",
              "      <td>1564245756210462721</td>\n",
              "      <td>Twitter Web App</td>\n",
              "      <td>10</td>\n",
              "      <td>4</td>\n",
              "    </tr>\n",
              "    <tr>\n",
              "      <th>4</th>\n",
              "      <td>Det brinner på ett bildäck på en passagerarfär...</td>\n",
              "      <td>140</td>\n",
              "      <td>1564214080658984961</td>\n",
              "      <td>Twitter Web App</td>\n",
              "      <td>9</td>\n",
              "      <td>3</td>\n",
              "    </tr>\n",
              "    <tr>\n",
              "      <th>...</th>\n",
              "      <td>...</td>\n",
              "      <td>...</td>\n",
              "      <td>...</td>\n",
              "      <td>...</td>\n",
              "      <td>...</td>\n",
              "      <td>...</td>\n",
              "    </tr>\n",
              "    <tr>\n",
              "      <th>195</th>\n",
              "      <td>Den ryska ekonomin går betydligt sämre än vad ...</td>\n",
              "      <td>140</td>\n",
              "      <td>1558053361148125185</td>\n",
              "      <td>Twitter Web App</td>\n",
              "      <td>35</td>\n",
              "      <td>3</td>\n",
              "    </tr>\n",
              "    <tr>\n",
              "      <th>196</th>\n",
              "      <td>Inflationsmålet behöver höjas. Det säger profe...</td>\n",
              "      <td>139</td>\n",
              "      <td>1558028832900259840</td>\n",
              "      <td>Twitter Web App</td>\n",
              "      <td>7</td>\n",
              "      <td>3</td>\n",
              "    </tr>\n",
              "    <tr>\n",
              "      <th>197</th>\n",
              "      <td>Turerna kring FBI-razzian vid expresidenten Do...</td>\n",
              "      <td>140</td>\n",
              "      <td>1558001379653959680</td>\n",
              "      <td>Twitter Web App</td>\n",
              "      <td>20</td>\n",
              "      <td>2</td>\n",
              "    </tr>\n",
              "    <tr>\n",
              "      <th>198</th>\n",
              "      <td>Inflationstakten i Sverige nådde 8 procent i j...</td>\n",
              "      <td>140</td>\n",
              "      <td>1557971134729097218</td>\n",
              "      <td>Twitter Web App</td>\n",
              "      <td>23</td>\n",
              "      <td>2</td>\n",
              "    </tr>\n",
              "    <tr>\n",
              "      <th>199</th>\n",
              "      <td>Från och med nu är det fritt fram för politisk...</td>\n",
              "      <td>140</td>\n",
              "      <td>1557948384291553282</td>\n",
              "      <td>Twitter Web App</td>\n",
              "      <td>8</td>\n",
              "      <td>0</td>\n",
              "    </tr>\n",
              "  </tbody>\n",
              "</table>\n",
              "<p>200 rows × 6 columns</p>\n",
              "</div>\n",
              "      <button class=\"colab-df-convert\" onclick=\"convertToInteractive('df-d8894068-b092-42d4-94e4-6cc22bc99ef0')\"\n",
              "              title=\"Convert this dataframe to an interactive table.\"\n",
              "              style=\"display:none;\">\n",
              "        \n",
              "  <svg xmlns=\"http://www.w3.org/2000/svg\" height=\"24px\"viewBox=\"0 0 24 24\"\n",
              "       width=\"24px\">\n",
              "    <path d=\"M0 0h24v24H0V0z\" fill=\"none\"/>\n",
              "    <path d=\"M18.56 5.44l.94 2.06.94-2.06 2.06-.94-2.06-.94-.94-2.06-.94 2.06-2.06.94zm-11 1L8.5 8.5l.94-2.06 2.06-.94-2.06-.94L8.5 2.5l-.94 2.06-2.06.94zm10 10l.94 2.06.94-2.06 2.06-.94-2.06-.94-.94-2.06-.94 2.06-2.06.94z\"/><path d=\"M17.41 7.96l-1.37-1.37c-.4-.4-.92-.59-1.43-.59-.52 0-1.04.2-1.43.59L10.3 9.45l-7.72 7.72c-.78.78-.78 2.05 0 2.83L4 21.41c.39.39.9.59 1.41.59.51 0 1.02-.2 1.41-.59l7.78-7.78 2.81-2.81c.8-.78.8-2.07 0-2.86zM5.41 20L4 18.59l7.72-7.72 1.47 1.35L5.41 20z\"/>\n",
              "  </svg>\n",
              "      </button>\n",
              "      \n",
              "  <style>\n",
              "    .colab-df-container {\n",
              "      display:flex;\n",
              "      flex-wrap:wrap;\n",
              "      gap: 12px;\n",
              "    }\n",
              "\n",
              "    .colab-df-convert {\n",
              "      background-color: #E8F0FE;\n",
              "      border: none;\n",
              "      border-radius: 50%;\n",
              "      cursor: pointer;\n",
              "      display: none;\n",
              "      fill: #1967D2;\n",
              "      height: 32px;\n",
              "      padding: 0 0 0 0;\n",
              "      width: 32px;\n",
              "    }\n",
              "\n",
              "    .colab-df-convert:hover {\n",
              "      background-color: #E2EBFA;\n",
              "      box-shadow: 0px 1px 2px rgba(60, 64, 67, 0.3), 0px 1px 3px 1px rgba(60, 64, 67, 0.15);\n",
              "      fill: #174EA6;\n",
              "    }\n",
              "\n",
              "    [theme=dark] .colab-df-convert {\n",
              "      background-color: #3B4455;\n",
              "      fill: #D2E3FC;\n",
              "    }\n",
              "\n",
              "    [theme=dark] .colab-df-convert:hover {\n",
              "      background-color: #434B5C;\n",
              "      box-shadow: 0px 1px 3px 1px rgba(0, 0, 0, 0.15);\n",
              "      filter: drop-shadow(0px 1px 2px rgba(0, 0, 0, 0.3));\n",
              "      fill: #FFFFFF;\n",
              "    }\n",
              "  </style>\n",
              "\n",
              "      <script>\n",
              "        const buttonEl =\n",
              "          document.querySelector('#df-d8894068-b092-42d4-94e4-6cc22bc99ef0 button.colab-df-convert');\n",
              "        buttonEl.style.display =\n",
              "          google.colab.kernel.accessAllowed ? 'block' : 'none';\n",
              "\n",
              "        async function convertToInteractive(key) {\n",
              "          const element = document.querySelector('#df-d8894068-b092-42d4-94e4-6cc22bc99ef0');\n",
              "          const dataTable =\n",
              "            await google.colab.kernel.invokeFunction('convertToInteractive',\n",
              "                                                     [key], {});\n",
              "          if (!dataTable) return;\n",
              "\n",
              "          const docLinkHtml = 'Like what you see? Visit the ' +\n",
              "            '<a target=\"_blank\" href=https://colab.research.google.com/notebooks/data_table.ipynb>data table notebook</a>'\n",
              "            + ' to learn more about interactive tables.';\n",
              "          element.innerHTML = '';\n",
              "          dataTable['output_type'] = 'display_data';\n",
              "          await google.colab.output.renderOutput(dataTable, element);\n",
              "          const docLink = document.createElement('div');\n",
              "          docLink.innerHTML = docLinkHtml;\n",
              "          element.appendChild(docLink);\n",
              "        }\n",
              "      </script>\n",
              "    </div>\n",
              "  </div>\n",
              "  "
            ]
          },
          "metadata": {},
          "execution_count": 29
        }
      ],
      "source": [
        "#lite mer information om varje tweet som kan vara intressant\n",
        "svt_tweets['len']  = [len(x.text) for x in tweets_svt]  # number of characters in a tweet (think length)\n",
        "svt_tweets['ID']   = [x.id for x in tweets_svt]\n",
        "svt_tweets['Source'] = [x.source for x in tweets_svt]\n",
        "svt_tweets['Likes']  = [x.favorite_count for x in tweets_svt] # favorite_count\n",
        "svt_tweets['RTs']    =  [x.retweet_count for x in tweets_svt]  # retweet count\n",
        "\n",
        "svt_tweets"
      ]
    },
    {
      "cell_type": "markdown",
      "metadata": {
        "id": "Au4VLDLw1W4-"
      },
      "source": [
        "Lite mer funktioner för att bekanta oss med den textdata vi ska analysera.."
      ]
    },
    {
      "cell_type": "code",
      "execution_count": 30,
      "metadata": {
        "colab": {
          "base_uri": "https://localhost:8080/"
        },
        "id": "91c44L2z1VY5",
        "outputId": "ec262e2f-9c67-4850-8ab4-74079cb1c6a1"
      },
      "outputs": [
        {
          "output_type": "stream",
          "name": "stdout",
          "text": [
            "<class 'pandas.core.frame.DataFrame'>\n",
            "RangeIndex: 200 entries, 0 to 199\n",
            "Data columns (total 6 columns):\n",
            " #   Column  Non-Null Count  Dtype \n",
            "---  ------  --------------  ----- \n",
            " 0   Tweets  200 non-null    object\n",
            " 1   len     200 non-null    int64 \n",
            " 2   ID      200 non-null    int64 \n",
            " 3   Source  200 non-null    object\n",
            " 4   Likes   200 non-null    int64 \n",
            " 5   RTs     200 non-null    int64 \n",
            "dtypes: int64(4), object(2)\n",
            "memory usage: 9.5+ KB\n"
          ]
        }
      ],
      "source": [
        "svt_tweets.info()"
      ]
    },
    {
      "cell_type": "code",
      "execution_count": 31,
      "metadata": {
        "colab": {
          "base_uri": "https://localhost:8080/"
        },
        "id": "XA51_AXh1e_Z",
        "outputId": "ac981a5d-354a-44c8-8d0d-084ccf00038d"
      },
      "outputs": [
        {
          "output_type": "execute_result",
          "data": {
            "text/plain": [
              "(200, 6)"
            ]
          },
          "metadata": {},
          "execution_count": 31
        }
      ],
      "source": [
        "svt_tweets.shape"
      ]
    },
    {
      "cell_type": "markdown",
      "metadata": {
        "id": "H95vFGyw05cz"
      },
      "source": [
        "# Städning av textdata"
      ]
    },
    {
      "cell_type": "code",
      "execution_count": 32,
      "metadata": {
        "colab": {
          "base_uri": "https://localhost:8080/"
        },
        "id": "ji-TmanE1ziD",
        "outputId": "a33cf36e-ac62-4eda-8022-67ee03f741da"
      },
      "outputs": [
        {
          "output_type": "execute_result",
          "data": {
            "text/plain": [
              "0      Naturbeteskött växer långsamt och djuren lever...\n",
              "1      Klockan 12:38 slog färjan Stena Scandica larm,...\n",
              "2      Inflation och skenande elpriser gör att vi pra...\n",
              "3      Tonåringen begärdes häktad i sin frånvaro.\\n\\n...\n",
              "4      Det brinner på ett bildäck på en passagerarfär...\n",
              "                             ...                        \n",
              "195    Den ryska ekonomin går betydligt sämre än vad ...\n",
              "196    Inflationsmålet behöver höjas. Det säger profe...\n",
              "197    Turerna kring FBI-razzian vid expresidenten Do...\n",
              "198    Inflationstakten i Sverige nådde 8 procent i j...\n",
              "199    Från och med nu är det fritt fram för politisk...\n",
              "Name: Tweets, Length: 200, dtype: object"
            ]
          },
          "metadata": {},
          "execution_count": 32
        }
      ],
      "source": [
        "#Vi är ju faktiskt bara intresserade av fritexten i varje tweet, plocka ut denna kolumn\n",
        "tweets_corpus = svt_tweets.Tweets\n",
        "tweets_corpus"
      ]
    },
    {
      "cell_type": "code",
      "execution_count": 33,
      "metadata": {
        "colab": {
          "base_uri": "https://localhost:8080/"
        },
        "id": "6zKKh_Kg1wt5",
        "outputId": "53546a0b-bd7d-464f-9c91-689ab6d2876a"
      },
      "outputs": [
        {
          "output_type": "execute_result",
          "data": {
            "text/plain": [
              "0      Naturbetesktt vxer lngsamt och djuren lever ln...\n",
              "1      Klockan 12:38 slog frjan Stena Scandica larm, ...\n",
              "2      Inflation och skenande elpriser gr att vi prat...\n",
              "3      Tonringen begrdes hktad i sin frnvaro.\\n\\nhttp...\n",
              "4      Det brinner p ett bildck p en passagerarfrja u...\n",
              "                             ...                        \n",
              "195    Den ryska ekonomin gr betydligt smre n vad lan...\n",
              "196    Inflationsmlet behver hjas. Det sger professor...\n",
              "197    Turerna kring FBI-razzian vid expresidenten Do...\n",
              "198    Inflationstakten i Sverige ndde 8 procent i ju...\n",
              "199    Frn och med nu r det fritt fram fr politiska p...\n",
              "Name: Tweets, Length: 200, dtype: object"
            ]
          },
          "metadata": {},
          "execution_count": 33
        }
      ],
      "source": [
        "#Ta bort emojiis\n",
        "encode2ascii = lambda x: x.encode('ascii', errors='ignore').decode('utf-8')\n",
        "clean_tweets = tweets_corpus.apply(encode2ascii)\n",
        "clean_tweets"
      ]
    },
    {
      "cell_type": "code",
      "execution_count": 34,
      "metadata": {
        "colab": {
          "base_uri": "https://localhost:8080/"
        },
        "id": "UA3fMR9o2H5j",
        "outputId": "e6774202-cd66-4150-d04d-d0ce6beadd9d"
      },
      "outputs": [
        {
          "output_type": "stream",
          "name": "stderr",
          "text": [
            "/usr/local/lib/python3.7/dist-packages/ipykernel_launcher.py:2: FutureWarning: The default value of regex will change from True to False in a future version.\n",
            "  \n"
          ]
        },
        {
          "output_type": "execute_result",
          "data": {
            "text/plain": [
              "0      Naturbetesktt vxer lngsamt och djuren lever ln...\n",
              "1      Klockan 12:38 slog frjan Stena Scandica larm, ...\n",
              "2      Inflation och skenande elpriser gr att vi prat...\n",
              "3             Tonringen begrdes hktad i sin frnvaro.\\n\\n\n",
              "4      Det brinner p ett bildck p en passagerarfrja u...\n",
              "                             ...                        \n",
              "195    Den ryska ekonomin gr betydligt smre n vad lan...\n",
              "196    Inflationsmlet behver hjas. Det sger professor...\n",
              "197    Turerna kring FBI-razzian vid expresidenten Do...\n",
              "198    Inflationstakten i Sverige ndde 8 procent i ju...\n",
              "199    Frn och med nu r det fritt fram fr politiska p...\n",
              "Name: Tweets, Length: 200, dtype: object"
            ]
          },
          "metadata": {},
          "execution_count": 34
        }
      ],
      "source": [
        "#Ta bort URL:er\n",
        "clean_tweets = clean_tweets.str.replace(r'http\\S+', '')\n",
        "clean_tweets"
      ]
    },
    {
      "cell_type": "markdown",
      "metadata": {
        "id": "YeojLhth2USg"
      },
      "source": [
        "När vi städat klart behöver vi skapa en datamängd som vi kan analysera, hur det bör göras beror på vad vi vill analysera. I detta fall vill vi undersöka trender, eller ofta förekommande ämnen. För detta är en möjlighet att räkna ord (det gör man generellt \"alltid\" när man jobbar med NLP). \n",
        "\n",
        "Vad vi behöver då är en Term Document Matrix (TDM), också kallad Document Term Matrix (DTM). En TDM är en tabell som fångar antal ord i ett dokument. Exempelvis kan vi räkna ord i varje tweet och slagra detta i en rad i vår TDM. \n",
        "\n",
        "Vi kan dessutom förvänta oss att behöva utföra detta flera gånger, och därmed vill vi ha en funktion för detta. "
      ]
    },
    {
      "cell_type": "code",
      "execution_count": 35,
      "metadata": {
        "colab": {
          "base_uri": "https://localhost:8080/"
        },
        "id": "snLa-HL00Xz6",
        "outputId": "314e14b5-910b-4fef-a9ae-ab9d6f6eecd0"
      },
      "outputs": [
        {
          "output_type": "stream",
          "name": "stderr",
          "text": [
            "[nltk_data] Downloading package stopwords to /root/nltk_data...\n",
            "[nltk_data]   Unzipping corpora/stopwords.zip.\n"
          ]
        },
        {
          "output_type": "execute_result",
          "data": {
            "text/plain": [
              "True"
            ]
          },
          "metadata": {},
          "execution_count": 35
        }
      ],
      "source": [
        "tm.download('stopwords')"
      ]
    },
    {
      "cell_type": "code",
      "execution_count": 36,
      "metadata": {
        "id": "ZWO3oYtL0a5l"
      },
      "outputs": [],
      "source": [
        "stopWords = set(stopwords.words('swedish'))\n",
        "#stopWords"
      ]
    },
    {
      "cell_type": "code",
      "execution_count": 49,
      "metadata": {
        "id": "nSDKtIuU2Tsx"
      },
      "outputs": [],
      "source": [
        "#definiera en funktion som tar ett corpus med text och det antal som ett ord måste förkomma för att vara med i matrisen (en gång här)\n",
        "def create_term_document_matrix(corpus, min_df=1):\n",
        "    #Instansiera objektet med givna inparametrar\n",
        "    cvec = CountVectorizer(min_df=min_df, stop_words=stopWords)\n",
        "    #Skapa en matris för hela corpuset \n",
        "    tfmatrix = cvec.fit_transform(corpus)\n",
        "    #Returnera den skapade matrisen som en DataFrame\n",
        "    return pd.DataFrame(data=tfmatrix.toarray(), columns=cvec.get_feature_names_out())"
      ]
    },
    {
      "cell_type": "code",
      "execution_count": 50,
      "metadata": {
        "colab": {
          "base_uri": "https://localhost:8080/",
          "height": 300
        },
        "id": "6VKHNdrZH9wy",
        "outputId": "55769ae6-7200-4159-9aee-d653fbaca7a1"
      },
      "outputs": [
        {
          "output_type": "execute_result",
          "data": {
            "text/plain": [
              "   12  38  aldrig  begrdes  besttningen  bildck  brand  brinner  brutit  \\\n",
              "0   0   0       0        0            0       0      0        0       0   \n",
              "1   1   1       0        0            1       1      1        0       1   \n",
              "2   0   0       1        0            0       0      0        0       0   \n",
              "3   0   0       0        1            0       0      0        0       0   \n",
              "4   0   0       0        0            0       1      0        1       0   \n",
              "\n",
              "   djuren  ...  skenande  skryta  slakt  slog  stena  stor  tillgngliga  \\\n",
              "0       1  ...         0       0      1     0      0     1            0   \n",
              "1       0  ...         0       0      0     1      1     0            0   \n",
              "2       0  ...         1       1      0     0      0     0            0   \n",
              "3       0  ...         0       0      0     0      0     0            0   \n",
              "4       0  ...         0       0      0     0      0     0            1   \n",
              "\n",
              "   tonringen  utanfr  vxer  \n",
              "0          0       0     1  \n",
              "1          0       0     0  \n",
              "2          0       0     0  \n",
              "3          1       0     0  \n",
              "4          0       1     0  \n",
              "\n",
              "[5 rows x 46 columns]"
            ],
            "text/html": [
              "\n",
              "  <div id=\"df-2b4ad14a-fc41-43e2-aaf3-1ba1e306ffc9\">\n",
              "    <div class=\"colab-df-container\">\n",
              "      <div>\n",
              "<style scoped>\n",
              "    .dataframe tbody tr th:only-of-type {\n",
              "        vertical-align: middle;\n",
              "    }\n",
              "\n",
              "    .dataframe tbody tr th {\n",
              "        vertical-align: top;\n",
              "    }\n",
              "\n",
              "    .dataframe thead th {\n",
              "        text-align: right;\n",
              "    }\n",
              "</style>\n",
              "<table border=\"1\" class=\"dataframe\">\n",
              "  <thead>\n",
              "    <tr style=\"text-align: right;\">\n",
              "      <th></th>\n",
              "      <th>12</th>\n",
              "      <th>38</th>\n",
              "      <th>aldrig</th>\n",
              "      <th>begrdes</th>\n",
              "      <th>besttningen</th>\n",
              "      <th>bildck</th>\n",
              "      <th>brand</th>\n",
              "      <th>brinner</th>\n",
              "      <th>brutit</th>\n",
              "      <th>djuren</th>\n",
              "      <th>...</th>\n",
              "      <th>skenande</th>\n",
              "      <th>skryta</th>\n",
              "      <th>slakt</th>\n",
              "      <th>slog</th>\n",
              "      <th>stena</th>\n",
              "      <th>stor</th>\n",
              "      <th>tillgngliga</th>\n",
              "      <th>tonringen</th>\n",
              "      <th>utanfr</th>\n",
              "      <th>vxer</th>\n",
              "    </tr>\n",
              "  </thead>\n",
              "  <tbody>\n",
              "    <tr>\n",
              "      <th>0</th>\n",
              "      <td>0</td>\n",
              "      <td>0</td>\n",
              "      <td>0</td>\n",
              "      <td>0</td>\n",
              "      <td>0</td>\n",
              "      <td>0</td>\n",
              "      <td>0</td>\n",
              "      <td>0</td>\n",
              "      <td>0</td>\n",
              "      <td>1</td>\n",
              "      <td>...</td>\n",
              "      <td>0</td>\n",
              "      <td>0</td>\n",
              "      <td>1</td>\n",
              "      <td>0</td>\n",
              "      <td>0</td>\n",
              "      <td>1</td>\n",
              "      <td>0</td>\n",
              "      <td>0</td>\n",
              "      <td>0</td>\n",
              "      <td>1</td>\n",
              "    </tr>\n",
              "    <tr>\n",
              "      <th>1</th>\n",
              "      <td>1</td>\n",
              "      <td>1</td>\n",
              "      <td>0</td>\n",
              "      <td>0</td>\n",
              "      <td>1</td>\n",
              "      <td>1</td>\n",
              "      <td>1</td>\n",
              "      <td>0</td>\n",
              "      <td>1</td>\n",
              "      <td>0</td>\n",
              "      <td>...</td>\n",
              "      <td>0</td>\n",
              "      <td>0</td>\n",
              "      <td>0</td>\n",
              "      <td>1</td>\n",
              "      <td>1</td>\n",
              "      <td>0</td>\n",
              "      <td>0</td>\n",
              "      <td>0</td>\n",
              "      <td>0</td>\n",
              "      <td>0</td>\n",
              "    </tr>\n",
              "    <tr>\n",
              "      <th>2</th>\n",
              "      <td>0</td>\n",
              "      <td>0</td>\n",
              "      <td>1</td>\n",
              "      <td>0</td>\n",
              "      <td>0</td>\n",
              "      <td>0</td>\n",
              "      <td>0</td>\n",
              "      <td>0</td>\n",
              "      <td>0</td>\n",
              "      <td>0</td>\n",
              "      <td>...</td>\n",
              "      <td>1</td>\n",
              "      <td>1</td>\n",
              "      <td>0</td>\n",
              "      <td>0</td>\n",
              "      <td>0</td>\n",
              "      <td>0</td>\n",
              "      <td>0</td>\n",
              "      <td>0</td>\n",
              "      <td>0</td>\n",
              "      <td>0</td>\n",
              "    </tr>\n",
              "    <tr>\n",
              "      <th>3</th>\n",
              "      <td>0</td>\n",
              "      <td>0</td>\n",
              "      <td>0</td>\n",
              "      <td>1</td>\n",
              "      <td>0</td>\n",
              "      <td>0</td>\n",
              "      <td>0</td>\n",
              "      <td>0</td>\n",
              "      <td>0</td>\n",
              "      <td>0</td>\n",
              "      <td>...</td>\n",
              "      <td>0</td>\n",
              "      <td>0</td>\n",
              "      <td>0</td>\n",
              "      <td>0</td>\n",
              "      <td>0</td>\n",
              "      <td>0</td>\n",
              "      <td>0</td>\n",
              "      <td>1</td>\n",
              "      <td>0</td>\n",
              "      <td>0</td>\n",
              "    </tr>\n",
              "    <tr>\n",
              "      <th>4</th>\n",
              "      <td>0</td>\n",
              "      <td>0</td>\n",
              "      <td>0</td>\n",
              "      <td>0</td>\n",
              "      <td>0</td>\n",
              "      <td>1</td>\n",
              "      <td>0</td>\n",
              "      <td>1</td>\n",
              "      <td>0</td>\n",
              "      <td>0</td>\n",
              "      <td>...</td>\n",
              "      <td>0</td>\n",
              "      <td>0</td>\n",
              "      <td>0</td>\n",
              "      <td>0</td>\n",
              "      <td>0</td>\n",
              "      <td>0</td>\n",
              "      <td>1</td>\n",
              "      <td>0</td>\n",
              "      <td>1</td>\n",
              "      <td>0</td>\n",
              "    </tr>\n",
              "  </tbody>\n",
              "</table>\n",
              "<p>5 rows × 46 columns</p>\n",
              "</div>\n",
              "      <button class=\"colab-df-convert\" onclick=\"convertToInteractive('df-2b4ad14a-fc41-43e2-aaf3-1ba1e306ffc9')\"\n",
              "              title=\"Convert this dataframe to an interactive table.\"\n",
              "              style=\"display:none;\">\n",
              "        \n",
              "  <svg xmlns=\"http://www.w3.org/2000/svg\" height=\"24px\"viewBox=\"0 0 24 24\"\n",
              "       width=\"24px\">\n",
              "    <path d=\"M0 0h24v24H0V0z\" fill=\"none\"/>\n",
              "    <path d=\"M18.56 5.44l.94 2.06.94-2.06 2.06-.94-2.06-.94-.94-2.06-.94 2.06-2.06.94zm-11 1L8.5 8.5l.94-2.06 2.06-.94-2.06-.94L8.5 2.5l-.94 2.06-2.06.94zm10 10l.94 2.06.94-2.06 2.06-.94-2.06-.94-.94-2.06-.94 2.06-2.06.94z\"/><path d=\"M17.41 7.96l-1.37-1.37c-.4-.4-.92-.59-1.43-.59-.52 0-1.04.2-1.43.59L10.3 9.45l-7.72 7.72c-.78.78-.78 2.05 0 2.83L4 21.41c.39.39.9.59 1.41.59.51 0 1.02-.2 1.41-.59l7.78-7.78 2.81-2.81c.8-.78.8-2.07 0-2.86zM5.41 20L4 18.59l7.72-7.72 1.47 1.35L5.41 20z\"/>\n",
              "  </svg>\n",
              "      </button>\n",
              "      \n",
              "  <style>\n",
              "    .colab-df-container {\n",
              "      display:flex;\n",
              "      flex-wrap:wrap;\n",
              "      gap: 12px;\n",
              "    }\n",
              "\n",
              "    .colab-df-convert {\n",
              "      background-color: #E8F0FE;\n",
              "      border: none;\n",
              "      border-radius: 50%;\n",
              "      cursor: pointer;\n",
              "      display: none;\n",
              "      fill: #1967D2;\n",
              "      height: 32px;\n",
              "      padding: 0 0 0 0;\n",
              "      width: 32px;\n",
              "    }\n",
              "\n",
              "    .colab-df-convert:hover {\n",
              "      background-color: #E2EBFA;\n",
              "      box-shadow: 0px 1px 2px rgba(60, 64, 67, 0.3), 0px 1px 3px 1px rgba(60, 64, 67, 0.15);\n",
              "      fill: #174EA6;\n",
              "    }\n",
              "\n",
              "    [theme=dark] .colab-df-convert {\n",
              "      background-color: #3B4455;\n",
              "      fill: #D2E3FC;\n",
              "    }\n",
              "\n",
              "    [theme=dark] .colab-df-convert:hover {\n",
              "      background-color: #434B5C;\n",
              "      box-shadow: 0px 1px 3px 1px rgba(0, 0, 0, 0.15);\n",
              "      filter: drop-shadow(0px 1px 2px rgba(0, 0, 0, 0.3));\n",
              "      fill: #FFFFFF;\n",
              "    }\n",
              "  </style>\n",
              "\n",
              "      <script>\n",
              "        const buttonEl =\n",
              "          document.querySelector('#df-2b4ad14a-fc41-43e2-aaf3-1ba1e306ffc9 button.colab-df-convert');\n",
              "        buttonEl.style.display =\n",
              "          google.colab.kernel.accessAllowed ? 'block' : 'none';\n",
              "\n",
              "        async function convertToInteractive(key) {\n",
              "          const element = document.querySelector('#df-2b4ad14a-fc41-43e2-aaf3-1ba1e306ffc9');\n",
              "          const dataTable =\n",
              "            await google.colab.kernel.invokeFunction('convertToInteractive',\n",
              "                                                     [key], {});\n",
              "          if (!dataTable) return;\n",
              "\n",
              "          const docLinkHtml = 'Like what you see? Visit the ' +\n",
              "            '<a target=\"_blank\" href=https://colab.research.google.com/notebooks/data_table.ipynb>data table notebook</a>'\n",
              "            + ' to learn more about interactive tables.';\n",
              "          element.innerHTML = '';\n",
              "          dataTable['output_type'] = 'display_data';\n",
              "          await google.colab.output.renderOutput(dataTable, element);\n",
              "          const docLink = document.createElement('div');\n",
              "          docLink.innerHTML = docLinkHtml;\n",
              "          element.appendChild(docLink);\n",
              "        }\n",
              "      </script>\n",
              "    </div>\n",
              "  </div>\n",
              "  "
            ]
          },
          "metadata": {},
          "execution_count": 50
        }
      ],
      "source": [
        "create_term_document_matrix(clean_tweets.head(5))"
      ]
    },
    {
      "cell_type": "code",
      "execution_count": 51,
      "metadata": {
        "colab": {
          "base_uri": "https://localhost:8080/"
        },
        "id": "5AzUyKqgH94D",
        "outputId": "5d2c781b-a4d4-4ead-ae18-2cbe0aec715f"
      },
      "outputs": [
        {
          "output_type": "execute_result",
          "data": {
            "text/plain": [
              "(5, 46)"
            ]
          },
          "metadata": {},
          "execution_count": 51
        }
      ],
      "source": [
        "#antal rader och kolumner i vår TDM, vad betyder det?\n",
        "_.shape"
      ]
    },
    {
      "cell_type": "markdown",
      "metadata": {
        "id": "gQ02DXayK-6V"
      },
      "source": []
    },
    {
      "cell_type": "markdown",
      "metadata": {
        "id": "mWwL7Zk0K_B_"
      },
      "source": [
        "För att räkna ut de ord som är mest frekventa så definierar vi en ny funktion, som visulaiserar de mest frekvent förkommande orden."
      ]
    },
    {
      "cell_type": "code",
      "execution_count": 52,
      "metadata": {
        "id": "AEOfnHgvK8KD"
      },
      "outputs": [],
      "source": [
        "def plot_top_words(tweets, num_word_instances, top_words):\n",
        "    tdm_df = create_term_document_matrix(tweets, min_df=2)\n",
        "    word_frequencies = tdm_df[[x for x in tdm_df.columns if len(x) > 1]].sum()\n",
        "    sorted_words = word_frequencies.sort_values(ascending=False)\n",
        "    top_sorted_words = sorted_words[:num_word_instances]\n",
        "    top_sorted_words[:top_words].plot.bar()\n",
        "    return top_sorted_words"
      ]
    },
    {
      "cell_type": "code",
      "execution_count": 53,
      "metadata": {
        "colab": {
          "base_uri": "https://localhost:8080/",
          "height": 768
        },
        "id": "o2H6VjvJLcV4",
        "outputId": "0976c894-77d7-42ed-fc1c-12e0704e0dcd"
      },
      "outputs": [
        {
          "output_type": "execute_result",
          "data": {
            "text/plain": [
              "fr           54\n",
              "svt          24\n",
              "nr           12\n",
              "enligt       12\n",
              "frn          11\n",
              "sger         10\n",
              "flera        10\n",
              "ska          10\n",
              "ukraina       9\n",
              "hr            9\n",
              "gr            9\n",
              "sverige       8\n",
              "tv            8\n",
              "senaste       8\n",
              "annie         8\n",
              "kommer        8\n",
              "visar         8\n",
              "lf            8\n",
              "magdalena     7\n",
              "stockholm     7\n",
              "dtype: int64"
            ]
          },
          "metadata": {},
          "execution_count": 53
        },
        {
          "output_type": "display_data",
          "data": {
            "text/plain": [
              "<Figure size 720x432 with 1 Axes>"
            ],
            "image/png": "[encoded data removed]"
          },
          "metadata": {
            "needs_background": "light"
          }
        }
      ],
      "source": [
        "#vilka ord är mest frekventa i vår sökning?\n",
        "top_words = plot_top_words(clean_tweets, 20, 5)\n",
        "top_words"
      ]
    },
    {
      "cell_type": "code",
      "execution_count": 54,
      "metadata": {
        "id": "_r3htBfXLyVF"
      },
      "outputs": [],
      "source": [
        "#gör om stora bokstäver till små\n",
        "tweets_lowered = clean_tweets.str.lower()"
      ]
    },
    {
      "cell_type": "code",
      "execution_count": 55,
      "metadata": {
        "colab": {
          "base_uri": "https://localhost:8080/",
          "height": 777
        },
        "id": "xMkw2_SCL22k",
        "outputId": "6b90570c-5827-4bc9-8cdd-1ea0075c853b"
      },
      "outputs": [
        {
          "output_type": "execute_result",
          "data": {
            "text/plain": [
              "fr           54\n",
              "svt          24\n",
              "nr           12\n",
              "enligt       12\n",
              "frn          11\n",
              "sger         10\n",
              "flera        10\n",
              "ska          10\n",
              "ukraina       9\n",
              "hr            9\n",
              "gr            9\n",
              "sverige       8\n",
              "tv            8\n",
              "senaste       8\n",
              "annie         8\n",
              "kommer        8\n",
              "visar         8\n",
              "lf            8\n",
              "magdalena     7\n",
              "stockholm     7\n",
              "dtype: int64"
            ]
          },
          "metadata": {},
          "execution_count": 55
        },
        {
          "output_type": "display_data",
          "data": {
            "text/plain": [
              "<Figure size 720x432 with 1 Axes>"
            ],
            "image/png": "[encoded data removed]"
          },
          "metadata": {
            "needs_background": "light"
          }
        }
      ],
      "source": [
        "top_words_lowered = plot_top_words(tweets_lowered, 20, 10)\n",
        "top_words_lowered"
      ]
    },
    {
      "cell_type": "code",
      "execution_count": 56,
      "metadata": {
        "colab": {
          "base_uri": "https://localhost:8080/",
          "height": 677
        },
        "id": "KZilrp5JNNv8",
        "outputId": "0556e7fb-71ff-4e29-cd86-52e27cced7a5"
      },
      "outputs": [
        {
          "output_type": "execute_result",
          "data": {
            "text/plain": [
              "   Top tweeted clean Top tweeted lowered\n",
              "0                 fr                  fr\n",
              "1                svt                 svt\n",
              "2                 nr                  nr\n",
              "3             enligt              enligt\n",
              "4                frn                 frn\n",
              "5               sger                sger\n",
              "6              flera               flera\n",
              "7                ska                 ska\n",
              "8            ukraina             ukraina\n",
              "9                 hr                  hr\n",
              "10                gr                  gr\n",
              "11           sverige             sverige\n",
              "12                tv                  tv\n",
              "13           senaste             senaste\n",
              "14             annie               annie\n",
              "15            kommer              kommer\n",
              "16             visar               visar\n",
              "17                lf                  lf\n",
              "18         magdalena           magdalena\n",
              "19         stockholm           stockholm"
            ],
            "text/html": [
              "\n",
              "  <div id=\"df-dc3e5d95-41fa-4a8c-9c2f-9d6da48245ab\">\n",
              "    <div class=\"colab-df-container\">\n",
              "      <div>\n",
              "<style scoped>\n",
              "    .dataframe tbody tr th:only-of-type {\n",
              "        vertical-align: middle;\n",
              "    }\n",
              "\n",
              "    .dataframe tbody tr th {\n",
              "        vertical-align: top;\n",
              "    }\n",
              "\n",
              "    .dataframe thead th {\n",
              "        text-align: right;\n",
              "    }\n",
              "</style>\n",
              "<table border=\"1\" class=\"dataframe\">\n",
              "  <thead>\n",
              "    <tr style=\"text-align: right;\">\n",
              "      <th></th>\n",
              "      <th>Top tweeted clean</th>\n",
              "      <th>Top tweeted lowered</th>\n",
              "    </tr>\n",
              "  </thead>\n",
              "  <tbody>\n",
              "    <tr>\n",
              "      <th>0</th>\n",
              "      <td>fr</td>\n",
              "      <td>fr</td>\n",
              "    </tr>\n",
              "    <tr>\n",
              "      <th>1</th>\n",
              "      <td>svt</td>\n",
              "      <td>svt</td>\n",
              "    </tr>\n",
              "    <tr>\n",
              "      <th>2</th>\n",
              "      <td>nr</td>\n",
              "      <td>nr</td>\n",
              "    </tr>\n",
              "    <tr>\n",
              "      <th>3</th>\n",
              "      <td>enligt</td>\n",
              "      <td>enligt</td>\n",
              "    </tr>\n",
              "    <tr>\n",
              "      <th>4</th>\n",
              "      <td>frn</td>\n",
              "      <td>frn</td>\n",
              "    </tr>\n",
              "    <tr>\n",
              "      <th>5</th>\n",
              "      <td>sger</td>\n",
              "      <td>sger</td>\n",
              "    </tr>\n",
              "    <tr>\n",
              "      <th>6</th>\n",
              "      <td>flera</td>\n",
              "      <td>flera</td>\n",
              "    </tr>\n",
              "    <tr>\n",
              "      <th>7</th>\n",
              "      <td>ska</td>\n",
              "      <td>ska</td>\n",
              "    </tr>\n",
              "    <tr>\n",
              "      <th>8</th>\n",
              "      <td>ukraina</td>\n",
              "      <td>ukraina</td>\n",
              "    </tr>\n",
              "    <tr>\n",
              "      <th>9</th>\n",
              "      <td>hr</td>\n",
              "      <td>hr</td>\n",
              "    </tr>\n",
              "    <tr>\n",
              "      <th>10</th>\n",
              "      <td>gr</td>\n",
              "      <td>gr</td>\n",
              "    </tr>\n",
              "    <tr>\n",
              "      <th>11</th>\n",
              "      <td>sverige</td>\n",
              "      <td>sverige</td>\n",
              "    </tr>\n",
              "    <tr>\n",
              "      <th>12</th>\n",
              "      <td>tv</td>\n",
              "      <td>tv</td>\n",
              "    </tr>\n",
              "    <tr>\n",
              "      <th>13</th>\n",
              "      <td>senaste</td>\n",
              "      <td>senaste</td>\n",
              "    </tr>\n",
              "    <tr>\n",
              "      <th>14</th>\n",
              "      <td>annie</td>\n",
              "      <td>annie</td>\n",
              "    </tr>\n",
              "    <tr>\n",
              "      <th>15</th>\n",
              "      <td>kommer</td>\n",
              "      <td>kommer</td>\n",
              "    </tr>\n",
              "    <tr>\n",
              "      <th>16</th>\n",
              "      <td>visar</td>\n",
              "      <td>visar</td>\n",
              "    </tr>\n",
              "    <tr>\n",
              "      <th>17</th>\n",
              "      <td>lf</td>\n",
              "      <td>lf</td>\n",
              "    </tr>\n",
              "    <tr>\n",
              "      <th>18</th>\n",
              "      <td>magdalena</td>\n",
              "      <td>magdalena</td>\n",
              "    </tr>\n",
              "    <tr>\n",
              "      <th>19</th>\n",
              "      <td>stockholm</td>\n",
              "      <td>stockholm</td>\n",
              "    </tr>\n",
              "  </tbody>\n",
              "</table>\n",
              "</div>\n",
              "      <button class=\"colab-df-convert\" onclick=\"convertToInteractive('df-dc3e5d95-41fa-4a8c-9c2f-9d6da48245ab')\"\n",
              "              title=\"Convert this dataframe to an interactive table.\"\n",
              "              style=\"display:none;\">\n",
              "        \n",
              "  <svg xmlns=\"http://www.w3.org/2000/svg\" height=\"24px\"viewBox=\"0 0 24 24\"\n",
              "       width=\"24px\">\n",
              "    <path d=\"M0 0h24v24H0V0z\" fill=\"none\"/>\n",
              "    <path d=\"M18.56 5.44l.94 2.06.94-2.06 2.06-.94-2.06-.94-.94-2.06-.94 2.06-2.06.94zm-11 1L8.5 8.5l.94-2.06 2.06-.94-2.06-.94L8.5 2.5l-.94 2.06-2.06.94zm10 10l.94 2.06.94-2.06 2.06-.94-2.06-.94-.94-2.06-.94 2.06-2.06.94z\"/><path d=\"M17.41 7.96l-1.37-1.37c-.4-.4-.92-.59-1.43-.59-.52 0-1.04.2-1.43.59L10.3 9.45l-7.72 7.72c-.78.78-.78 2.05 0 2.83L4 21.41c.39.39.9.59 1.41.59.51 0 1.02-.2 1.41-.59l7.78-7.78 2.81-2.81c.8-.78.8-2.07 0-2.86zM5.41 20L4 18.59l7.72-7.72 1.47 1.35L5.41 20z\"/>\n",
              "  </svg>\n",
              "      </button>\n",
              "      \n",
              "  <style>\n",
              "    .colab-df-container {\n",
              "      display:flex;\n",
              "      flex-wrap:wrap;\n",
              "      gap: 12px;\n",
              "    }\n",
              "\n",
              "    .colab-df-convert {\n",
              "      background-color: #E8F0FE;\n",
              "      border: none;\n",
              "      border-radius: 50%;\n",
              "      cursor: pointer;\n",
              "      display: none;\n",
              "      fill: #1967D2;\n",
              "      height: 32px;\n",
              "      padding: 0 0 0 0;\n",
              "      width: 32px;\n",
              "    }\n",
              "\n",
              "    .colab-df-convert:hover {\n",
              "      background-color: #E2EBFA;\n",
              "      box-shadow: 0px 1px 2px rgba(60, 64, 67, 0.3), 0px 1px 3px 1px rgba(60, 64, 67, 0.15);\n",
              "      fill: #174EA6;\n",
              "    }\n",
              "\n",
              "    [theme=dark] .colab-df-convert {\n",
              "      background-color: #3B4455;\n",
              "      fill: #D2E3FC;\n",
              "    }\n",
              "\n",
              "    [theme=dark] .colab-df-convert:hover {\n",
              "      background-color: #434B5C;\n",
              "      box-shadow: 0px 1px 3px 1px rgba(0, 0, 0, 0.15);\n",
              "      filter: drop-shadow(0px 1px 2px rgba(0, 0, 0, 0.3));\n",
              "      fill: #FFFFFF;\n",
              "    }\n",
              "  </style>\n",
              "\n",
              "      <script>\n",
              "        const buttonEl =\n",
              "          document.querySelector('#df-dc3e5d95-41fa-4a8c-9c2f-9d6da48245ab button.colab-df-convert');\n",
              "        buttonEl.style.display =\n",
              "          google.colab.kernel.accessAllowed ? 'block' : 'none';\n",
              "\n",
              "        async function convertToInteractive(key) {\n",
              "          const element = document.querySelector('#df-dc3e5d95-41fa-4a8c-9c2f-9d6da48245ab');\n",
              "          const dataTable =\n",
              "            await google.colab.kernel.invokeFunction('convertToInteractive',\n",
              "                                                     [key], {});\n",
              "          if (!dataTable) return;\n",
              "\n",
              "          const docLinkHtml = 'Like what you see? Visit the ' +\n",
              "            '<a target=\"_blank\" href=https://colab.research.google.com/notebooks/data_table.ipynb>data table notebook</a>'\n",
              "            + ' to learn more about interactive tables.';\n",
              "          element.innerHTML = '';\n",
              "          dataTable['output_type'] = 'display_data';\n",
              "          await google.colab.output.renderOutput(dataTable, element);\n",
              "          const docLink = document.createElement('div');\n",
              "          docLink.innerHTML = docLinkHtml;\n",
              "          element.appendChild(docLink);\n",
              "        }\n",
              "      </script>\n",
              "    </div>\n",
              "  </div>\n",
              "  "
            ]
          },
          "metadata": {},
          "execution_count": 56
        }
      ],
      "source": [
        "pd.DataFrame(\n",
        "    {\n",
        "        \"Top tweeted clean\": top_words[0:20].index,\n",
        "        \"Top tweeted lowered\": top_words_lowered[0:20].index,\n",
        "    }\n",
        ")"
      ]
    },
    {
      "cell_type": "code",
      "execution_count": 57,
      "metadata": {
        "colab": {
          "base_uri": "https://localhost:8080/"
        },
        "id": "WHzg1kJgNVik",
        "outputId": "681fff91-205d-47a4-9e55-4dd1df9103a0"
      },
      "outputs": [
        {
          "output_type": "stream",
          "name": "stderr",
          "text": [
            "/usr/local/lib/python3.7/dist-packages/ipykernel_launcher.py:2: FutureWarning: The default value of regex will change from True to False in a future version.\n",
            "  \n"
          ]
        },
        {
          "output_type": "execute_result",
          "data": {
            "text/plain": [
              "0      naturbetesktt vxer lngsamt  djuren lever lnge ...\n",
              "1      klockan : slog frjan stena scandica larm,  bra...\n",
              "2      inflation  skenande elpriser    pratar  pengar...\n",
              "3                 tonringen begrdes hktad   frnvaro.\\n\\n\n",
              "4       brinner   bildck   passagerarfrja utanfr gots...\n",
              "                             ...                        \n",
              "195     ryska ekonomin  betydligt smre   landet velat...\n",
              "196    inflationsmlet behver hjas.  sger professorn l...\n",
              "197    turerna kring -razzian  expresidenten donalds ...\n",
              "198    inflationstakten  sverige ndde  procent  juli,...\n",
              "199          fritt fram  politiska partier  affischer...\n",
              "Name: Tweets, Length: 200, dtype: object"
            ]
          },
          "metadata": {},
          "execution_count": 57
        }
      ],
      "source": [
        "#ta bort ord som är 3 bokstäver eller kortare\n",
        "tweets_low_no_small = tweets_lowered.str.replace(r\"\\b\\w{1,3}\\b\", \"\")\n",
        "tweets_low_no_small"
      ]
    },
    {
      "cell_type": "code",
      "execution_count": 58,
      "metadata": {
        "colab": {
          "base_uri": "https://localhost:8080/",
          "height": 1000
        },
        "id": "uWXAIJ64NZ9J",
        "outputId": "b4cb8296-90bb-4902-f7ad-a63ec9ac1e58"
      },
      "outputs": [
        {
          "output_type": "execute_result",
          "data": {
            "text/plain": [
              "enligt                 12\n",
              "flera                  10\n",
              "sger                   10\n",
              "ukraina                 9\n",
              "senaste                 8\n",
              "visar                   8\n",
              "annie                   8\n",
              "kommer                  8\n",
              "sverige                 8\n",
              "regering                7\n",
              "magdalena               7\n",
              "stockholm               7\n",
              "emporia                 6\n",
              "kristersson             6\n",
              "valet                   6\n",
              "polisen                 6\n",
              "vill                    6\n",
              "statsminister           6\n",
              "plats                   5\n",
              "personer                5\n",
              "socialdemokraterna      5\n",
              "partiledarutfrgning     5\n",
              "just                    5\n",
              "stor                    5\n",
              "partier                 5\n",
              "moderaterna             5\n",
              "mats                    5\n",
              "andersson               5\n",
              "partiledare             4\n",
              "nooshi                  4\n",
              "frgas                   4\n",
              "menar                   4\n",
              "malm                    4\n",
              "kring                   4\n",
              "natten                  4\n",
              "politiska               4\n",
              "ryska                   4\n",
              "staden                  4\n",
              "sveriges                4\n",
              "centerpartiet           4\n",
              "sverigedemokraterna     4\n",
              "bara                    4\n",
              "stora                   4\n",
              "tillsammans             4\n",
              "antal                   4\n",
              "salman                  4\n",
              "ryssland                4\n",
              "valrrelsen              3\n",
              "knutsons                3\n",
              "medier                  3\n",
              "dtype: int64"
            ]
          },
          "metadata": {},
          "execution_count": 58
        },
        {
          "output_type": "display_data",
          "data": {
            "text/plain": [
              "<Figure size 720x432 with 1 Axes>"
            ],
            "image/png": "[encoded data removed]"
          },
          "metadata": {
            "needs_background": "light"
          }
        }
      ],
      "source": [
        "# Skapar ny topplista utan korta ord\n",
        "top_words_low_no_small = plot_top_words(tweets_low_no_small, 50, 30)\n",
        "top_words_low_no_small"
      ]
    }
  ],
  "metadata": {
    "colab": {
      "name": "Analysing_Twitter_data.ipynb",
      "provenance": [],
      "authorship_tag": "ABX9TyOT7zeXfOuDS6RtWC0lNVNL",
      "include_colab_link": true
    },
    "kernelspec": {
      "display_name": "Python 3",
      "language": "python",
      "name": "python3"
    },
    "language_info": {
      "codemirror_mode": {
        "name": "ipython",
        "version": 3
      },
      "file_extension": ".py",
      "mimetype": "text/x-python",
      "name": "python",
      "nbconvert_exporter": "python",
      "pygments_lexer": "ipython3",
      "version": "3.7.4"
    }
  },
  "nbformat": 4,
  "nbformat_minor": 0
}