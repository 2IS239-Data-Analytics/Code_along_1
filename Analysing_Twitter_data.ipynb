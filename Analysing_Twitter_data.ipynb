{
  "cells": [
    {
      "cell_type": "markdown",
      "metadata": {
        "id": "view-in-github",
        "colab_type": "text"
      },
      "source": [
        "<a href=\"https://colab.research.google.com/github/2IS239-Data-Analytics/Code_along_1/blob/main/Analysing_Twitter_data.ipynb\" target=\"_parent\"><img src=\"https://colab.research.google.com/assets/colab-badge.svg\" alt=\"Open In Colab\"/></a>"
      ]
    },
    {
      "cell_type": "code",
      "execution_count": null,
      "metadata": {
        "id": "99gP8Ygiv4fF"
      },
      "outputs": [],
      "source": [
        "import os\n",
        "import tweepy as tw\n",
        "import pandas as pd\n",
        "from google.colab import drive  # to mount Drive to Colab notebook\n"
      ]
    },
    {
      "cell_type": "code",
      "execution_count": null,
      "metadata": {
        "colab": {
          "base_uri": "https://localhost:8080/"
        },
        "id": "1hSqzOgnappW",
        "outputId": "9e98d557-8096-4049-fd71-c190ae47c3f2"
      },
      "outputs": [
        {
          "name": "stdout",
          "output_type": "stream",
          "text": [
            "Mounted at /content/gdrive\n"
          ]
        }
      ],
      "source": [
        "# Connect Google Drive to Colab\n",
        "drive.mount('/content/gdrive')\n"
      ]
    },
    {
      "cell_type": "code",
      "execution_count": null,
      "metadata": {
        "id": "ObjHiIBVbCu8"
      },
      "outputs": [],
      "source": [
        "# Create a variable to store the data path on your drive\n",
        "path = './gdrive/My Drive/Data_DA_HT21'"
      ]
    },
    {
      "cell_type": "code",
      "execution_count": null,
      "metadata": {
        "id": "VgpjtKt19eVv"
      },
      "outputs": [],
      "source": [
        "import json\n",
        "\n",
        "# Enter your keys/secrets as strings in the following fields\n",
        "credentials = {}\n",
        "credentials['CONSUMER_KEY'] = #Insert your key\n",
        "credentials['CONSUMER_SECRET'] = #Insert your key here\n",
        "credentials['ACCESS_TOKEN'] =  #Insert your key\n",
        "credentials['ACCESS_SECRET'] =  #Insert your key\n",
        "\n",
        "# Save the credentials object to file\n",
        "with open(path + \"/secrets.json\", \"w\") as file:\n",
        "    json.dump(credentials, file)"
      ]
    },
    {
      "cell_type": "code",
      "execution_count": null,
      "metadata": {
        "id": "cTaDlU28a5Z1"
      },
      "outputs": [],
      "source": [
        "# Load Twitter API secrets from an external JSON file\n",
        "secrets = json.loads(open(path + 'secrets.json').read())\n",
        "consumer_key = secrets['CONSUMER_KEY']\n",
        "consumer_secret = secrets['CONSUMER_SECRET']\n",
        "access_token = secrets['ACCESS_TOKEN']\n",
        "access_token_secret = secrets['ACCESS_SECRET']\n"
      ]
    },
    {
      "cell_type": "code",
      "execution_count": null,
      "metadata": {
        "id": "OcFf2zePyHOQ"
      },
      "outputs": [],
      "source": [
        "from tweepy import OAuthHandler\n",
        "from tweepy import API\n",
        "\n",
        "# Consumer key authentication(consumer_key,consumer_secret can be collected from our twitter developer profile)\n",
        "auth = OAuthHandler(consumer_key, consumer_secret)\n",
        "\n",
        "# Access key authentication(access_token,access_token_secret can be collected from our twitter developer profile)\n",
        "auth.set_access_token(access_token, access_token_secret)\n",
        "\n",
        "# Set up the API with the authentication handler\n",
        "api = API(auth)"
      ]
    },
    {
      "cell_type": "code",
      "execution_count": null,
      "metadata": {
        "id": "FxQGwMXayP-Y"
      },
      "outputs": [],
      "source": [
        "# Define the search term and the date_since date as variables\n",
        "search_words = \"#översvämning\"\n",
        "#search_words = \"#flooding\"\n",
        "date_since = \"2021-08-01\""
      ]
    },
    {
      "cell_type": "code",
      "execution_count": null,
      "metadata": {
        "colab": {
          "base_uri": "https://localhost:8080/"
        },
        "id": "k-aM7s27yZcs",
        "outputId": "11729610-69fa-40d2-c5bd-0ad5c39ed89e"
      },
      "outputs": [
        {
          "data": {
            "text/plain": [
              "<tweepy.cursor.ItemIterator at 0x7f4199aaced0>"
            ]
          },
          "execution_count": 16,
          "metadata": {},
          "output_type": "execute_result"
        }
      ],
      "source": [
        "# Collect tweets\n",
        "tweets = tw.Cursor(api.search,\n",
        "              q=search_words,\n",
        "              lang=\"sv\",\n",
        "              #lang=\"en\",\n",
        "              since=date_since).items()\n",
        "tweets\n"
      ]
    },
    {
      "cell_type": "code",
      "execution_count": null,
      "metadata": {
        "colab": {
          "base_uri": "https://localhost:8080/"
        },
        "id": "JX-B1jmsIxkK",
        "outputId": "60fb70f0-f113-467b-f0d7-0ca4d1243b24"
      },
      "outputs": [
        {
          "name": "stdout",
          "output_type": "stream",
          "text": [
            "RT @Sjobergbild: Översvämning i Bollnäs 1916. Ljusnan har stigit till en rekordhög nivå i maj med hela 6,4 meter över det normala och samhä…\n",
            "RT @Sjobergbild: Översvämning i Bollnäs 1916. Ljusnan har stigit till en rekordhög nivå i maj med hela 6,4 meter över det normala och samhä…\n",
            "RT @Sjobergbild: Översvämning i Bollnäs 1916. Ljusnan har stigit till en rekordhög nivå i maj med hela 6,4 meter över det normala och samhä…\n",
            "RT @Sjobergbild: Översvämning i Bollnäs 1916. Ljusnan har stigit till en rekordhög nivå i maj med hela 6,4 meter över det normala och samhä…\n",
            "RT @Sjobergbild: Översvämning i Bollnäs 1916. Ljusnan har stigit till en rekordhög nivå i maj med hela 6,4 meter över det normala och samhä…\n",
            "RT @Sjobergbild: Översvämning i Bollnäs 1916. Ljusnan har stigit till en rekordhög nivå i maj med hela 6,4 meter över det normala och samhä…\n",
            "RT @Sjobergbild: Översvämning i Bollnäs 1916. Ljusnan har stigit till en rekordhög nivå i maj med hela 6,4 meter över det normala och samhä…\n",
            "Översvämning i Bollnäs 1916. Ljusnan har stigit till en rekordhög nivå i maj med hela 6,4 meter över det normala oc… https://t.co/ylSF2jQUwi\n"
          ]
        }
      ],
      "source": [
        "for tweet in tweets:\n",
        "    print(tweet.text)"
      ]
    },
    {
      "cell_type": "code",
      "execution_count": null,
      "metadata": {
        "colab": {
          "base_uri": "https://localhost:8080/",
          "height": 35
        },
        "id": "EeK2CA9Ryh1g",
        "outputId": "0c32665b-1aa1-4073-847f-6d8aea1150e1"
      },
      "outputs": [
        {
          "data": {
            "application/vnd.google.colaboratory.intrinsic+json": {
              "type": "string"
            },
            "text/plain": [
              "'#översvämning -filter:retweets'"
            ]
          },
          "execution_count": 18,
          "metadata": {},
          "output_type": "execute_result"
        }
      ],
      "source": [
        "#Ta bort re-tweets\n",
        "new_search = search_words + \" -filter:retweets\"\n",
        "new_search"
      ]
    },
    {
      "cell_type": "code",
      "execution_count": null,
      "metadata": {
        "colab": {
          "base_uri": "https://localhost:8080/"
        },
        "id": "WxZ3xmss0O2d",
        "outputId": "720e10a4-3dbd-4634-ba7b-f6a5e7ef3b5e"
      },
      "outputs": [
        {
          "data": {
            "text/plain": [
              "<tweepy.cursor.ItemIterator at 0x7f4199aac550>"
            ]
          },
          "execution_count": 19,
          "metadata": {},
          "output_type": "execute_result"
        }
      ],
      "source": [
        "# Collect tweets\n",
        "tweets_no_retweet = tw.Cursor(api.search,\n",
        "              q=new_search,\n",
        "              lang=\"sv\",\n",
        "              #lang=\"en\",\n",
        "              since=date_since).items()\n",
        "tweets_no_retweet\n"
      ]
    },
    {
      "cell_type": "code",
      "execution_count": null,
      "metadata": {
        "colab": {
          "base_uri": "https://localhost:8080/"
        },
        "id": "0sSafSKOykWG",
        "outputId": "49ab0322-5851-4509-eb49-82695bd4d4c6"
      },
      "outputs": [
        {
          "name": "stdout",
          "output_type": "stream",
          "text": [
            "Översvämning i Bollnäs 1916. Ljusnan har stigit till en rekordhög nivå i maj med hela 6,4 meter över det normala oc… https://t.co/ylSF2jQUwi\n"
          ]
        }
      ],
      "source": [
        "# Iterate and print tweets\n",
        "for tweet in tweets_no_retweet:\n",
        "    print(tweet.text)\n",
        "    "
      ]
    },
    {
      "cell_type": "markdown",
      "metadata": {
        "id": "a2K8OgTszR5m"
      },
      "source": [
        "Ladda tweets i en lista istället"
      ]
    },
    {
      "cell_type": "code",
      "execution_count": null,
      "metadata": {
        "colab": {
          "base_uri": "https://localhost:8080/"
        },
        "id": "Dz-SS-NFzT_v",
        "outputId": "825b5d98-2c0a-4a46-bed7-8125f71b634d"
      },
      "outputs": [
        {
          "data": {
            "text/plain": [
              "['RT @Sjobergbild: Översvämning i Bollnäs 1916. Ljusnan har stigit till en rekordhög nivå i maj med hela 6,4 meter över det normala och samhä…',\n",
              " 'RT @Sjobergbild: Översvämning i Bollnäs 1916. Ljusnan har stigit till en rekordhög nivå i maj med hela 6,4 meter över det normala och samhä…',\n",
              " 'RT @Sjobergbild: Översvämning i Bollnäs 1916. Ljusnan har stigit till en rekordhög nivå i maj med hela 6,4 meter över det normala och samhä…',\n",
              " 'RT @Sjobergbild: Översvämning i Bollnäs 1916. Ljusnan har stigit till en rekordhög nivå i maj med hela 6,4 meter över det normala och samhä…',\n",
              " 'RT @Sjobergbild: Översvämning i Bollnäs 1916. Ljusnan har stigit till en rekordhög nivå i maj med hela 6,4 meter över det normala och samhä…',\n",
              " 'RT @Sjobergbild: Översvämning i Bollnäs 1916. Ljusnan har stigit till en rekordhög nivå i maj med hela 6,4 meter över det normala och samhä…',\n",
              " 'RT @Sjobergbild: Översvämning i Bollnäs 1916. Ljusnan har stigit till en rekordhög nivå i maj med hela 6,4 meter över det normala och samhä…',\n",
              " 'Översvämning i Bollnäs 1916. Ljusnan har stigit till en rekordhög nivå i maj med hela 6,4 meter över det normala oc… https://t.co/ylSF2jQUwi']"
            ]
          },
          "execution_count": 21,
          "metadata": {},
          "output_type": "execute_result"
        }
      ],
      "source": [
        "# Collect tweets\n",
        "tweets = tw.Cursor(api.search,\n",
        "              q=search_words,\n",
        "              lang=\"sv\",\n",
        "              #lang=\"en\",\n",
        "              since=date_since).items(50)\n",
        "\n",
        "# Save a list of tweets, only the text field.\n",
        "tweet_list= [tweet.text for tweet in tweets]\n",
        "#Skriv ut lista\n",
        "tweet_list"
      ]
    },
    {
      "cell_type": "code",
      "execution_count": null,
      "metadata": {
        "colab": {
          "base_uri": "https://localhost:8080/"
        },
        "id": "evKKh_w10FEK",
        "outputId": "573e1b6e-0973-4b74-a700-189707a2dfc7"
      },
      "outputs": [
        {
          "data": {
            "text/plain": [
              "[['Sjobergbild', 'Vilhelmina, Sverige']]"
            ]
          },
          "execution_count": 22,
          "metadata": {},
          "output_type": "execute_result"
        }
      ],
      "source": [
        "#Vem har twittrat?\n",
        "tweets = tw.Cursor(api.search,\n",
        "                       q=new_search,\n",
        "                       lang=\"sv\",\n",
        "                       since=date_since).items(5)\n",
        "                       \n",
        "users_locs = [[tweet.user.screen_name, tweet.user.location] for tweet in tweets]\n",
        "users_locs"
      ]
    },
    {
      "cell_type": "markdown",
      "metadata": {
        "id": "jl4PSReV7V-W"
      },
      "source": [
        "En tweet levereras från twitters API som ett JSON objekt. För att hämta ett antal tweets och spara texten och det datum de skapats från dem i en csv-fil kan följande kod användas. Det går också att spara direkt som en JSON-fil."
      ]
    },
    {
      "cell_type": "code",
      "execution_count": null,
      "metadata": {
        "colab": {
          "base_uri": "https://localhost:8080/"
        },
        "id": "ar34yImXxCX3",
        "outputId": "678ac479-de5e-4b82-9a28-a2f522b9edb1"
      },
      "outputs": [
        {
          "name": "stdout",
          "output_type": "stream",
          "text": [
            "2021-08-31 20:21:42 RT @Sjobergbild: Översvämning i Bollnäs 1916. Ljusnan har stigit till en rekordhög nivå i maj med hela 6,4 meter över det normala och samhä…\n",
            "2021-08-31 17:34:22 RT @Sjobergbild: Översvämning i Bollnäs 1916. Ljusnan har stigit till en rekordhög nivå i maj med hela 6,4 meter över det normala och samhä…\n",
            "2021-08-31 13:26:24 RT @Sjobergbild: Översvämning i Bollnäs 1916. Ljusnan har stigit till en rekordhög nivå i maj med hela 6,4 meter över det normala och samhä…\n",
            "2021-08-31 10:23:54 RT @Sjobergbild: Översvämning i Bollnäs 1916. Ljusnan har stigit till en rekordhög nivå i maj med hela 6,4 meter över det normala och samhä…\n",
            "2021-08-31 08:01:33 RT @Sjobergbild: Översvämning i Bollnäs 1916. Ljusnan har stigit till en rekordhög nivå i maj med hela 6,4 meter över det normala och samhä…\n",
            "2021-08-31 08:00:11 RT @Sjobergbild: Översvämning i Bollnäs 1916. Ljusnan har stigit till en rekordhög nivå i maj med hela 6,4 meter över det normala och samhä…\n",
            "2021-08-31 07:41:58 RT @Sjobergbild: Översvämning i Bollnäs 1916. Ljusnan har stigit till en rekordhög nivå i maj med hela 6,4 meter över det normala och samhä…\n",
            "2021-08-31 07:41:38 Översvämning i Bollnäs 1916. Ljusnan har stigit till en rekordhög nivå i maj med hela 6,4 meter över det normala oc… https://t.co/ylSF2jQUwi\n"
          ]
        }
      ],
      "source": [
        "import csv\n",
        "\n",
        "# Open/Create a file to append data\n",
        "csvFile = open(path + '/tweets_oversvamning.csv', 'a')\n",
        "#Use csv Writer\n",
        "csvWriter = csv.writer(csvFile)\n",
        "\n",
        "for tweet in tw.Cursor(api.search,q=search_words,count=100,\n",
        "                           lang=\"sv\",\n",
        "                           since=date_since).items(10):\n",
        "    print (tweet.created_at, tweet.text)\n",
        "    csvWriter.writerow([tweet.created_at, tweet.text.encode('utf-8')])"
      ]
    },
    {
      "cell_type": "markdown",
      "metadata": {
        "id": "cGEtwhY_Z31L"
      },
      "source": [
        "# Det finns mängder med interna metoder för ett enda Twitterobjekt i Tweepy. VI hämtar alla tweets från en specifik användare och tittar på vilken information vi kan extrahera från en tweet."
      ]
    },
    {
      "cell_type": "code",
      "execution_count": null,
      "metadata": {
        "colab": {
          "base_uri": "https://localhost:8080/"
        },
        "id": "c1kNjSEp-SFj",
        "outputId": "d38f8175-1f8c-40e7-cfbb-f32d55df2f20"
      },
      "outputs": [
        {
          "name": "stdout",
          "output_type": "stream",
          "text": [
            "Number of tweets extracted: 200.\n",
            "\n",
            "5 recent tweets:\n",
            "\n",
            "Uppdraget blir att motverka fusk och utbetalningar genom ”systemövergripande analyser av utbetalningar från välfärd… https://t.co/RB2UHStJb1\n",
            "\n",
            "\"Den ena anklagas av kurdiska myndigheter för att ha försökt rekrytera andra svenskor under sin tid i Sverige.\"\n",
            "\n",
            "https://t.co/LSaW1tZq6D\n",
            "\n",
            "Under 10 års tid har 28 grundskolor runt om i landet haft långvarigt låga kunskapsresultat, långt under riksgenomsn… https://t.co/r4U9ylB7PS\n",
            "\n",
            "Daniel Ståhl gjorde ingen förvånad när han tog hem herrarnas diskus i Finnkampen.\n",
            "\n",
            "https://t.co/Bacvu9XVpY\n",
            "\n",
            "”Oliver lämnade oss plötsligt och jag och hans familj och vänner är i stor sorg”, skriver skådespelarens syster Jos… https://t.co/vbsmO2zYii\n",
            "\n"
          ]
        }
      ],
      "source": [
        "# We create a tweet list as follows:\n",
        "tweets_svt = api.user_timeline(screen_name=\"svtnyheter\", count=200)\n",
        "print(\"Number of tweets extracted: {}.\\n\".format(len(tweets_svt)))\n",
        "\n",
        "# We print the most recent 5 tweets:\n",
        "print(\"5 recent tweets:\\n\")\n",
        "for tweet in tweets_svt[:5]:\n",
        "    print(tweet.text)\n",
        "    print()\n"
      ]
    },
    {
      "cell_type": "code",
      "execution_count": null,
      "metadata": {
        "colab": {
          "base_uri": "https://localhost:8080/"
        },
        "id": "6OE54Rxzd2vP",
        "outputId": "06b99ba4-2767-4726-edbb-bdc22c90bf85"
      },
      "outputs": [
        {
          "data": {
            "text/plain": [
              "['__class__',\n",
              " '__delattr__',\n",
              " '__dict__',\n",
              " '__dir__',\n",
              " '__doc__',\n",
              " '__eq__',\n",
              " '__format__',\n",
              " '__ge__',\n",
              " '__getattribute__',\n",
              " '__getstate__',\n",
              " '__gt__',\n",
              " '__hash__',\n",
              " '__init__',\n",
              " '__init_subclass__',\n",
              " '__le__',\n",
              " '__lt__',\n",
              " '__module__',\n",
              " '__ne__',\n",
              " '__new__',\n",
              " '__reduce__',\n",
              " '__reduce_ex__',\n",
              " '__repr__',\n",
              " '__setattr__',\n",
              " '__sizeof__',\n",
              " '__str__',\n",
              " '__subclasshook__',\n",
              " '__weakref__',\n",
              " '_api',\n",
              " '_json',\n",
              " 'author',\n",
              " 'contributors',\n",
              " 'coordinates',\n",
              " 'created_at',\n",
              " 'destroy',\n",
              " 'entities',\n",
              " 'favorite',\n",
              " 'favorite_count',\n",
              " 'favorited',\n",
              " 'geo',\n",
              " 'id',\n",
              " 'id_str',\n",
              " 'in_reply_to_screen_name',\n",
              " 'in_reply_to_status_id',\n",
              " 'in_reply_to_status_id_str',\n",
              " 'in_reply_to_user_id',\n",
              " 'in_reply_to_user_id_str',\n",
              " 'is_quote_status',\n",
              " 'lang',\n",
              " 'parse',\n",
              " 'parse_list',\n",
              " 'place',\n",
              " 'possibly_sensitive',\n",
              " 'retweet',\n",
              " 'retweet_count',\n",
              " 'retweeted',\n",
              " 'retweets',\n",
              " 'source',\n",
              " 'source_url',\n",
              " 'text',\n",
              " 'truncated',\n",
              " 'user']"
            ]
          },
          "execution_count": 32,
          "metadata": {},
          "output_type": "execute_result"
        }
      ],
      "source": [
        "# Internal methods of a single tweet object:\n",
        "dir(tweets_svt[0])"
      ]
    },
    {
      "cell_type": "markdown",
      "metadata": {
        "id": "4_dfbHGI1Z9P"
      },
      "source": [
        "# Dags för nästa steg, data wrangling och deskriptiv statistik för att lära känna vår datamängd."
      ]
    },
    {
      "cell_type": "code",
      "execution_count": null,
      "metadata": {
        "id": "pRnf_kjl1rWQ"
      },
      "outputs": [],
      "source": [
        "import nltk as tm\n",
        "from nltk.corpus import stopwords\n",
        "import wordcloud\n",
        "import matplotlib\n",
        "from sklearn.feature_extraction.text import CountVectorizer\n",
        "# Sätt upp visualiseringen\n",
        "%matplotlib inline\n",
        "matplotlib.pyplot.rcParams['figure.figsize'] = [10, 6]"
      ]
    },
    {
      "cell_type": "code",
      "execution_count": null,
      "metadata": {
        "colab": {
          "base_uri": "https://localhost:8080/",
          "height": 419
        },
        "id": "euEAdgQS3GXW",
        "outputId": "5c1aed1f-4bfb-421f-990e-fa5a986abbd5"
      },
      "outputs": [
        {
          "data": {
            "text/html": [
              "<div>\n",
              "<style scoped>\n",
              "    .dataframe tbody tr th:only-of-type {\n",
              "        vertical-align: middle;\n",
              "    }\n",
              "\n",
              "    .dataframe tbody tr th {\n",
              "        vertical-align: top;\n",
              "    }\n",
              "\n",
              "    .dataframe thead th {\n",
              "        text-align: right;\n",
              "    }\n",
              "</style>\n",
              "<table border=\"1\" class=\"dataframe\">\n",
              "  <thead>\n",
              "    <tr style=\"text-align: right;\">\n",
              "      <th></th>\n",
              "      <th>Tweets</th>\n",
              "    </tr>\n",
              "  </thead>\n",
              "  <tbody>\n",
              "    <tr>\n",
              "      <th>0</th>\n",
              "      <td>Uppdraget blir att motverka fusk och utbetalni...</td>\n",
              "    </tr>\n",
              "    <tr>\n",
              "      <th>1</th>\n",
              "      <td>\"Den ena anklagas av kurdiska myndigheter för ...</td>\n",
              "    </tr>\n",
              "    <tr>\n",
              "      <th>2</th>\n",
              "      <td>Under 10 års tid har 28 grundskolor runt om i ...</td>\n",
              "    </tr>\n",
              "    <tr>\n",
              "      <th>3</th>\n",
              "      <td>Daniel Ståhl gjorde ingen förvånad när han tog...</td>\n",
              "    </tr>\n",
              "    <tr>\n",
              "      <th>4</th>\n",
              "      <td>”Oliver lämnade oss plötsligt och jag och hans...</td>\n",
              "    </tr>\n",
              "    <tr>\n",
              "      <th>...</th>\n",
              "      <td>...</td>\n",
              "    </tr>\n",
              "    <tr>\n",
              "      <th>195</th>\n",
              "      <td>Olof Palmes grav på Adolf Fredriks kyrkogård i...</td>\n",
              "    </tr>\n",
              "    <tr>\n",
              "      <th>196</th>\n",
              "      <td>Polisen benämner händelserna som en naturkatas...</td>\n",
              "    </tr>\n",
              "    <tr>\n",
              "      <th>197</th>\n",
              "      <td>Omkring 30 000 familjer har fått sina hem förs...</td>\n",
              "    </tr>\n",
              "    <tr>\n",
              "      <th>198</th>\n",
              "      <td>Tidigare i somras rapporterades det om sjöar i...</td>\n",
              "    </tr>\n",
              "    <tr>\n",
              "      <th>199</th>\n",
              "      <td>Under tisdagen skrevs siffrorna över antalet o...</td>\n",
              "    </tr>\n",
              "  </tbody>\n",
              "</table>\n",
              "<p>200 rows × 1 columns</p>\n",
              "</div>"
            ],
            "text/plain": [
              "                                                Tweets\n",
              "0    Uppdraget blir att motverka fusk och utbetalni...\n",
              "1    \"Den ena anklagas av kurdiska myndigheter för ...\n",
              "2    Under 10 års tid har 28 grundskolor runt om i ...\n",
              "3    Daniel Ståhl gjorde ingen förvånad när han tog...\n",
              "4    ”Oliver lämnade oss plötsligt och jag och hans...\n",
              "..                                                 ...\n",
              "195  Olof Palmes grav på Adolf Fredriks kyrkogård i...\n",
              "196  Polisen benämner händelserna som en naturkatas...\n",
              "197  Omkring 30 000 familjer har fått sina hem förs...\n",
              "198  Tidigare i somras rapporterades det om sjöar i...\n",
              "199  Under tisdagen skrevs siffrorna över antalet o...\n",
              "\n",
              "[200 rows x 1 columns]"
            ]
          },
          "execution_count": 34,
          "metadata": {},
          "output_type": "execute_result"
        }
      ],
      "source": [
        "#lägg data i en dataframe\n",
        "\n",
        "svt_tweets = pd.DataFrame(data=[tweet.text for tweet in tweets_svt], columns=['Tweets'])\n",
        "svt_tweets\n",
        "\n"
      ]
    },
    {
      "cell_type": "code",
      "execution_count": null,
      "metadata": {
        "colab": {
          "base_uri": "https://localhost:8080/",
          "height": 419
        },
        "id": "D_-XOzp97A5P",
        "outputId": "a0c5c369-ec69-439f-f7af-bc6f651978b4"
      },
      "outputs": [
        {
          "data": {
            "text/html": [
              "<div>\n",
              "<style scoped>\n",
              "    .dataframe tbody tr th:only-of-type {\n",
              "        vertical-align: middle;\n",
              "    }\n",
              "\n",
              "    .dataframe tbody tr th {\n",
              "        vertical-align: top;\n",
              "    }\n",
              "\n",
              "    .dataframe thead th {\n",
              "        text-align: right;\n",
              "    }\n",
              "</style>\n",
              "<table border=\"1\" class=\"dataframe\">\n",
              "  <thead>\n",
              "    <tr style=\"text-align: right;\">\n",
              "      <th></th>\n",
              "      <th>Tweets</th>\n",
              "      <th>len</th>\n",
              "      <th>ID</th>\n",
              "      <th>Source</th>\n",
              "      <th>Likes</th>\n",
              "      <th>RTs</th>\n",
              "    </tr>\n",
              "  </thead>\n",
              "  <tbody>\n",
              "    <tr>\n",
              "      <th>0</th>\n",
              "      <td>Uppdraget blir att motverka fusk och utbetalni...</td>\n",
              "      <td>140</td>\n",
              "      <td>1434779703521550336</td>\n",
              "      <td>Twitter Web App</td>\n",
              "      <td>0</td>\n",
              "      <td>0</td>\n",
              "    </tr>\n",
              "    <tr>\n",
              "      <th>1</th>\n",
              "      <td>\"Den ena anklagas av kurdiska myndigheter för ...</td>\n",
              "      <td>136</td>\n",
              "      <td>1434776000177573889</td>\n",
              "      <td>Twitter Web App</td>\n",
              "      <td>2</td>\n",
              "      <td>2</td>\n",
              "    </tr>\n",
              "    <tr>\n",
              "      <th>2</th>\n",
              "      <td>Under 10 års tid har 28 grundskolor runt om i ...</td>\n",
              "      <td>140</td>\n",
              "      <td>1434745784214372354</td>\n",
              "      <td>Twitter Web App</td>\n",
              "      <td>10</td>\n",
              "      <td>6</td>\n",
              "    </tr>\n",
              "    <tr>\n",
              "      <th>3</th>\n",
              "      <td>Daniel Ståhl gjorde ingen förvånad när han tog...</td>\n",
              "      <td>106</td>\n",
              "      <td>1434530760325664771</td>\n",
              "      <td>Twitter Web App</td>\n",
              "      <td>45</td>\n",
              "      <td>1</td>\n",
              "    </tr>\n",
              "    <tr>\n",
              "      <th>4</th>\n",
              "      <td>”Oliver lämnade oss plötsligt och jag och hans...</td>\n",
              "      <td>140</td>\n",
              "      <td>1434517422892060677</td>\n",
              "      <td>Twitter Web App</td>\n",
              "      <td>20</td>\n",
              "      <td>6</td>\n",
              "    </tr>\n",
              "    <tr>\n",
              "      <th>...</th>\n",
              "      <td>...</td>\n",
              "      <td>...</td>\n",
              "      <td>...</td>\n",
              "      <td>...</td>\n",
              "      <td>...</td>\n",
              "      <td>...</td>\n",
              "    </tr>\n",
              "    <tr>\n",
              "      <th>195</th>\n",
              "      <td>Olof Palmes grav på Adolf Fredriks kyrkogård i...</td>\n",
              "      <td>119</td>\n",
              "      <td>1427988904838316033</td>\n",
              "      <td>Twitter Web App</td>\n",
              "      <td>42</td>\n",
              "      <td>20</td>\n",
              "    </tr>\n",
              "    <tr>\n",
              "      <th>196</th>\n",
              "      <td>Polisen benämner händelserna som en naturkatas...</td>\n",
              "      <td>140</td>\n",
              "      <td>1427966288438210562</td>\n",
              "      <td>Twitter Web App</td>\n",
              "      <td>31</td>\n",
              "      <td>15</td>\n",
              "    </tr>\n",
              "    <tr>\n",
              "      <th>197</th>\n",
              "      <td>Omkring 30 000 familjer har fått sina hem förs...</td>\n",
              "      <td>136</td>\n",
              "      <td>1427911995873955840</td>\n",
              "      <td>Twitter Web App</td>\n",
              "      <td>19</td>\n",
              "      <td>6</td>\n",
              "    </tr>\n",
              "    <tr>\n",
              "      <th>198</th>\n",
              "      <td>Tidigare i somras rapporterades det om sjöar i...</td>\n",
              "      <td>140</td>\n",
              "      <td>1427892509959761920</td>\n",
              "      <td>Twitter Web App</td>\n",
              "      <td>13</td>\n",
              "      <td>6</td>\n",
              "    </tr>\n",
              "    <tr>\n",
              "      <th>199</th>\n",
              "      <td>Under tisdagen skrevs siffrorna över antalet o...</td>\n",
              "      <td>140</td>\n",
              "      <td>1427884799696453632</td>\n",
              "      <td>Twitter Web App</td>\n",
              "      <td>12</td>\n",
              "      <td>3</td>\n",
              "    </tr>\n",
              "  </tbody>\n",
              "</table>\n",
              "<p>200 rows × 6 columns</p>\n",
              "</div>"
            ],
            "text/plain": [
              "                                                Tweets  len  ...  Likes RTs\n",
              "0    Uppdraget blir att motverka fusk och utbetalni...  140  ...      0   0\n",
              "1    \"Den ena anklagas av kurdiska myndigheter för ...  136  ...      2   2\n",
              "2    Under 10 års tid har 28 grundskolor runt om i ...  140  ...     10   6\n",
              "3    Daniel Ståhl gjorde ingen förvånad när han tog...  106  ...     45   1\n",
              "4    ”Oliver lämnade oss plötsligt och jag och hans...  140  ...     20   6\n",
              "..                                                 ...  ...  ...    ...  ..\n",
              "195  Olof Palmes grav på Adolf Fredriks kyrkogård i...  119  ...     42  20\n",
              "196  Polisen benämner händelserna som en naturkatas...  140  ...     31  15\n",
              "197  Omkring 30 000 familjer har fått sina hem förs...  136  ...     19   6\n",
              "198  Tidigare i somras rapporterades det om sjöar i...  140  ...     13   6\n",
              "199  Under tisdagen skrevs siffrorna över antalet o...  140  ...     12   3\n",
              "\n",
              "[200 rows x 6 columns]"
            ]
          },
          "execution_count": 35,
          "metadata": {},
          "output_type": "execute_result"
        }
      ],
      "source": [
        "#lite mer information om varje tweet som kan vara intressant\n",
        "svt_tweets['len']  = [len(x.text) for x in tweets_svt]  # number of characters in a tweet (think length)\n",
        "svt_tweets['ID']   = [x.id for x in tweets_svt]\n",
        "svt_tweets['Source'] = [x.source for x in tweets_svt]\n",
        "svt_tweets['Likes']  = [x.favorite_count for x in tweets_svt] # favorite_count\n",
        "svt_tweets['RTs']    =  [x.retweet_count for x in tweets_svt]  # retweet count\n",
        "\n",
        "svt_tweets"
      ]
    },
    {
      "cell_type": "markdown",
      "metadata": {
        "id": "Au4VLDLw1W4-"
      },
      "source": [
        "Lite mer funktioner för att bekanta oss med den textdata vi ska analysera.."
      ]
    },
    {
      "cell_type": "code",
      "execution_count": null,
      "metadata": {
        "colab": {
          "base_uri": "https://localhost:8080/"
        },
        "id": "91c44L2z1VY5",
        "outputId": "35e5d361-6af1-42a0-b29d-5e98cf3e3c09"
      },
      "outputs": [
        {
          "name": "stdout",
          "output_type": "stream",
          "text": [
            "<class 'pandas.core.frame.DataFrame'>\n",
            "RangeIndex: 200 entries, 0 to 199\n",
            "Data columns (total 6 columns):\n",
            " #   Column  Non-Null Count  Dtype \n",
            "---  ------  --------------  ----- \n",
            " 0   Tweets  200 non-null    object\n",
            " 1   len     200 non-null    int64 \n",
            " 2   ID      200 non-null    int64 \n",
            " 3   Source  200 non-null    object\n",
            " 4   Likes   200 non-null    int64 \n",
            " 5   RTs     200 non-null    int64 \n",
            "dtypes: int64(4), object(2)\n",
            "memory usage: 9.5+ KB\n"
          ]
        }
      ],
      "source": [
        "svt_tweets.info()"
      ]
    },
    {
      "cell_type": "code",
      "execution_count": null,
      "metadata": {
        "colab": {
          "base_uri": "https://localhost:8080/"
        },
        "id": "XA51_AXh1e_Z",
        "outputId": "f8072cba-a152-40f5-ad68-b899e7b8898d"
      },
      "outputs": [
        {
          "data": {
            "text/plain": [
              "(200, 6)"
            ]
          },
          "execution_count": 37,
          "metadata": {},
          "output_type": "execute_result"
        }
      ],
      "source": [
        "svt_tweets.shape"
      ]
    },
    {
      "cell_type": "markdown",
      "metadata": {
        "id": "H95vFGyw05cz"
      },
      "source": [
        "# Städning av textdata"
      ]
    },
    {
      "cell_type": "code",
      "execution_count": null,
      "metadata": {
        "colab": {
          "base_uri": "https://localhost:8080/"
        },
        "id": "ji-TmanE1ziD",
        "outputId": "7c7e63f1-5a22-457f-90d5-b804eaf09899"
      },
      "outputs": [
        {
          "data": {
            "text/plain": [
              "0      Uppdraget blir att motverka fusk och utbetalni...\n",
              "1      \"Den ena anklagas av kurdiska myndigheter för ...\n",
              "2      Under 10 års tid har 28 grundskolor runt om i ...\n",
              "3      Daniel Ståhl gjorde ingen förvånad när han tog...\n",
              "4      ”Oliver lämnade oss plötsligt och jag och hans...\n",
              "                             ...                        \n",
              "195    Olof Palmes grav på Adolf Fredriks kyrkogård i...\n",
              "196    Polisen benämner händelserna som en naturkatas...\n",
              "197    Omkring 30 000 familjer har fått sina hem förs...\n",
              "198    Tidigare i somras rapporterades det om sjöar i...\n",
              "199    Under tisdagen skrevs siffrorna över antalet o...\n",
              "Name: Tweets, Length: 200, dtype: object"
            ]
          },
          "execution_count": 38,
          "metadata": {},
          "output_type": "execute_result"
        }
      ],
      "source": [
        "#Vi är ju faktiskt bara intresserade av fritexten i varje tweet, plocka ut denna kolumn\n",
        "tweets_corpus = svt_tweets.Tweets\n",
        "tweets_corpus"
      ]
    },
    {
      "cell_type": "code",
      "execution_count": null,
      "metadata": {
        "colab": {
          "base_uri": "https://localhost:8080/"
        },
        "id": "6zKKh_Kg1wt5",
        "outputId": "8b3df60c-6aa9-4b5a-95d4-70e37375f105"
      },
      "outputs": [
        {
          "data": {
            "text/plain": [
              "0      Uppdraget blir att motverka fusk och utbetalni...\n",
              "1      \"Den ena anklagas av kurdiska myndigheter fr a...\n",
              "2      Under 10 rs tid har 28 grundskolor runt om i l...\n",
              "3      Daniel Sthl gjorde ingen frvnad nr han tog hem...\n",
              "4      Oliver lmnade oss pltsligt och jag och hans fa...\n",
              "                             ...                        \n",
              "195    Olof Palmes grav p Adolf Fredriks kyrkogrd i S...\n",
              "196    Polisen benmner hndelserna som en naturkatastr...\n",
              "197    Omkring 30 000 familjer har ftt sina hem frstr...\n",
              "198    Tidigare i somras rapporterades det om sjar i ...\n",
              "199    Under tisdagen skrevs siffrorna ver antalet of...\n",
              "Name: Tweets, Length: 200, dtype: object"
            ]
          },
          "execution_count": 39,
          "metadata": {},
          "output_type": "execute_result"
        }
      ],
      "source": [
        "#Ta bort emojiis\n",
        "encode2ascii = lambda x: x.encode('ascii', errors='ignore').decode('utf-8')\n",
        "clean_tweets = tweets_corpus.apply(encode2ascii)\n",
        "clean_tweets"
      ]
    },
    {
      "cell_type": "code",
      "execution_count": null,
      "metadata": {
        "colab": {
          "base_uri": "https://localhost:8080/"
        },
        "id": "UA3fMR9o2H5j",
        "outputId": "c208e291-a00c-4d05-d00e-30473e63208f"
      },
      "outputs": [
        {
          "data": {
            "text/plain": [
              "0      Uppdraget blir att motverka fusk och utbetalni...\n",
              "1      \"Den ena anklagas av kurdiska myndigheter fr a...\n",
              "2      Under 10 rs tid har 28 grundskolor runt om i l...\n",
              "3      Daniel Sthl gjorde ingen frvnad nr han tog hem...\n",
              "4      Oliver lmnade oss pltsligt och jag och hans fa...\n",
              "                             ...                        \n",
              "195    Olof Palmes grav p Adolf Fredriks kyrkogrd i S...\n",
              "196    Polisen benmner hndelserna som en naturkatastr...\n",
              "197    Omkring 30 000 familjer har ftt sina hem frstr...\n",
              "198    Tidigare i somras rapporterades det om sjar i ...\n",
              "199    Under tisdagen skrevs siffrorna ver antalet of...\n",
              "Name: Tweets, Length: 200, dtype: object"
            ]
          },
          "execution_count": 40,
          "metadata": {},
          "output_type": "execute_result"
        }
      ],
      "source": [
        "#Ta på URL:er\n",
        "clean_tweets = clean_tweets.str.replace(r'http\\S+', '')\n",
        "clean_tweets"
      ]
    },
    {
      "cell_type": "markdown",
      "metadata": {
        "id": "YeojLhth2USg"
      },
      "source": [
        "När vi städat klart behöver vi skapa en datamängd som vi kan analysera, hur det bör göras beror på vad vi vill analysera. I detta fall vill vi undersöka trender, eller ofta förekommande ämnen. För detta är en möjlighet att räkna ord (det gör man generellt \"alltid\" när man jobbar med NLP). \n",
        "\n",
        "Vad vi behöver då är en Term Document Matrix (TDM), också kallad Document Term Matrix (DTM). En TDM är en tabell som fångar antal ord i ett dokument. Exempelvis kan vi räkna ord i varje tweet och slagra detta i en rad i vår TDM. \n",
        "\n",
        "Vi kan dessutom förvänta oss att behöva utföra detta flera gånger, och därmed vill vi ha en funktion för detta. "
      ]
    },
    {
      "cell_type": "code",
      "execution_count": null,
      "metadata": {
        "colab": {
          "base_uri": "https://localhost:8080/"
        },
        "id": "snLa-HL00Xz6",
        "outputId": "cebd06c2-e402-4b0d-b206-f83b5e743a32"
      },
      "outputs": [
        {
          "name": "stdout",
          "output_type": "stream",
          "text": [
            "[nltk_data] Downloading package stopwords to /root/nltk_data...\n",
            "[nltk_data]   Unzipping corpora/stopwords.zip.\n"
          ]
        },
        {
          "data": {
            "text/plain": [
              "True"
            ]
          },
          "execution_count": 41,
          "metadata": {},
          "output_type": "execute_result"
        }
      ],
      "source": [
        "tm.download('stopwords')"
      ]
    },
    {
      "cell_type": "code",
      "execution_count": null,
      "metadata": {
        "id": "ZWO3oYtL0a5l"
      },
      "outputs": [],
      "source": [
        "stopWords = set(stopwords.words('swedish'))\n",
        "#stopWords"
      ]
    },
    {
      "cell_type": "code",
      "execution_count": null,
      "metadata": {
        "id": "nSDKtIuU2Tsx"
      },
      "outputs": [],
      "source": [
        "#definiera en funktion som tar ett corpus med text och det antal som ett ord måste förkomma för att vara med i matrisen (en gång här)\n",
        "def create_term_document_matrix(corpus, min_df=1):\n",
        "    #Instansiera objektet med givna inparametrar\n",
        "    cvec = CountVectorizer(min_df=min_df, stop_words=stopWords)\n",
        "    #Skapa en matris för hela corpuset \n",
        "    tfmatrix = cvec.fit_transform(corpus)\n",
        "    #Returnera den skapade matrisen som en DataFrame\n",
        "    return pd.DataFrame(data=tfmatrix.toarray(), columns=cvec.get_feature_names())"
      ]
    },
    {
      "cell_type": "code",
      "execution_count": null,
      "metadata": {
        "colab": {
          "base_uri": "https://localhost:8080/",
          "height": 224
        },
        "id": "6VKHNdrZH9wy",
        "outputId": "253da5b2-4bef-44bf-eadb-8375fec05cbc"
      },
      "outputs": [
        {
          "data": {
            "text/html": [
              "<div>\n",
              "<style scoped>\n",
              "    .dataframe tbody tr th:only-of-type {\n",
              "        vertical-align: middle;\n",
              "    }\n",
              "\n",
              "    .dataframe tbody tr th {\n",
              "        vertical-align: top;\n",
              "    }\n",
              "\n",
              "    .dataframe thead th {\n",
              "        text-align: right;\n",
              "    }\n",
              "</style>\n",
              "<table border=\"1\" class=\"dataframe\">\n",
              "  <thead>\n",
              "    <tr style=\"text-align: right;\">\n",
              "      <th></th>\n",
              "      <th>10</th>\n",
              "      <th>28</th>\n",
              "      <th>analyser</th>\n",
              "      <th>andra</th>\n",
              "      <th>anklagas</th>\n",
              "      <th>daniel</th>\n",
              "      <th>diskus</th>\n",
              "      <th>ena</th>\n",
              "      <th>familj</th>\n",
              "      <th>finnkampen</th>\n",
              "      <th>fr</th>\n",
              "      <th>frn</th>\n",
              "      <th>frskt</th>\n",
              "      <th>frvnad</th>\n",
              "      <th>fusk</th>\n",
              "      <th>genom</th>\n",
              "      <th>gjorde</th>\n",
              "      <th>grundskolor</th>\n",
              "      <th>haft</th>\n",
              "      <th>hem</th>\n",
              "      <th>herrarnas</th>\n",
              "      <th>jos</th>\n",
              "      <th>kunskapsresultat</th>\n",
              "      <th>kurdiska</th>\n",
              "      <th>landet</th>\n",
              "      <th>lga</th>\n",
              "      <th>lmnade</th>\n",
              "      <th>lngt</th>\n",
              "      <th>lngvarigt</th>\n",
              "      <th>motverka</th>\n",
              "      <th>myndigheter</th>\n",
              "      <th>nr</th>\n",
              "      <th>oliver</th>\n",
              "      <th>pltsligt</th>\n",
              "      <th>rekrytera</th>\n",
              "      <th>riksgenomsn</th>\n",
              "      <th>rs</th>\n",
              "      <th>runt</th>\n",
              "      <th>skdespelarens</th>\n",
              "      <th>skriver</th>\n",
              "      <th>sorg</th>\n",
              "      <th>sthl</th>\n",
              "      <th>stor</th>\n",
              "      <th>svenskor</th>\n",
              "      <th>sverige</th>\n",
              "      <th>systemvergripande</th>\n",
              "      <th>syster</th>\n",
              "      <th>tid</th>\n",
              "      <th>tog</th>\n",
              "      <th>uppdraget</th>\n",
              "      <th>utbetalningar</th>\n",
              "      <th>vlfrd</th>\n",
              "      <th>vnner</th>\n",
              "    </tr>\n",
              "  </thead>\n",
              "  <tbody>\n",
              "    <tr>\n",
              "      <th>0</th>\n",
              "      <td>0</td>\n",
              "      <td>0</td>\n",
              "      <td>1</td>\n",
              "      <td>0</td>\n",
              "      <td>0</td>\n",
              "      <td>0</td>\n",
              "      <td>0</td>\n",
              "      <td>0</td>\n",
              "      <td>0</td>\n",
              "      <td>0</td>\n",
              "      <td>0</td>\n",
              "      <td>1</td>\n",
              "      <td>0</td>\n",
              "      <td>0</td>\n",
              "      <td>1</td>\n",
              "      <td>1</td>\n",
              "      <td>0</td>\n",
              "      <td>0</td>\n",
              "      <td>0</td>\n",
              "      <td>0</td>\n",
              "      <td>0</td>\n",
              "      <td>0</td>\n",
              "      <td>0</td>\n",
              "      <td>0</td>\n",
              "      <td>0</td>\n",
              "      <td>0</td>\n",
              "      <td>0</td>\n",
              "      <td>0</td>\n",
              "      <td>0</td>\n",
              "      <td>1</td>\n",
              "      <td>0</td>\n",
              "      <td>0</td>\n",
              "      <td>0</td>\n",
              "      <td>0</td>\n",
              "      <td>0</td>\n",
              "      <td>0</td>\n",
              "      <td>0</td>\n",
              "      <td>0</td>\n",
              "      <td>0</td>\n",
              "      <td>0</td>\n",
              "      <td>0</td>\n",
              "      <td>0</td>\n",
              "      <td>0</td>\n",
              "      <td>0</td>\n",
              "      <td>0</td>\n",
              "      <td>1</td>\n",
              "      <td>0</td>\n",
              "      <td>0</td>\n",
              "      <td>0</td>\n",
              "      <td>1</td>\n",
              "      <td>2</td>\n",
              "      <td>1</td>\n",
              "      <td>0</td>\n",
              "    </tr>\n",
              "    <tr>\n",
              "      <th>1</th>\n",
              "      <td>0</td>\n",
              "      <td>0</td>\n",
              "      <td>0</td>\n",
              "      <td>1</td>\n",
              "      <td>1</td>\n",
              "      <td>0</td>\n",
              "      <td>0</td>\n",
              "      <td>1</td>\n",
              "      <td>0</td>\n",
              "      <td>0</td>\n",
              "      <td>1</td>\n",
              "      <td>0</td>\n",
              "      <td>1</td>\n",
              "      <td>0</td>\n",
              "      <td>0</td>\n",
              "      <td>0</td>\n",
              "      <td>0</td>\n",
              "      <td>0</td>\n",
              "      <td>0</td>\n",
              "      <td>0</td>\n",
              "      <td>0</td>\n",
              "      <td>0</td>\n",
              "      <td>0</td>\n",
              "      <td>1</td>\n",
              "      <td>0</td>\n",
              "      <td>0</td>\n",
              "      <td>0</td>\n",
              "      <td>0</td>\n",
              "      <td>0</td>\n",
              "      <td>0</td>\n",
              "      <td>1</td>\n",
              "      <td>0</td>\n",
              "      <td>0</td>\n",
              "      <td>0</td>\n",
              "      <td>1</td>\n",
              "      <td>0</td>\n",
              "      <td>0</td>\n",
              "      <td>0</td>\n",
              "      <td>0</td>\n",
              "      <td>0</td>\n",
              "      <td>0</td>\n",
              "      <td>0</td>\n",
              "      <td>0</td>\n",
              "      <td>1</td>\n",
              "      <td>1</td>\n",
              "      <td>0</td>\n",
              "      <td>0</td>\n",
              "      <td>1</td>\n",
              "      <td>0</td>\n",
              "      <td>0</td>\n",
              "      <td>0</td>\n",
              "      <td>0</td>\n",
              "      <td>0</td>\n",
              "    </tr>\n",
              "    <tr>\n",
              "      <th>2</th>\n",
              "      <td>1</td>\n",
              "      <td>1</td>\n",
              "      <td>0</td>\n",
              "      <td>0</td>\n",
              "      <td>0</td>\n",
              "      <td>0</td>\n",
              "      <td>0</td>\n",
              "      <td>0</td>\n",
              "      <td>0</td>\n",
              "      <td>0</td>\n",
              "      <td>0</td>\n",
              "      <td>0</td>\n",
              "      <td>0</td>\n",
              "      <td>0</td>\n",
              "      <td>0</td>\n",
              "      <td>0</td>\n",
              "      <td>0</td>\n",
              "      <td>1</td>\n",
              "      <td>1</td>\n",
              "      <td>0</td>\n",
              "      <td>0</td>\n",
              "      <td>0</td>\n",
              "      <td>1</td>\n",
              "      <td>0</td>\n",
              "      <td>1</td>\n",
              "      <td>1</td>\n",
              "      <td>0</td>\n",
              "      <td>1</td>\n",
              "      <td>1</td>\n",
              "      <td>0</td>\n",
              "      <td>0</td>\n",
              "      <td>0</td>\n",
              "      <td>0</td>\n",
              "      <td>0</td>\n",
              "      <td>0</td>\n",
              "      <td>1</td>\n",
              "      <td>1</td>\n",
              "      <td>1</td>\n",
              "      <td>0</td>\n",
              "      <td>0</td>\n",
              "      <td>0</td>\n",
              "      <td>0</td>\n",
              "      <td>0</td>\n",
              "      <td>0</td>\n",
              "      <td>0</td>\n",
              "      <td>0</td>\n",
              "      <td>0</td>\n",
              "      <td>1</td>\n",
              "      <td>0</td>\n",
              "      <td>0</td>\n",
              "      <td>0</td>\n",
              "      <td>0</td>\n",
              "      <td>0</td>\n",
              "    </tr>\n",
              "    <tr>\n",
              "      <th>3</th>\n",
              "      <td>0</td>\n",
              "      <td>0</td>\n",
              "      <td>0</td>\n",
              "      <td>0</td>\n",
              "      <td>0</td>\n",
              "      <td>1</td>\n",
              "      <td>1</td>\n",
              "      <td>0</td>\n",
              "      <td>0</td>\n",
              "      <td>1</td>\n",
              "      <td>0</td>\n",
              "      <td>0</td>\n",
              "      <td>0</td>\n",
              "      <td>1</td>\n",
              "      <td>0</td>\n",
              "      <td>0</td>\n",
              "      <td>1</td>\n",
              "      <td>0</td>\n",
              "      <td>0</td>\n",
              "      <td>1</td>\n",
              "      <td>1</td>\n",
              "      <td>0</td>\n",
              "      <td>0</td>\n",
              "      <td>0</td>\n",
              "      <td>0</td>\n",
              "      <td>0</td>\n",
              "      <td>0</td>\n",
              "      <td>0</td>\n",
              "      <td>0</td>\n",
              "      <td>0</td>\n",
              "      <td>0</td>\n",
              "      <td>1</td>\n",
              "      <td>0</td>\n",
              "      <td>0</td>\n",
              "      <td>0</td>\n",
              "      <td>0</td>\n",
              "      <td>0</td>\n",
              "      <td>0</td>\n",
              "      <td>0</td>\n",
              "      <td>0</td>\n",
              "      <td>0</td>\n",
              "      <td>1</td>\n",
              "      <td>0</td>\n",
              "      <td>0</td>\n",
              "      <td>0</td>\n",
              "      <td>0</td>\n",
              "      <td>0</td>\n",
              "      <td>0</td>\n",
              "      <td>1</td>\n",
              "      <td>0</td>\n",
              "      <td>0</td>\n",
              "      <td>0</td>\n",
              "      <td>0</td>\n",
              "    </tr>\n",
              "    <tr>\n",
              "      <th>4</th>\n",
              "      <td>0</td>\n",
              "      <td>0</td>\n",
              "      <td>0</td>\n",
              "      <td>0</td>\n",
              "      <td>0</td>\n",
              "      <td>0</td>\n",
              "      <td>0</td>\n",
              "      <td>0</td>\n",
              "      <td>1</td>\n",
              "      <td>0</td>\n",
              "      <td>0</td>\n",
              "      <td>0</td>\n",
              "      <td>0</td>\n",
              "      <td>0</td>\n",
              "      <td>0</td>\n",
              "      <td>0</td>\n",
              "      <td>0</td>\n",
              "      <td>0</td>\n",
              "      <td>0</td>\n",
              "      <td>0</td>\n",
              "      <td>0</td>\n",
              "      <td>1</td>\n",
              "      <td>0</td>\n",
              "      <td>0</td>\n",
              "      <td>0</td>\n",
              "      <td>0</td>\n",
              "      <td>1</td>\n",
              "      <td>0</td>\n",
              "      <td>0</td>\n",
              "      <td>0</td>\n",
              "      <td>0</td>\n",
              "      <td>0</td>\n",
              "      <td>1</td>\n",
              "      <td>1</td>\n",
              "      <td>0</td>\n",
              "      <td>0</td>\n",
              "      <td>0</td>\n",
              "      <td>0</td>\n",
              "      <td>1</td>\n",
              "      <td>1</td>\n",
              "      <td>1</td>\n",
              "      <td>0</td>\n",
              "      <td>1</td>\n",
              "      <td>0</td>\n",
              "      <td>0</td>\n",
              "      <td>0</td>\n",
              "      <td>1</td>\n",
              "      <td>0</td>\n",
              "      <td>0</td>\n",
              "      <td>0</td>\n",
              "      <td>0</td>\n",
              "      <td>0</td>\n",
              "      <td>1</td>\n",
              "    </tr>\n",
              "  </tbody>\n",
              "</table>\n",
              "</div>"
            ],
            "text/plain": [
              "   10  28  analyser  andra  ...  uppdraget  utbetalningar  vlfrd  vnner\n",
              "0   0   0         1      0  ...          1              2      1      0\n",
              "1   0   0         0      1  ...          0              0      0      0\n",
              "2   1   1         0      0  ...          0              0      0      0\n",
              "3   0   0         0      0  ...          0              0      0      0\n",
              "4   0   0         0      0  ...          0              0      0      1\n",
              "\n",
              "[5 rows x 53 columns]"
            ]
          },
          "execution_count": 44,
          "metadata": {},
          "output_type": "execute_result"
        }
      ],
      "source": [
        "create_term_document_matrix(clean_tweets.head(5))"
      ]
    },
    {
      "cell_type": "code",
      "execution_count": null,
      "metadata": {
        "colab": {
          "base_uri": "https://localhost:8080/"
        },
        "id": "5AzUyKqgH94D",
        "outputId": "96f0490b-28ab-4b11-bd05-6d25693fbd80"
      },
      "outputs": [
        {
          "data": {
            "text/plain": [
              "(5, 53)"
            ]
          },
          "execution_count": 45,
          "metadata": {},
          "output_type": "execute_result"
        }
      ],
      "source": [
        "#antal rader och kolumner i vår TDM, vad betyder det?\n",
        "_.shape"
      ]
    },
    {
      "cell_type": "markdown",
      "metadata": {
        "id": "gQ02DXayK-6V"
      },
      "source": [
        ""
      ]
    },
    {
      "cell_type": "markdown",
      "metadata": {
        "id": "mWwL7Zk0K_B_"
      },
      "source": [
        "För att räkna ut de ord som är mest frekventa så definierar vi en ny funktion, som visulaiserar de mest frekvent förkommande orden."
      ]
    },
    {
      "cell_type": "code",
      "execution_count": null,
      "metadata": {
        "id": "AEOfnHgvK8KD"
      },
      "outputs": [],
      "source": [
        "def plot_top_words(tweets, num_word_instances, top_words):\n",
        "    tdm_df = create_term_document_matrix(tweets, min_df=2)\n",
        "    word_frequencies = tdm_df[[x for x in tdm_df.columns if len(x) > 1]].sum()\n",
        "    sorted_words = word_frequencies.sort_values(ascending=False)\n",
        "    top_sorted_words = sorted_words[:num_word_instances]\n",
        "    top_sorted_words[:top_words].plot.bar()\n",
        "    return top_sorted_words"
      ]
    },
    {
      "cell_type": "code",
      "execution_count": null,
      "metadata": {
        "colab": {
          "base_uri": "https://localhost:8080/",
          "height": 762
        },
        "id": "o2H6VjvJLcV4",
        "outputId": "8d7c1e61-af56-41ae-81b5-905effe2a914"
      },
      "outputs": [
        {
          "data": {
            "text/plain": [
              "fr             41\n",
              "frn            21\n",
              "ska            18\n",
              "usa            17\n",
              "kommer         15\n",
              "afghanistan    14\n",
              "ver            14\n",
              "sger           14\n",
              "nr             13\n",
              "personer       10\n",
              "vill            9\n",
              "polisen         9\n",
              "sverige         8\n",
              "regeringen      8\n",
              "svt             8\n",
              "mnga            7\n",
              "flera           7\n",
              "talibanerna     7\n",
              "kabul           6\n",
              "sitt            6\n",
              "dtype: int64"
            ]
          },
          "execution_count": 47,
          "metadata": {},
          "output_type": "execute_result"
        },
        {
          "data": {
            "image/png": "[encoded data removed]",
            "text/plain": [
              "<Figure size 720x432 with 1 Axes>"
            ]
          },
          "metadata": {
            "needs_background": "light"
          },
          "output_type": "display_data"
        }
      ],
      "source": [
        "#vilka ord är mest frekventa i vår sökning?\n",
        "top_words = plot_top_words(clean_tweets, 20, 5)\n",
        "top_words"
      ]
    },
    {
      "cell_type": "code",
      "execution_count": null,
      "metadata": {
        "id": "_r3htBfXLyVF"
      },
      "outputs": [],
      "source": [
        "#gör om stora bokstäver till små\n",
        "tweets_lowered = clean_tweets.str.lower()"
      ]
    },
    {
      "cell_type": "code",
      "execution_count": null,
      "metadata": {
        "colab": {
          "base_uri": "https://localhost:8080/",
          "height": 781
        },
        "id": "xMkw2_SCL22k",
        "outputId": "984bae21-fae9-4ccc-9dc6-fd95fd1e7361"
      },
      "outputs": [
        {
          "data": {
            "text/plain": [
              "fr             41\n",
              "frn            21\n",
              "ska            18\n",
              "usa            17\n",
              "kommer         15\n",
              "afghanistan    14\n",
              "ver            14\n",
              "sger           14\n",
              "nr             13\n",
              "personer       10\n",
              "vill            9\n",
              "polisen         9\n",
              "sverige         8\n",
              "regeringen      8\n",
              "svt             8\n",
              "mnga            7\n",
              "flera           7\n",
              "talibanerna     7\n",
              "kabul           6\n",
              "sitt            6\n",
              "dtype: int64"
            ]
          },
          "execution_count": 49,
          "metadata": {},
          "output_type": "execute_result"
        },
        {
          "data": {
            "image/png": "[encoded data removed]",
            "text/plain": [
              "<Figure size 720x432 with 1 Axes>"
            ]
          },
          "metadata": {
            "needs_background": "light"
          },
          "output_type": "display_data"
        }
      ],
      "source": [
        "top_words_lowered = plot_top_words(tweets_lowered, 20, 10)\n",
        "top_words_lowered"
      ]
    },
    {
      "cell_type": "code",
      "execution_count": null,
      "metadata": {
        "colab": {
          "base_uri": "https://localhost:8080/",
          "height": 669
        },
        "id": "KZilrp5JNNv8",
        "outputId": "d2a403d3-1b3e-4e1b-f120-8f37ef44fe35"
      },
      "outputs": [
        {
          "data": {
            "text/html": [
              "<div>\n",
              "<style scoped>\n",
              "    .dataframe tbody tr th:only-of-type {\n",
              "        vertical-align: middle;\n",
              "    }\n",
              "\n",
              "    .dataframe tbody tr th {\n",
              "        vertical-align: top;\n",
              "    }\n",
              "\n",
              "    .dataframe thead th {\n",
              "        text-align: right;\n",
              "    }\n",
              "</style>\n",
              "<table border=\"1\" class=\"dataframe\">\n",
              "  <thead>\n",
              "    <tr style=\"text-align: right;\">\n",
              "      <th></th>\n",
              "      <th>Top tweeted clean</th>\n",
              "      <th>Top tweeted lowered</th>\n",
              "    </tr>\n",
              "  </thead>\n",
              "  <tbody>\n",
              "    <tr>\n",
              "      <th>0</th>\n",
              "      <td>fr</td>\n",
              "      <td>fr</td>\n",
              "    </tr>\n",
              "    <tr>\n",
              "      <th>1</th>\n",
              "      <td>frn</td>\n",
              "      <td>frn</td>\n",
              "    </tr>\n",
              "    <tr>\n",
              "      <th>2</th>\n",
              "      <td>ska</td>\n",
              "      <td>ska</td>\n",
              "    </tr>\n",
              "    <tr>\n",
              "      <th>3</th>\n",
              "      <td>usa</td>\n",
              "      <td>usa</td>\n",
              "    </tr>\n",
              "    <tr>\n",
              "      <th>4</th>\n",
              "      <td>kommer</td>\n",
              "      <td>kommer</td>\n",
              "    </tr>\n",
              "    <tr>\n",
              "      <th>5</th>\n",
              "      <td>afghanistan</td>\n",
              "      <td>afghanistan</td>\n",
              "    </tr>\n",
              "    <tr>\n",
              "      <th>6</th>\n",
              "      <td>ver</td>\n",
              "      <td>ver</td>\n",
              "    </tr>\n",
              "    <tr>\n",
              "      <th>7</th>\n",
              "      <td>sger</td>\n",
              "      <td>sger</td>\n",
              "    </tr>\n",
              "    <tr>\n",
              "      <th>8</th>\n",
              "      <td>nr</td>\n",
              "      <td>nr</td>\n",
              "    </tr>\n",
              "    <tr>\n",
              "      <th>9</th>\n",
              "      <td>personer</td>\n",
              "      <td>personer</td>\n",
              "    </tr>\n",
              "    <tr>\n",
              "      <th>10</th>\n",
              "      <td>vill</td>\n",
              "      <td>vill</td>\n",
              "    </tr>\n",
              "    <tr>\n",
              "      <th>11</th>\n",
              "      <td>polisen</td>\n",
              "      <td>polisen</td>\n",
              "    </tr>\n",
              "    <tr>\n",
              "      <th>12</th>\n",
              "      <td>sverige</td>\n",
              "      <td>sverige</td>\n",
              "    </tr>\n",
              "    <tr>\n",
              "      <th>13</th>\n",
              "      <td>regeringen</td>\n",
              "      <td>regeringen</td>\n",
              "    </tr>\n",
              "    <tr>\n",
              "      <th>14</th>\n",
              "      <td>svt</td>\n",
              "      <td>svt</td>\n",
              "    </tr>\n",
              "    <tr>\n",
              "      <th>15</th>\n",
              "      <td>mnga</td>\n",
              "      <td>mnga</td>\n",
              "    </tr>\n",
              "    <tr>\n",
              "      <th>16</th>\n",
              "      <td>flera</td>\n",
              "      <td>flera</td>\n",
              "    </tr>\n",
              "    <tr>\n",
              "      <th>17</th>\n",
              "      <td>talibanerna</td>\n",
              "      <td>talibanerna</td>\n",
              "    </tr>\n",
              "    <tr>\n",
              "      <th>18</th>\n",
              "      <td>kabul</td>\n",
              "      <td>kabul</td>\n",
              "    </tr>\n",
              "    <tr>\n",
              "      <th>19</th>\n",
              "      <td>sitt</td>\n",
              "      <td>sitt</td>\n",
              "    </tr>\n",
              "  </tbody>\n",
              "</table>\n",
              "</div>"
            ],
            "text/plain": [
              "   Top tweeted clean Top tweeted lowered\n",
              "0                 fr                  fr\n",
              "1                frn                 frn\n",
              "2                ska                 ska\n",
              "3                usa                 usa\n",
              "4             kommer              kommer\n",
              "5        afghanistan         afghanistan\n",
              "6                ver                 ver\n",
              "7               sger                sger\n",
              "8                 nr                  nr\n",
              "9           personer            personer\n",
              "10              vill                vill\n",
              "11           polisen             polisen\n",
              "12           sverige             sverige\n",
              "13        regeringen          regeringen\n",
              "14               svt                 svt\n",
              "15              mnga                mnga\n",
              "16             flera               flera\n",
              "17       talibanerna         talibanerna\n",
              "18             kabul               kabul\n",
              "19              sitt                sitt"
            ]
          },
          "execution_count": 50,
          "metadata": {},
          "output_type": "execute_result"
        }
      ],
      "source": [
        "pd.DataFrame(\n",
        "    {\n",
        "        \"Top tweeted clean\": top_words[0:20].index,\n",
        "        \"Top tweeted lowered\": top_words_lowered[0:20].index,\n",
        "    }\n",
        ")"
      ]
    },
    {
      "cell_type": "code",
      "execution_count": null,
      "metadata": {
        "colab": {
          "base_uri": "https://localhost:8080/"
        },
        "id": "WHzg1kJgNVik",
        "outputId": "b3c1bb6d-8079-42da-f3c2-0c9a3403f7b7"
      },
      "outputs": [
        {
          "data": {
            "text/plain": [
              "0      uppdraget blir  motverka fusk  utbetalningar g...\n",
              "1      \"  anklagas  kurdiska myndigheter    frskt rek...\n",
              "2      under      grundskolor runt   landet haft lngv...\n",
              "3      daniel sthl gjorde ingen frvnad     herrarnas ...\n",
              "4      oliver lmnade  pltsligt    hans familj  vnner ...\n",
              "                             ...                        \n",
              "195    olof palmes grav  adolf fredriks kyrkogrd  sto...\n",
              "196    polisen benmner hndelserna   naturkatastrof  v...\n",
              "197    omkring   familjer   sina  frstrda  jordbvning...\n",
              "198    tidigare  somras rapporterades   sjar  argenti...\n",
              "199    under tisdagen skrevs siffrorna  antalet offer...\n",
              "Name: Tweets, Length: 200, dtype: object"
            ]
          },
          "execution_count": 51,
          "metadata": {},
          "output_type": "execute_result"
        }
      ],
      "source": [
        "#ta bort ord som är 3 bokstäver eller kortare\n",
        "tweets_low_no_small = tweets_lowered.str.replace(r\"\\b\\w{1,3}\\b\", \"\")\n",
        "tweets_low_no_small"
      ]
    },
    {
      "cell_type": "code",
      "execution_count": null,
      "metadata": {
        "colab": {
          "base_uri": "https://localhost:8080/",
          "height": 1000
        },
        "id": "uWXAIJ64NZ9J",
        "outputId": "93000606-e367-40bb-e2a5-7738e57ca951"
      },
      "outputs": [
        {
          "data": {
            "text/plain": [
              "kommer            15\n",
              "sger              14\n",
              "afghanistan       14\n",
              "personer          10\n",
              "vill               9\n",
              "polisen            9\n",
              "regeringen         8\n",
              "sverige            8\n",
              "mnga               7\n",
              "talibanerna        7\n",
              "flera              7\n",
              "tidigare           6\n",
              "sitt               6\n",
              "andersson          6\n",
              "kabul              6\n",
              "svensk             5\n",
              "landet             5\n",
              "bara               5\n",
              "finns              5\n",
              "mannen             5\n",
              "kunna              5\n",
              "enligt             5\n",
              "person             5\n",
              "mnniskor           4\n",
              "finansminister     4\n",
              "ocks               4\n",
              "miljarder          4\n",
              "fler               4\n",
              "partiledare        4\n",
              "hela               4\n",
              "just               4\n",
              "avgr               4\n",
              "klart              4\n",
              "lfven              4\n",
              "kritik             4\n",
              "plats              3\n",
              "fick               3\n",
              "innan              3\n",
              "personal           3\n",
              "kina               3\n",
              "partiet            3\n",
              "eslv               3\n",
              "orkanen            3\n",
              "kring              3\n",
              "explosion          3\n",
              "kronor             3\n",
              "magdalena          3\n",
              "mste               3\n",
              "kvinnor            3\n",
              "mord               3\n",
              "dtype: int64"
            ]
          },
          "execution_count": 52,
          "metadata": {},
          "output_type": "execute_result"
        },
        {
          "data": {
            "image/png": "[encoded data removed]",
            "text/plain": [
              "<Figure size 720x432 with 1 Axes>"
            ]
          },
          "metadata": {
            "needs_background": "light"
          },
          "output_type": "display_data"
        }
      ],
      "source": [
        "# Skapar ny topplista utan korta ord\n",
        "top_words_low_no_small = plot_top_words(tweets_low_no_small, 50, 30)\n",
        "top_words_low_no_small"
      ]
    }
  ],
  "metadata": {
    "colab": {
      "name": "Analysing_Twitter_data.ipynb",
      "provenance": [],
      "authorship_tag": "ABX9TyOra6Qydzvdrir0A4Gg8tJQ",
      "include_colab_link": true
    },
    "kernelspec": {
      "display_name": "Python 3",
      "language": "python",
      "name": "python3"
    },
    "language_info": {
      "codemirror_mode": {
        "name": "ipython",
        "version": 3
      },
      "file_extension": ".py",
      "mimetype": "text/x-python",
      "name": "python",
      "nbconvert_exporter": "python",
      "pygments_lexer": "ipython3",
      "version": "3.7.4"
    }
  },
  "nbformat": 4,
  "nbformat_minor": 0
}