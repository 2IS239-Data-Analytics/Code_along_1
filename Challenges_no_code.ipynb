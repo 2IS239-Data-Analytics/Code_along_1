{
 "cells": [
  {
   "cell_type": "markdown",
   "metadata": {
    "id": "Rb2-MlYqdwWS"
   },
   "source": [
    "# Övningar code along\n",
    "\n",
    "\n",
    "\n"
   ]
  },
  {
   "cell_type": "markdown",
   "metadata": {
    "id": "oNLcCdwzdwWU"
   },
   "source": [
    "### Challenge 1: Sorting out references\n",
    "\n",
    "What does the following program print out?\n",
    "\n",
    "~~~\n",
    "first, second = 'Grace', 'Hopper'\n",
    "third, fourth = second, first\n",
    "print(third, fourth)\n",
    "~~~\n",
    "\n",
    "\n"
   ]
  },
  {
   "cell_type": "code",
   "execution_count": null,
   "metadata": {
    "colab": {
     "base_uri": "https://localhost:8080/"
    },
    "id": "sRG2Fin6dwWV",
    "outputId": "a691f172-9ce6-4ac5-ead2-0126c682cab4"
   },
   "outputs": [],
   "source": []
  },
  {
   "cell_type": "markdown",
   "metadata": {
    "id": "jj0s5qBVdwWY"
   },
   "source": [
    "### Challenge 2: Slicing strings \n",
    "\n",
    "A section of an array is called a [slice](reference.html#slice).\n",
    "We can take slices of character strings as well:\n",
    "\n",
    "What is the value of `element[:4]`?\n",
    "What about `element[4:]`?\n",
    "Or `element[:]`?\n",
    "\n",
    "What is `element[-1]`?\n",
    "What is `element[-2]`?\n",
    "Given those answers,\n",
    "explain what `element[1:-1]` does."
   ]
  },
  {
   "cell_type": "code",
   "execution_count": null,
   "metadata": {
    "id": "jTn3O1kgdwWZ"
   },
   "outputs": [],
   "source": []
  },
  {
   "cell_type": "code",
   "execution_count": null,
   "metadata": {
    "id": "lHn3tSzhdwWd"
   },
   "outputs": [],
   "source": []
  },
  {
   "cell_type": "markdown",
   "metadata": {
    "id": "zWj-SovRdwWg"
   },
   "source": [
    "## Tutorial 2: Repeating Actions with Loops"
   ]
  },
  {
   "cell_type": "markdown",
   "metadata": {
    "id": "HZdT2DwEdwWh"
   },
   "source": [
    "## Challenge 1: From 1 to N \n",
    "Python has a built-in function called `range` that creates a sequence of numbers. Range can\n",
    " accept 1-3 parameters. If one parameter is input, range creates an array of that length,\n",
    " starting at zero and incrementing by 1. If 2 parameters are input, range starts at\n",
    " the first and ends just before the second, incrementing by one. If range is passed 3 parameters,\n",
    " it starts at the first one, ends just before the second one, and increments by the third one. For\n",
    " example,\n",
    " `range(3)` produces the numbers 0, 1, 2, while `range(2, 5)` produces 2, 3, 4,\n",
    " and `range(3, 10, 3)` produces 3, 6, 9.\n",
    " Using `range`,\n",
    " write a loop that uses `range` to print the first 3 natural numbers:\n",
    "\n",
    " ~~~ {.python}\n",
    " 1\n",
    " 2\n",
    " 3\n",
    " ~~~"
   ]
  },
  {
   "cell_type": "code",
   "execution_count": null,
   "metadata": {
    "id": "GkOEcj4kdwWh"
   },
   "outputs": [],
   "source": []
  },
  {
   "cell_type": "markdown",
   "metadata": {
    "id": "MRkkcN0LlFLD"
   },
   "source": [
    "Given a range of first 10 numbers, Iterate from start number to the end number and print the sum of the current number and previous number"
   ]
  },
  {
   "cell_type": "code",
   "execution_count": null,
   "metadata": {
    "id": "Sr6PZ4q1lJY2"
   },
   "outputs": [],
   "source": []
  },
  {
   "cell_type": "code",
   "execution_count": null,
   "metadata": {
    "id": "qj05-QfngcIu"
   },
   "outputs": [],
   "source": []
  },
  {
   "cell_type": "markdown",
   "metadata": {
    "id": "j2yW2I47dwWk"
   },
   "source": [
    "## Challenge 2: Computing powers with loops\n",
    "\n",
    "Exponentiation is built into Python:\n",
    "\n",
    " ~~~ {.python}\n",
    " print(5 ** 3)\n",
    " ~~~\n",
    " ~~~ {.output}\n",
    " 125\n",
    " ~~~\n",
    "\n",
    "Write a loop that calculates the same result as `5 ** 3` using multiplication (and without exponentiation)."
   ]
  },
  {
   "cell_type": "code",
   "execution_count": null,
   "metadata": {
    "id": "MuhiblzNdwWn"
   },
   "outputs": [],
   "source": []
  },
  {
   "cell_type": "markdown",
   "metadata": {
    "id": "1GM9tG6gdwWq"
   },
   "source": [
    "## Challenge 3: Reverse a string\n",
    "\n",
    "Write a loop that takes a string,and produces a new string with the characters in reverse order, so `'Newton'` becomes `'notweN'`. The `len()` function might be useful.\n",
    "\n",
    "**Please note!** There are much more compact ways to do things like reversing\n",
    "a string, put we won't go into that at this time."
   ]
  },
  {
   "cell_type": "code",
   "execution_count": null,
   "metadata": {
    "id": "eBItHTijdwWs"
   },
   "outputs": [],
   "source": []
  },
  {
   "cell_type": "code",
   "execution_count": null,
   "metadata": {
    "id": "90opR9rGkVUZ"
   },
   "outputs": [],
   "source": []
  },
  {
   "cell_type": "markdown",
   "metadata": {
    "id": "7LuFoDoDdwWv"
   },
   "source": [
    "## Tutorial 3: List tutorial \n",
    "OBS! Vissa ord är reserverade i python, men går fortfarande att använda, dock uppstår ofta märkliga fel då. Ett exempel är list. "
   ]
  },
  {
   "cell_type": "code",
   "execution_count": null,
   "metadata": {
    "id": "3ahqcEHW7xKj"
   },
   "outputs": [],
   "source": []
  },
  {
   "cell_type": "code",
   "execution_count": null,
   "metadata": {
    "id": "OAGpbEpM8obI"
   },
   "outputs": [],
   "source": [
    "\n"
   ]
  },
  {
   "cell_type": "code",
   "execution_count": null,
   "metadata": {
    "id": "o2oQcC028WTR"
   },
   "outputs": [],
   "source": [
    "\n"
   ]
  },
  {
   "cell_type": "markdown",
   "metadata": {
    "id": "bRmOcbHKmB1x"
   },
   "source": [
    "Create a list of gift and print out the last gift in the list."
   ]
  },
  {
   "cell_type": "code",
   "execution_count": null,
   "metadata": {
    "id": "9seiDD8O9H1B"
   },
   "outputs": [],
   "source": [
    "\n"
   ]
  },
  {
   "cell_type": "markdown",
   "metadata": {
    "id": "9siMQ-aUmNHZ"
   },
   "source": [
    "How many keyes are in the dictionary below?"
   ]
  },
  {
   "cell_type": "code",
   "execution_count": null,
   "metadata": {
    "id": "DIoPnjw083zU"
   },
   "outputs": [],
   "source": []
  },
  {
   "cell_type": "markdown",
   "metadata": {
    "id": "l7X1Ne2pllxB"
   },
   "source": [
    "Write a Python program to print out a set containing all the colors from color_list_1 which are not present in color_list_2."
   ]
  },
  {
   "cell_type": "code",
   "execution_count": null,
   "metadata": {
    "id": "TlNVrBCo5TAB"
   },
   "outputs": [],
   "source": []
  },
  {
   "cell_type": "markdown",
   "metadata": {
    "id": "5Wi_0KUylRHF"
   },
   "source": [
    "Create a function in python that takes a list of numbers. Iterate it and print only those numbers which are divisible of 5"
   ]
  },
  {
   "cell_type": "code",
   "execution_count": null,
   "metadata": {
    "id": "jRaS3WvB4WFn"
   },
   "outputs": [],
   "source": []
  },
  {
   "cell_type": "markdown",
   "metadata": {
    "id": "raIvS_V9dwWv"
   },
   "source": [
    "### Turn a string into a list\n",
    "\n",
    "Use a for-loop to convert the string \"hello\" into a list of letters:\n",
    "\n",
    "~~~\n",
    "[\"h\", \"e\", \"l\", \"l\", \"o\"]\n",
    "~~~\n",
    "\n",
    "Hint: You can create an empty list like this:\n",
    "\n",
    "~~~\n",
    "my_list = []\n",
    "~~~"
   ]
  },
  {
   "cell_type": "code",
   "execution_count": null,
   "metadata": {
    "id": "hbho4jqodwWw"
   },
   "outputs": [],
   "source": []
  },
  {
   "cell_type": "code",
   "execution_count": null,
   "metadata": {
    "id": "YGeXGUzzdwWz"
   },
   "outputs": [],
   "source": []
  },
  {
   "cell_type": "markdown",
   "metadata": {
    "id": "T7DAUvnGdwW2"
   },
   "source": [
    "### Challenge 2: Tuples and exchanges\n",
    "\n",
    "Explain what the overall effect of this code is:\n",
    "\n",
    "~~~\n",
    "left = 'L'\n",
    "right = 'R'\n",
    "\n",
    "temp = left\n",
    "left = right\n",
    "right = temp\n",
    "~~~\n",
    "\n",
    "Compare it to:\n",
    "\n",
    "~~~\n",
    "left, right = right, left\n",
    "~~~\n",
    "\n",
    "Do they always do the same thing?\n",
    "Which do you find easier to read?"
   ]
  },
  {
   "cell_type": "code",
   "execution_count": null,
   "metadata": {
    "id": "Midf5XxGdwW2"
   },
   "outputs": [],
   "source": [
    "\n"
   ]
  },
  {
   "cell_type": "code",
   "execution_count": null,
   "metadata": {
    "id": "pZYC_TaadwW5"
   },
   "outputs": [],
   "source": []
  },
  {
   "cell_type": "code",
   "execution_count": null,
   "metadata": {
    "id": "paaq26H6dwW9"
   },
   "outputs": [],
   "source": []
  },
  {
   "cell_type": "markdown",
   "metadata": {
    "id": "ndu4cHhRdwW_"
   },
   "source": [
    "## Other good stuff"
   ]
  },
  {
   "cell_type": "markdown",
   "metadata": {
    "id": "PxieOg9-dwW_"
   },
   "source": [
    "### RegEx\n",
    "\n",
    "RegEx är en speciell funktionalitet som Pyhton importerat och kan vara användbar för att kontrollera hur olika strängar ser ut. För att läsa mer om RegEx i Python se denna [länk](https://docs.python.org/3/howto/regex.html)\n",
    "\n",
    "Om inte annat så kan man bygga massa coola grejer med hjälp av RegEx, men syntaxen är lite krånglig och det tar ett tag att sätta sig in i det. Vill man skapa egna web-crawlers som hämtar data på internet är RegEx nästan obligatoriskt. "
   ]
  },
  {
   "cell_type": "code",
   "execution_count": null,
   "metadata": {
    "id": "YssrfIDidwXA"
   },
   "outputs": [],
   "source": [
    "#Exempel 1: Kontrollera att en sträng endast innehåller godkända variabler:\n"
   ]
  },
  {
   "cell_type": "code",
   "execution_count": null,
   "metadata": {
    "id": "SwedMCPndwXC"
   },
   "outputs": [],
   "source": [
    "#Exempel 2: Hitta de strängar som innehåller en stor bokstav som följs av flera små:\n",
    "\n"
   ]
  },
  {
   "cell_type": "code",
   "execution_count": null,
   "metadata": {
    "id": "UcY5ASWxdwXE"
   },
   "outputs": [],
   "source": [
    "#Exempel 3: Hitta alla siffror i en text (attribution to Shwetanshu Rohatgi at GeeksForGeeks for the initial code)\n",
    "\n"
   ]
  },
  {
   "cell_type": "code",
   "execution_count": null,
   "metadata": {
    "id": "1_KNIPy5dwXH"
   },
   "outputs": [],
   "source": [
    "#Exempel 4: Hitta och plocka ut alla mailadresser i en text och spara dem (attribution to shubhamg199630 for the inital code)\n",
    "\n"
   ]
  },
  {
   "cell_type": "markdown",
   "metadata": {
    "id": "c2zr7lE5AReh"
   },
   "source": []
  },
  {
   "cell_type": "code",
   "execution_count": null,
   "metadata": {
    "id": "PNYef7hfdwXJ"
   },
   "outputs": [],
   "source": []
  }
 ],
 "metadata": {
  "colab": {
   "collapsed_sections": [],
   "name": "Challenges.ipynb",
   "provenance": [],
   "toc_visible": true
  },
  "kernelspec": {
   "display_name": "Python 3",
   "language": "python",
   "name": "python3"
  },
  "language_info": {
   "codemirror_mode": {
    "name": "ipython",
    "version": 3
   },
   "file_extension": ".py",
   "mimetype": "text/x-python",
   "name": "python",
   "nbconvert_exporter": "python",
   "pygments_lexer": "ipython3",
   "version": "3.7.4"
  }
 },
 "nbformat": 4,
 "nbformat_minor": 4
}
