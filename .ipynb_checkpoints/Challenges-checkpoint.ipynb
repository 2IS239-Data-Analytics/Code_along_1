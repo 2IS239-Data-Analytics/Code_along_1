{
  "nbformat": 4,
  "nbformat_minor": 0,
  "metadata": {
    "kernelspec": {
      "display_name": "Python 3",
      "language": "python",
      "name": "python3"
    },
    "language_info": {
      "codemirror_mode": {
        "name": "ipython",
        "version": 3
      },
      "file_extension": ".py",
      "mimetype": "text/x-python",
      "name": "python",
      "nbconvert_exporter": "python",
      "pygments_lexer": "ipython3",
      "version": "3.7.4"
    },
    "colab": {
      "name": "Challenges.ipynb",
      "provenance": [],
      "collapsed_sections": [],
      "toc_visible": true
    }
  },
  "cells": [
    {
      "cell_type": "markdown",
      "metadata": {
        "id": "Rb2-MlYqdwWS"
      },
      "source": [
        "# Övningar code along\n",
        "\n",
        "\n",
        "\n"
      ]
    },
    {
      "cell_type": "markdown",
      "metadata": {
        "id": "oNLcCdwzdwWU"
      },
      "source": [
        "### Challenge 1: Sorting out references\n",
        "\n",
        "What does the following program print out?\n",
        "\n",
        "~~~\n",
        "first, second = 'Grace', 'Hopper'\n",
        "third, fourth = second, first\n",
        "print(third, fourth)\n",
        "~~~\n",
        "\n",
        "\n"
      ]
    },
    {
      "cell_type": "code",
      "metadata": {
        "id": "sRG2Fin6dwWV",
        "colab": {
          "base_uri": "https://localhost:8080/"
        },
        "outputId": "a691f172-9ce6-4ac5-ead2-0126c682cab4"
      },
      "source": [
        "first, second = 'Grace', 'Hopper'\n",
        "third, fourth = second, first\n",
        "print(third, fourth)"
      ],
      "execution_count": 2,
      "outputs": [
        {
          "output_type": "stream",
          "name": "stdout",
          "text": [
            "Hopper Grace\n"
          ]
        }
      ]
    },
    {
      "cell_type": "markdown",
      "metadata": {
        "id": "jj0s5qBVdwWY"
      },
      "source": [
        "### Challenge 2: Slicing strings \n",
        "\n",
        "A section of an array is called a [slice](reference.html#slice).\n",
        "We can take slices of character strings as well:\n",
        "\n",
        "What is the value of `element[:4]`?\n",
        "What about `element[4:]`?\n",
        "Or `element[:]`?\n",
        "\n",
        "What is `element[-1]`?\n",
        "What is `element[-2]`?\n",
        "Given those answers,\n",
        "explain what `element[1:-1]` does."
      ]
    },
    {
      "cell_type": "code",
      "metadata": {
        "id": "jTn3O1kgdwWZ"
      },
      "source": [
        "element = 'oxygen'\n",
        "print(element[0:3])\n",
        "print(element[3:6])"
      ],
      "execution_count": null,
      "outputs": []
    },
    {
      "cell_type": "code",
      "metadata": {
        "id": "lHn3tSzhdwWd"
      },
      "source": [
        "print(element[:4])\n",
        "print(element[4:])\n",
        "print(element[:])\n",
        "print(element[-1])\n",
        "print(element[-2])"
      ],
      "execution_count": null,
      "outputs": []
    },
    {
      "cell_type": "markdown",
      "metadata": {
        "id": "zWj-SovRdwWg"
      },
      "source": [
        "## Tutorial 2: Repeating Actions with Loops"
      ]
    },
    {
      "cell_type": "markdown",
      "metadata": {
        "id": "HZdT2DwEdwWh"
      },
      "source": [
        "## Challenge 1: From 1 to N \n",
        "Python has a built-in function called `range` that creates a sequence of numbers. Range can\n",
        " accept 1-3 parameters. If one parameter is input, range creates an array of that length,\n",
        " starting at zero and incrementing by 1. If 2 parameters are input, range starts at\n",
        " the first and ends just before the second, incrementing by one. If range is passed 3 parameters,\n",
        " it starts at the first one, ends just before the second one, and increments by the third one. For\n",
        " example,\n",
        " `range(3)` produces the numbers 0, 1, 2, while `range(2, 5)` produces 2, 3, 4,\n",
        " and `range(3, 10, 3)` produces 3, 6, 9.\n",
        " Using `range`,\n",
        " write a loop that uses `range` to print the first 3 natural numbers:\n",
        "\n",
        " ~~~ {.python}\n",
        " 1\n",
        " 2\n",
        " 3\n",
        " ~~~"
      ]
    },
    {
      "cell_type": "code",
      "metadata": {
        "id": "GkOEcj4kdwWh"
      },
      "source": [
        "#challenge 1\n",
        "for i in range(3):\n",
        "  print(i + 1)"
      ],
      "execution_count": null,
      "outputs": []
    },
    {
      "cell_type": "markdown",
      "metadata": {
        "id": "MRkkcN0LlFLD"
      },
      "source": [
        "Given a range of first 10 numbers, Iterate from start number to the end number and print the sum of the current number and previous number"
      ]
    },
    {
      "cell_type": "code",
      "metadata": {
        "id": "Sr6PZ4q1lJY2"
      },
      "source": [
        "def sumNum(num):\n",
        "    previousNum = 0\n",
        "    for i in range(num):\n",
        "        sum = previousNum + i\n",
        "        print(\"Current Number\", i, \"Previous Number \", previousNum,\" Sum: \", sum)\n",
        "        previousNum = i\n",
        "\n",
        "print(\"Printing current and previous number sum in a given range(10)\")\n",
        "sumNum(10)"
      ],
      "execution_count": null,
      "outputs": []
    },
    {
      "cell_type": "code",
      "metadata": {
        "id": "qj05-QfngcIu"
      },
      "source": [
        "sumNum(5)"
      ],
      "execution_count": null,
      "outputs": []
    },
    {
      "cell_type": "markdown",
      "metadata": {
        "id": "j2yW2I47dwWk"
      },
      "source": [
        "## Challenge 2: Computing powers with loops\n",
        "\n",
        "Exponentiation is built into Python:\n",
        "\n",
        " ~~~ {.python}\n",
        " print(5 ** 3)\n",
        " ~~~\n",
        " ~~~ {.output}\n",
        " 125\n",
        " ~~~\n",
        "\n",
        "Write a loop that calculates the same result as `5 ** 3` using multiplication (and without exponentiation)."
      ]
    },
    {
      "cell_type": "code",
      "metadata": {
        "id": "MuhiblzNdwWn"
      },
      "source": [
        "#challenge 2\n",
        "x = 5\n",
        "exponent = 3\n",
        "product = 1\n",
        "\n",
        "for i in range(exponent):\n",
        "    # product = product * x\n",
        "    product *= x\n",
        "    \n",
        "print(product)"
      ],
      "execution_count": null,
      "outputs": []
    },
    {
      "cell_type": "markdown",
      "metadata": {
        "id": "1GM9tG6gdwWq"
      },
      "source": [
        "## Challenge 3: Reverse a string\n",
        "\n",
        "Write a loop that takes a string,and produces a new string with the characters in reverse order, so `'Newton'` becomes `'notweN'`. The `len()` function might be useful.\n",
        "\n",
        "**Please note!** There are much more compact ways to do things like reversing\n",
        "a string, put we won't go into that at this time."
      ]
    },
    {
      "cell_type": "code",
      "metadata": {
        "id": "eBItHTijdwWs"
      },
      "source": [
        "#challenge3\n",
        "s = 'Newton'\n",
        "s_rev = ''\n",
        "for i in range(len(s)):\n",
        "    s_rev += s[len(s)-i-1]\n",
        "    # Print out intermediate results to check our logic\n",
        "    print(s_rev)\n",
        "\n",
        "print(s_rev)"
      ],
      "execution_count": null,
      "outputs": []
    },
    {
      "cell_type": "code",
      "metadata": {
        "id": "90opR9rGkVUZ"
      },
      "source": [
        "s=\"Newton\" \n",
        "stringlength=len(s)\n",
        "slicedString=s[stringlength::-1] \n",
        "print (slicedString)"
      ],
      "execution_count": null,
      "outputs": []
    },
    {
      "cell_type": "markdown",
      "metadata": {
        "id": "7LuFoDoDdwWv"
      },
      "source": [
        "## Tutorial 3: List tutorial \n",
        "OBS! Vissa ord är reserverade i python, men går fortfarande att använda, dock uppstår ofta märkliga fel då. Ett exempel är list. "
      ]
    },
    {
      "cell_type": "code",
      "metadata": {
        "id": "3ahqcEHW7xKj"
      },
      "source": [
        "#sort the list \n",
        "lst=[11, 100, 99, 1000, 999, 457,289]\n",
        "\n",
        "lst.sort()\n",
        "print(lst)"
      ],
      "execution_count": null,
      "outputs": []
    },
    {
      "cell_type": "code",
      "metadata": {
        "id": "OAGpbEpM8obI"
      },
      "source": [
        "msg=\"Be yourself, everyone else is taken.\"\n",
        "#Type your code here.\n",
        "\n",
        "msg_length=len(msg)\n",
        "\n",
        "\n",
        "print(msg_length)\n"
      ],
      "execution_count": null,
      "outputs": []
    },
    {
      "cell_type": "code",
      "metadata": {
        "id": "o2oQcC028WTR"
      },
      "source": [
        "#How long is the list lst?\n",
        "lst=[11, 10, 12, 101, 99, 1000, 999]\n",
        "\n",
        "answer_1= len(lst)\n",
        "\n",
        "\n",
        "print(answer_1)\n"
      ],
      "execution_count": null,
      "outputs": []
    },
    {
      "cell_type": "markdown",
      "metadata": {
        "id": "bRmOcbHKmB1x"
      },
      "source": [
        "Create a list of gift and print out the last gift in the list."
      ]
    },
    {
      "cell_type": "code",
      "metadata": {
        "id": "9seiDD8O9H1B"
      },
      "source": [
        "\n",
        "gift_list=['book', 'playstation', 'wine', 'make up']\n",
        "\n",
        "index_no= len(gift_list)-1\n",
        "\n",
        "ans_1=gift_list[index_no]\n",
        "\n",
        "print(ans_1)\n"
      ],
      "execution_count": null,
      "outputs": []
    },
    {
      "cell_type": "markdown",
      "metadata": {
        "id": "9siMQ-aUmNHZ"
      },
      "source": [
        "How many keyes are in the dictionary below?"
      ]
    },
    {
      "cell_type": "code",
      "metadata": {
        "id": "DIoPnjw083zU"
      },
      "source": [
        "dict={\"Real Madrid\": 13,\"AC Milan\": 7,\"Bayern Munich\":5 ,\"Barcelona\": 5, \"Liverpool\": 5}  \n",
        "\n",
        "ans_1=len(dict)\n",
        "\n",
        "print(ans_1)"
      ],
      "execution_count": null,
      "outputs": []
    },
    {
      "cell_type": "markdown",
      "metadata": {
        "id": "l7X1Ne2pllxB"
      },
      "source": [
        "Write a Python program to print out a set containing all the colors from color_list_1 which are not present in color_list_2."
      ]
    },
    {
      "cell_type": "code",
      "metadata": {
        "id": "TlNVrBCo5TAB"
      },
      "source": [
        "\n",
        "color_list_1 = set([\"White\", \"Black\", \"Red\", \"Blue\", \"Green\"])\n",
        "color_list_2 = set([\"Red\", \"Green\"])\n",
        "\n",
        "print(color_list_1.difference(color_list_2))"
      ],
      "execution_count": null,
      "outputs": []
    },
    {
      "cell_type": "markdown",
      "metadata": {
        "id": "5Wi_0KUylRHF"
      },
      "source": [
        "Create a function in python that takes a list of numbers. Iterate it and print only those numbers which are divisible of 5"
      ]
    },
    {
      "cell_type": "code",
      "metadata": {
        "id": "jRaS3WvB4WFn"
      },
      "source": [
        "def findDivisible(numberList):\n",
        "    print(\"Given list is \", numberList)\n",
        "    print(\"Divisible of 5 in a list\")\n",
        "    for num in numberList:\n",
        "        if (num % 5 == 0):\n",
        "            print(num)\n",
        "\n",
        "numList = [10, 20, 33, 46, 55]\n",
        "findDivisible(numList)"
      ],
      "execution_count": null,
      "outputs": []
    },
    {
      "cell_type": "markdown",
      "metadata": {
        "id": "raIvS_V9dwWv"
      },
      "source": [
        "### Turn a string into a list\n",
        "\n",
        "Use a for-loop to convert the string \"hello\" into a list of letters:\n",
        "\n",
        "~~~\n",
        "[\"h\", \"e\", \"l\", \"l\", \"o\"]\n",
        "~~~\n",
        "\n",
        "Hint: You can create an empty list like this:\n",
        "\n",
        "~~~\n",
        "my_list = []\n",
        "~~~"
      ]
    },
    {
      "cell_type": "code",
      "metadata": {
        "id": "hbho4jqodwWw"
      },
      "source": [
        "word = \"hello\"\n",
        "\n",
        "my_list = []\n",
        "for i in word:\n",
        "    my_list.append(i)\n",
        "    \n",
        "print(my_list)"
      ],
      "execution_count": null,
      "outputs": []
    },
    {
      "cell_type": "code",
      "metadata": {
        "id": "YGeXGUzzdwWz"
      },
      "source": [
        "#meen, det behövs ingen for-loop\n",
        "word = \"hello\"\n",
        "my_list = []\n",
        "my_list = list(word)\n",
        "print(my_list)"
      ],
      "execution_count": null,
      "outputs": []
    },
    {
      "cell_type": "markdown",
      "metadata": {
        "id": "T7DAUvnGdwW2"
      },
      "source": [
        "### Challenge 2: Tuples and exchanges\n",
        "\n",
        "Explain what the overall effect of this code is:\n",
        "\n",
        "~~~\n",
        "left = 'L'\n",
        "right = 'R'\n",
        "\n",
        "temp = left\n",
        "left = right\n",
        "right = temp\n",
        "~~~\n",
        "\n",
        "Compare it to:\n",
        "\n",
        "~~~\n",
        "left, right = right, left\n",
        "~~~\n",
        "\n",
        "Do they always do the same thing?\n",
        "Which do you find easier to read?"
      ]
    },
    {
      "cell_type": "code",
      "metadata": {
        "id": "Midf5XxGdwW2"
      },
      "source": [
        "left = 'L'\n",
        "right = 'R'\n",
        "\n",
        "mytuple = left, right\n",
        "print(mytuple)\n",
        "print(mytuple[0])\n",
        "print(mytuple[1])\n"
      ],
      "execution_count": null,
      "outputs": []
    },
    {
      "cell_type": "code",
      "metadata": {
        "id": "pZYC_TaadwW5"
      },
      "source": [
        "left = 'L'\n",
        "right = 'R'\n",
        "left, right = right, left\n",
        "print(\"left \" + left)\n",
        "print(\"right \" + right)"
      ],
      "execution_count": null,
      "outputs": []
    },
    {
      "cell_type": "code",
      "metadata": {
        "id": "paaq26H6dwW9"
      },
      "source": [
        "left = 'L'\n",
        "right = 'R'\n",
        "\n",
        "temp = left\n",
        "left = right\n",
        "right = temp\n",
        "\n",
        "print(\"left \" + left)\n",
        "print(\"right \" + right)"
      ],
      "execution_count": null,
      "outputs": []
    },
    {
      "cell_type": "markdown",
      "metadata": {
        "id": "ndu4cHhRdwW_"
      },
      "source": [
        "## Other good stuff"
      ]
    },
    {
      "cell_type": "markdown",
      "metadata": {
        "id": "PxieOg9-dwW_"
      },
      "source": [
        "### RegEx\n",
        "\n",
        "RegEx är en speciell funktionalitet som Pyhton importerat och kan vara användbar för att kontrollera hur olika strängar ser ut. För att läsa mer om RegEx i Python se denna [länk](https://docs.python.org/3/howto/regex.html)\n",
        "\n",
        "Om inte annat så kan man bygga massa coola grejer med hjälp av RegEx, men syntaxen är lite krånglig och det tar ett tag att sätta sig in i det. Vill man skapa egna web-crawlers som hämtar data på internet är RegEx nästan obligatoriskt. "
      ]
    },
    {
      "cell_type": "code",
      "metadata": {
        "id": "YssrfIDidwXA"
      },
      "source": [
        "#Exempel 1: Kontrollera att en sträng endast innehåller godkända variabler:\n",
        "import re\n",
        "def is_allowed_specific_char(string):\n",
        "    charRe = re.compile(r'[^a-zA-Z0-9.]')\n",
        "    string = charRe.search(string)\n",
        "    return not bool(string)\n",
        "\n",
        "print(is_allowed_specific_char(\"ABCDEFabcdef123450\")) \n",
        "print(is_allowed_specific_char(\"*&%@#!}{\"))"
      ],
      "execution_count": null,
      "outputs": []
    },
    {
      "cell_type": "code",
      "metadata": {
        "id": "SwedMCPndwXC"
      },
      "source": [
        "#Exempel 2: Hitta de strängar som innehåller en stor bokstav som följs av flera små:\n",
        "import re \n",
        "def match(text):      \n",
        "        # regex \n",
        "        pattern = '[A-Z]+[a-z]+$'   \n",
        "        # searching pattern \n",
        "        if re.search(pattern, text): \n",
        "                return('Yes') \n",
        "        else: \n",
        "                return('No') \n",
        "# Driver Function \n",
        "print(match(\"my name is elin\")) \n",
        "print(match(\"My name is Elin\")) \n",
        "print(match(\"My name is elin\")) \n",
        "print(match(\"my name is Elin\")) \n"
      ],
      "execution_count": null,
      "outputs": []
    },
    {
      "cell_type": "code",
      "metadata": {
        "id": "UcY5ASWxdwXE"
      },
      "source": [
        "#Exempel 3: Hitta alla siffror i en text (attribution to Shwetanshu Rohatgi at GeeksForGeeks for the initial code)\n",
        "\n",
        "import re   \n",
        "# Example String  \n",
        "s = 'My 4 favourite numbers are 77, 10 and 457'\n",
        "  \n",
        "# find all function to select all digit from 0    \n",
        "# to 9 [0-9] for numeric Letter in the String \n",
        "# + for repeats a character one or more times \n",
        "lst = re.findall('[0-9]+', s)     \n",
        "  \n",
        "# Printing of List \n",
        "print(lst) "
      ],
      "execution_count": null,
      "outputs": []
    },
    {
      "cell_type": "code",
      "metadata": {
        "id": "1_KNIPy5dwXH"
      },
      "source": [
        "#Exempel 4: Hitta och plocka ut alla mailadresser i en text och spara dem (attribution to shubhamg199630 for the inital code)\n",
        "\n",
        "import re  \n",
        "  \n",
        "# Example string  \n",
        "s = 'Hello from shubhamg199630@gmail.com to priya@yahoo.com about the meeting @2PM'\n",
        "  \n",
        "# \\S matches any non-whitespace character \n",
        "# @ for as in the Email \n",
        "# + for Repeats a character one or more times \n",
        "lst = re.findall('\\S+@\\S+', s)     \n",
        "  \n",
        "# Printing of List \n",
        "print(lst) \n"
      ],
      "execution_count": null,
      "outputs": []
    },
    {
      "cell_type": "markdown",
      "metadata": {
        "id": "c2zr7lE5AReh"
      },
      "source": [
        ""
      ]
    },
    {
      "cell_type": "code",
      "metadata": {
        "id": "PNYef7hfdwXJ"
      },
      "source": [
        "import re  \n",
        "  \n",
        "# Example string  \n",
        "s = '@ a place called home I am waiting for my lover XXX@gmail.com to arrive. He will bring my best@friend.nuuuu who is @a. small party @my.house'\n",
        "  \n",
        "# \\S matches any non-whitespace character \n",
        "# @ for as in the Email \n",
        "# + for Repeats a character one or more times \n",
        "lst = re.findall('\\S+@\\S+', s)     \n",
        "  \n",
        "# Printing of List \n",
        "print(lst) "
      ],
      "execution_count": null,
      "outputs": []
    }
  ]
}